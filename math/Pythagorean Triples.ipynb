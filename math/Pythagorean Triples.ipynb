{
 "cells": [
  {
   "cell_type": "code",
   "execution_count": null,
   "metadata": {},
   "outputs": [],
   "source": [
    "# a = m^2 - n^2\n",
    "# b = 2mn\n",
    "# c = n^2 + m^2\n",
    "def generate_primative_multiples(N):\n",
    "    triples = set()\n",
    "    for m in range(2, N):\n",
    "        for n in range(1, m):\n",
    "            triples.add((m**2 - n**2, 2*m*n, n**2 + m**2))\n",
    "            \n",
    "    return triples"
   ]
  },
  {
   "cell_type": "code",
   "execution_count": null,
   "metadata": {},
   "outputs": [],
   "source": [
    "# {20,48,52}, {24,45,51}, {30,40,50}\n",
    "res = generate_primative_multiples(10)"
   ]
  },
  {
   "cell_type": "code",
   "execution_count": null,
   "metadata": {},
   "outputs": [],
   "source": [
    "# for (a, b, c) in res:\n",
    "#     for i in range(1, 10):\n",
    "#         print(pow(a*i, 2) + pow(b*i, 2) == pow(c*i, 2))"
   ]
  },
  {
   "cell_type": "markdown",
   "metadata": {},
   "source": [
    "### Fibonacci Boxes\n",
    "[Paper](https://arxiv.org/pdf/0809.4324.pdf)"
   ]
  }
 ],
 "metadata": {
  "kernelspec": {
   "display_name": "Python 3",
   "language": "python",
   "name": "python3"
  },
  "language_info": {
   "codemirror_mode": {
    "name": "ipython",
    "version": 3
   },
   "file_extension": ".py",
   "mimetype": "text/x-python",
   "name": "python",
   "nbconvert_exporter": "python",
   "pygments_lexer": "ipython3",
   "version": "3.7.6"
  }
 },
 "nbformat": 4,
 "nbformat_minor": 4
}
