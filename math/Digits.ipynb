{
 "cells": [
  {
   "cell_type": "code",
   "execution_count": 1,
   "metadata": {},
   "outputs": [],
   "source": [
    "import math\n",
    "from itertools import permutations"
   ]
  },
  {
   "cell_type": "markdown",
   "metadata": {},
   "source": [
    "### Number of Digits"
   ]
  },
  {
   "cell_type": "code",
   "execution_count": 2,
   "metadata": {},
   "outputs": [],
   "source": [
    "def num_digits(n):\n",
    "    return int(math.log10(n))+1"
   ]
  },
  {
   "cell_type": "code",
   "execution_count": 3,
   "metadata": {},
   "outputs": [],
   "source": [
    "def num_digits_2(n):\n",
    "    return len(str(n))"
   ]
  },
  {
   "cell_type": "code",
   "execution_count": 15,
   "metadata": {},
   "outputs": [],
   "source": [
    "def num_digits_3(n):\n",
    "    return math.floor(math.log10(res)) + 1"
   ]
  },
  {
   "cell_type": "code",
   "execution_count": 20,
   "metadata": {},
   "outputs": [],
   "source": [
    "def num_digits_benchmark(func, N):\n",
    "    for i in range(1, N):\n",
    "        func(i)"
   ]
  },
  {
   "cell_type": "code",
   "execution_count": 22,
   "metadata": {},
   "outputs": [
    {
     "name": "stdout",
     "output_type": "stream",
     "text": [
      "CPU times: user 209 ms, sys: 0 ns, total: 209 ms\n",
      "Wall time: 208 ms\n"
     ]
    }
   ],
   "source": [
    "%time num_digits_benchmark(num_digits, 1_000_000)"
   ]
  },
  {
   "cell_type": "code",
   "execution_count": 23,
   "metadata": {},
   "outputs": [
    {
     "name": "stdout",
     "output_type": "stream",
     "text": [
      "CPU times: user 203 ms, sys: 3.98 ms, total: 207 ms\n",
      "Wall time: 206 ms\n"
     ]
    }
   ],
   "source": [
    "%time num_digits_benchmark(num_digits_2, 1_000_000)"
   ]
  },
  {
   "cell_type": "code",
   "execution_count": 24,
   "metadata": {},
   "outputs": [
    {
     "name": "stdout",
     "output_type": "stream",
     "text": [
      "CPU times: user 246 ms, sys: 0 ns, total: 246 ms\n",
      "Wall time: 245 ms\n"
     ]
    }
   ],
   "source": [
    "%time num_digits_benchmark(num_digits_3, 1_000_000)"
   ]
  },
  {
   "cell_type": "markdown",
   "metadata": {},
   "source": [
    "### Kth Digit of N"
   ]
  },
  {
   "cell_type": "code",
   "execution_count": 28,
   "metadata": {},
   "outputs": [],
   "source": [
    "def kth_digit_1(k, n):\n",
    "    return str(n)[k]"
   ]
  },
  {
   "cell_type": "code",
   "execution_count": 1,
   "metadata": {},
   "outputs": [],
   "source": [
    "def kth_digit_2(k, n):\n",
    "    return (n // (10**k)) % 10"
   ]
  },
  {
   "cell_type": "code",
   "execution_count": 2,
   "metadata": {},
   "outputs": [
    {
     "data": {
      "text/plain": [
       "2"
      ]
     },
     "execution_count": 2,
     "metadata": {},
     "output_type": "execute_result"
    }
   ],
   "source": [
    "kth_digit_2(2, 200)"
   ]
  },
  {
   "cell_type": "code",
   "execution_count": 30,
   "metadata": {},
   "outputs": [],
   "source": [
    "def kth_digit_benchmark(func, N):\n",
    "    for i in range(1, N):\n",
    "        func(0, i)"
   ]
  },
  {
   "cell_type": "code",
   "execution_count": 32,
   "metadata": {},
   "outputs": [
    {
     "name": "stdout",
     "output_type": "stream",
     "text": [
      "CPU times: user 195 ms, sys: 0 ns, total: 195 ms\n",
      "Wall time: 194 ms\n"
     ]
    }
   ],
   "source": [
    "%time kth_digit_benchmark(kth_digit_1, 1_000_000)"
   ]
  },
  {
   "cell_type": "code",
   "execution_count": 33,
   "metadata": {},
   "outputs": [
    {
     "name": "stdout",
     "output_type": "stream",
     "text": [
      "CPU times: user 121 ms, sys: 3.96 ms, total: 125 ms\n",
      "Wall time: 124 ms\n"
     ]
    }
   ],
   "source": [
    "%time kth_digit_benchmark(kth_digit_2, 1_000_000)"
   ]
  },
  {
   "cell_type": "markdown",
   "metadata": {},
   "source": [
    "### Pandigital"
   ]
  },
  {
   "cell_type": "code",
   "execution_count": 8,
   "metadata": {},
   "outputs": [],
   "source": [
    "def is_pandigital_1(n):\n",
    "    d = {1: ['1'],\n",
    "         2: ['1', '2'],\n",
    "         3: ['1', '2', '3'],\n",
    "         4: ['1', '2', '3', '4'],\n",
    "         5: ['1', '2', '3', '4', '5'],\n",
    "         6: ['1', '2', '3', '4', '5', '6'],\n",
    "         7: ['1', '2', '3', '4', '5', '6', '7'],\n",
    "         8: ['1', '2', '3', '4', '5', '6', '7', '8'],\n",
    "         9: ['1', '2', '3', '4', '5', '6', '7', '8', '9']}\n",
    "    \n",
    "    s = str(n)\n",
    "    l = len(s)\n",
    "    return sorted(s) == d[l]"
   ]
  },
  {
   "cell_type": "code",
   "execution_count": 9,
   "metadata": {},
   "outputs": [],
   "source": [
    "def is_pandigital_2(n):\n",
    "    d = {1: {'1'},\n",
    "         2: {'1', '2'},\n",
    "         3: {'1', '2', '3'},\n",
    "         4: {'1', '2', '3', '4'},\n",
    "         5: {'1', '2', '3', '4', '5'},\n",
    "         6: {'1', '2', '3', '4', '5', '6'},\n",
    "         7: {'1', '2', '3', '4', '5', '6', '7'},\n",
    "         8: {'1', '2', '3', '4', '5', '6', '7', '8'},\n",
    "         9: {'1', '2', '3', '4', '5', '6', '7', '8', '9'}}\n",
    "    s = str(n)\n",
    "    as_set = set(s)\n",
    "    \n",
    "    if len(s) != len(as_set):\n",
    "        return False\n",
    "    \n",
    "    l = len(s)\n",
    "    return as_set == d[l]"
   ]
  },
  {
   "cell_type": "code",
   "execution_count": 10,
   "metadata": {},
   "outputs": [
    {
     "data": {
      "text/plain": [
       "(362880, 362880)"
      ]
     },
     "execution_count": 10,
     "metadata": {},
     "output_type": "execute_result"
    }
   ],
   "source": [
    "def all_pandigitals(N):\n",
    "    s = [str(i) for i in range(1, N + 1)]\n",
    "    return [int(\"\".join(p)) for p in permutations(s)]\n",
    "\n",
    "len(all_pandigitals(9)), math.factorial(9)"
   ]
  },
  {
   "cell_type": "code",
   "execution_count": 11,
   "metadata": {},
   "outputs": [],
   "source": [
    "def pandigital_benchmark(method, N):\n",
    "    s, e = \"1e{}\".format(N-1), \"1e{}\".format(N)\n",
    "    start = int(eval(s))\n",
    "    end = int(eval(e))\n",
    "    pandigital_nums = [i for i in range(start, end) if method(i)]\n",
    "    assert len(pandigital_nums) == math.factorial(N), \"Misclassified pandigital num\""
   ]
  },
  {
   "cell_type": "code",
   "execution_count": 12,
   "metadata": {},
   "outputs": [
    {
     "name": "stdout",
     "output_type": "stream",
     "text": [
      "CPU times: user 1.07 s, sys: 0 ns, total: 1.07 s\n",
      "Wall time: 1.07 s\n"
     ]
    }
   ],
   "source": [
    "%time pandigital_benchmark(is_pandigital_1, 6)"
   ]
  },
  {
   "cell_type": "code",
   "execution_count": 13,
   "metadata": {},
   "outputs": [
    {
     "name": "stdout",
     "output_type": "stream",
     "text": [
      "CPU times: user 1.54 s, sys: 0 ns, total: 1.54 s\n",
      "Wall time: 1.54 s\n"
     ]
    }
   ],
   "source": [
    "%time pandigital_benchmark(is_pandigital_2, 6)"
   ]
  },
  {
   "cell_type": "markdown",
   "metadata": {},
   "source": [
    "### Digit Sums"
   ]
  },
  {
   "cell_type": "code",
   "execution_count": 36,
   "metadata": {},
   "outputs": [],
   "source": [
    "def num_digits(n):\n",
    "    return int(math.log10(n))+1\n",
    "\n",
    "def kth_digit_2(k, n):\n",
    "    return n // 10**k % 10\n",
    "\n",
    "def digit_sum_1(n):\n",
    "    digit_sum = 0\n",
    "    for k in range(num_digits(n)):\n",
    "        digit_sum += kth_digit_2(k, n)\n",
    "    \n",
    "    return digit_sum"
   ]
  },
  {
   "cell_type": "code",
   "execution_count": 39,
   "metadata": {},
   "outputs": [],
   "source": [
    "def digit_sum_2(n):\n",
    "    digit_sum = 0\n",
    "    for c in str(n):\n",
    "        digit_sum += int(c)\n",
    "    return digit_sum"
   ]
  },
  {
   "cell_type": "code",
   "execution_count": 40,
   "metadata": {},
   "outputs": [],
   "source": [
    "def digit_sum_benchmark(func, N):\n",
    "    for n in range(1, N):\n",
    "        func(n)"
   ]
  },
  {
   "cell_type": "code",
   "execution_count": 41,
   "metadata": {},
   "outputs": [
    {
     "name": "stdout",
     "output_type": "stream",
     "text": [
      "CPU times: user 1.99 s, sys: 0 ns, total: 1.99 s\n",
      "Wall time: 1.99 s\n"
     ]
    }
   ],
   "source": [
    "%time digit_sum_benchmark(digit_sum_1, 1_000_000)"
   ]
  },
  {
   "cell_type": "code",
   "execution_count": 42,
   "metadata": {},
   "outputs": [
    {
     "name": "stdout",
     "output_type": "stream",
     "text": [
      "CPU times: user 1.01 s, sys: 0 ns, total: 1.01 s\n",
      "Wall time: 1.01 s\n"
     ]
    }
   ],
   "source": [
    "%time digit_sum_benchmark(digit_sum_2, 1_000_000)"
   ]
  }
 ],
 "metadata": {
  "kernelspec": {
   "display_name": "Python 3",
   "language": "python",
   "name": "python3"
  },
  "language_info": {
   "codemirror_mode": {
    "name": "ipython",
    "version": 3
   },
   "file_extension": ".py",
   "mimetype": "text/x-python",
   "name": "python",
   "nbconvert_exporter": "python",
   "pygments_lexer": "ipython3",
   "version": "3.8.8"
  }
 },
 "nbformat": 4,
 "nbformat_minor": 4
}
