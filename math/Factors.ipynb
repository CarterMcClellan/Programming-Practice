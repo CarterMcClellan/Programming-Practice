{
 "cells": [
  {
   "cell_type": "markdown",
   "metadata": {},
   "source": [
    "### Primes Functions"
   ]
  },
  {
   "cell_type": "code",
   "execution_count": 8,
   "metadata": {},
   "outputs": [],
   "source": [
    "import numpy as np"
   ]
  },
  {
   "cell_type": "code",
   "execution_count": 9,
   "metadata": {},
   "outputs": [],
   "source": [
    "def eratosthenes_sieve_v2(N, include_one=False):\n",
    "    # main optimization of v2 use a np array for broadcasted indexing\n",
    "    l = np.ones(N, dtype=np.bool)\n",
    "    primes = set([1])\n",
    "    \n",
    "    # return all multiples of n, less than C\n",
    "    find_multiples = lambda n, C : [i*n-1 for i in range(1, C//n +1)]\n",
    "    for val in range(2, N+1):\n",
    "        if l[val-1]:\n",
    "            multiples = find_multiples(val, N)\n",
    "            l[multiples] = False\n",
    "            primes.add(val)\n",
    "            \n",
    "    if not include_one:\n",
    "        primes.remove(1)\n",
    "    return primes"
   ]
  },
  {
   "cell_type": "code",
   "execution_count": 10,
   "metadata": {},
   "outputs": [],
   "source": [
    "def prime_factorization_v3(n, known_primes):\n",
    "    prime_factors = []\n",
    "    for prime in known_primes:\n",
    "        tmp = []\n",
    "        if n == 1: break\n",
    "        while n % prime == 0:\n",
    "            n = n / prime\n",
    "            tmp.append(prime)\n",
    "        if tmp:\n",
    "            prime_factors.append(tmp)\n",
    "    return prime_factors"
   ]
  },
  {
   "cell_type": "markdown",
   "metadata": {},
   "source": [
    "### Number of Divisors"
   ]
  },
  {
   "cell_type": "code",
   "execution_count": 11,
   "metadata": {},
   "outputs": [],
   "source": [
    "# start by finding all the prime factors\n",
    "# then fill in all the numbers in between\n",
    "def num_(N, known_primes):\n",
    "    prime_factors = prime_factorization_v3(N, known_primes)\n",
    "    s = 1\n",
    "    for p in prime_factors:\n",
    "        s *= (len(p) + 1)\n",
    "    return s"
   ]
  },
  {
   "cell_type": "code",
   "execution_count": 13,
   "metadata": {},
   "outputs": [
    {
     "data": {
      "text/plain": [
       "12"
      ]
     },
     "execution_count": 13,
     "metadata": {},
     "output_type": "execute_result"
    }
   ],
   "source": [
    "N = 220\n",
    "known_primes = eratosthenes_sieve_v2(N)\n",
    "num_divisors(N, known_primes)"
   ]
  },
  {
   "cell_type": "markdown",
   "metadata": {},
   "source": [
    "### Factors"
   ]
  },
  {
   "cell_type": "code",
   "execution_count": 24,
   "metadata": {},
   "outputs": [],
   "source": [
    "from itertools import product, combinations, permutations"
   ]
  },
  {
   "cell_type": "code",
   "execution_count": 28,
   "metadata": {},
   "outputs": [
    {
     "data": {
      "text/plain": [
       "[(2, 5), (2, 5)]"
      ]
     },
     "execution_count": 28,
     "metadata": {},
     "output_type": "execute_result"
    }
   ],
   "source": [
    "# N = 220\n",
    "# known_primes = eratosthenes_sieve_v2(N)\n",
    "# prime_factors = prime_factorization_v3(N, known_primes)\n",
    "# prime_factors\n",
    "l1 = [2, 2]\n",
    "l2 = [5]\n",
    "list(product(l1, l2))"
   ]
  }
 ],
 "metadata": {
  "kernelspec": {
   "display_name": "Python 3",
   "language": "python",
   "name": "python3"
  },
  "language_info": {
   "codemirror_mode": {
    "name": "ipython",
    "version": 3
   },
   "file_extension": ".py",
   "mimetype": "text/x-python",
   "name": "python",
   "nbconvert_exporter": "python",
   "pygments_lexer": "ipython3",
   "version": "3.7.6"
  }
 },
 "nbformat": 4,
 "nbformat_minor": 2
}
