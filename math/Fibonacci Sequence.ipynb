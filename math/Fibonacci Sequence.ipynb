{
 "cells": [
  {
   "cell_type": "code",
   "execution_count": 16,
   "metadata": {},
   "outputs": [
    {
     "data": {
      "text/plain": [
       "[55, 89]"
      ]
     },
     "execution_count": 16,
     "metadata": {},
     "output_type": "execute_result"
    }
   ],
   "source": [
    "def fibo_dp(N):\n",
    "    fibo_table = [1, 1] + [0] * (N)\n",
    "    for i in range(N+1):\n",
    "        fibo_table[i+1] = fibo_table[i] + fibo_table[i - 1]\n",
    "    return fibo_table\n",
    "\n",
    "fibo_eg = fibo_dp(100)\n",
    "fibo_eg[9:11]"
   ]
  },
  {
   "cell_type": "markdown",
   "metadata": {},
   "source": [
    "### Fibo + Golden Ratio\n",
    "Observation:\n",
    "\n",
    "$$\\lim_{n \\to \\infty} \\frac{F_n}{F_{n-1}} \\to \\varphi$$\n",
    "\n",
    "Note: The Fibonacci is a second order linear system\n",
    "\n",
    "$$F_{n} = F_{n-1} + F_{n-2}$$\n",
    "\n",
    "Thus we assume the system has a solution of the form $F_n = \\lambda^n$. Substitute\n",
    "\n",
    "\n",
    "$$\\lambda^n = \\lambda^{n-1} + \\lambda^{n-1} \\to \\lambda^2 = \\lambda + 1 -> \\lambda^2 - \\lambda - 1 = 0$$\n",
    "\n",
    "$$\\lambda = \\frac{1 + \\sqrt{5}}{2}, \\frac{1 - \\sqrt{5}}{2} = \\varphi, \\phi$$\n",
    "\n",
    "$$F_{n} = c_1 \\cdot \\varphi^n + c_2 \\cdot \\phi^n$$\n",
    "\n",
    "Now we use our initial conditions. $F_0 = 0, F_1 = 1$\n",
    "\n",
    "$$F_0 = 0 = c_1 + c_2$$\n",
    "$$F_1 = 1 = c_1 \\cdot \\varphi + c_2 \\cdot \\phi$$\n",
    "\n",
    "This yields $c_1 = \\frac{1}{\\sqrt{5}}$, $c_2 = \\frac{-1}{\\sqrt{5}}$ and so \n",
    "$$F_n = \\frac{\\varphi^n - \\phi^n}{\\sqrt{5}}$$\n",
    "\n",
    "This is known as Binet's Formula"
   ]
  },
  {
   "cell_type": "code",
   "execution_count": 12,
   "metadata": {},
   "outputs": [],
   "source": [
    "import math"
   ]
  },
  {
   "cell_type": "code",
   "execution_count": 24,
   "metadata": {},
   "outputs": [],
   "source": [
    "def binet_naive(n):\n",
    "    sqrt_5 = math.sqrt(5)\n",
    "    golden_ratio = (1 + sqrt_5) / 2\n",
    "    golden_ratio_conjugate = (1 - sqrt_5) / 2\n",
    "    \n",
    "    return (pow(golden_ratio, n) - pow(golden_ratio_conjugate, n)) / sqrt_5"
   ]
  },
  {
   "cell_type": "code",
   "execution_count": 25,
   "metadata": {},
   "outputs": [],
   "source": [
    "def binet_apprx(n):\n",
    "    # because the left term shrinks rapidly as N increases we can simplify by dropping it\n",
    "    sqrt_5 = math.sqrt(5)\n",
    "    golden_ratio = (1 + sqrt_5) / 2\n",
    "    \n",
    "    return (pow(golden_ratio, n)) / sqrt_5"
   ]
  },
  {
   "cell_type": "code",
   "execution_count": 26,
   "metadata": {},
   "outputs": [
    {
     "data": {
      "text/plain": [
       "(55.000000000000014, 55.00363612324743)"
      ]
     },
     "execution_count": 26,
     "metadata": {},
     "output_type": "execute_result"
    }
   ],
   "source": [
    "binet_naive(10), binet_apprx(10)"
   ]
  },
  {
   "cell_type": "markdown",
   "metadata": {},
   "source": [
    "### Improvements to Precision\n",
    "The above basically sucks, root 5 is irrational and we use it all over the place in our calculation. For larger computation that means we are going to be way off."
   ]
  },
  {
   "cell_type": "markdown",
   "metadata": {},
   "source": [
    "### Number Digits\n",
    "\n",
    "The number of digits in a given number is between 2 powers of 10 $10^i < n < 10^{i+1} - 1$, assume we know $n$ and are only trying to solve for $i$, we can take the $\\log_{10}$ of each side and find \n",
    "$$i < \\log_{10} n < i + 1$$\n",
    "\n",
    "$$\\log_{10} \\frac{\\varphi^n}{\\sqrt{5}}$$"
   ]
  },
  {
   "cell_type": "code",
   "execution_count": 22,
   "metadata": {},
   "outputs": [],
   "source": [
    "import math"
   ]
  },
  {
   "cell_type": "code",
   "execution_count": 31,
   "metadata": {},
   "outputs": [
    {
     "data": {
      "text/plain": [
       "21"
      ]
     },
     "execution_count": 31,
     "metadata": {},
     "output_type": "execute_result"
    }
   ],
   "source": [
    "def num_digits_fibo(n):\n",
    "    sqrt_5 = math.sqrt(5)\n",
    "    golden_ratio = (1 + sqrt_5) / 2\n",
    "    return math.ceil(n*math.log10(golden_ratio) - 1/2*math.log10(sqrt_5))\n",
    "\n",
    "num_digits_fibo(100)"
   ]
  }
 ],
 "metadata": {
  "kernelspec": {
   "display_name": "Python 3",
   "language": "python",
   "name": "python3"
  },
  "language_info": {
   "codemirror_mode": {
    "name": "ipython",
    "version": 3
   },
   "file_extension": ".py",
   "mimetype": "text/x-python",
   "name": "python",
   "nbconvert_exporter": "python",
   "pygments_lexer": "ipython3",
   "version": "3.7.6"
  }
 },
 "nbformat": 4,
 "nbformat_minor": 2
}
