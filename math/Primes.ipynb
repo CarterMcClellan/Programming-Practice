{
 "cells": [
  {
   "cell_type": "code",
   "execution_count": 39,
   "metadata": {},
   "outputs": [],
   "source": [
    "# Standard Lib\n",
    "import math\n",
    "from time import time\n",
    "from collections import Counter\n",
    "\n",
    "# Advanced Array Manipulation\n",
    "import numpy as np"
   ]
  },
  {
   "cell_type": "markdown",
   "metadata": {},
   "source": [
    "# Primes"
   ]
  },
  {
   "cell_type": "markdown",
   "metadata": {},
   "source": [
    "## Sieves\n",
    "**Eratosthenes Primality**\n",
    "- A number N is prime, if all primes less than N do not divide evenly into N\n",
    " \n",
    "**Pf by Contradiction**\n",
    "- Assume N is prime, and there exists a prime p which divides N. Trivially if a number exists which divides N then N cannot be prime. Contradicting our assumption"
   ]
  },
  {
   "cell_type": "code",
   "execution_count": 3,
   "metadata": {},
   "outputs": [],
   "source": [
    "def eratosthenes_sieve(n):\n",
    "    \"\"\" find all primes less than n \"\"\"\n",
    "    known_primes = set()\n",
    "    for i in range(2, n+1):\n",
    "        if eratosthenes_primality(known_primes, i):\n",
    "            known_primes.add(i)\n",
    "    known_primes.add(1)\n",
    "    return known_primes\n",
    "            \n",
    "def eratosthenes_primality(known_primes, i):\n",
    "    return all(i % p != 0 for p in known_primes)"
   ]
  },
  {
   "cell_type": "code",
   "execution_count": 5,
   "metadata": {},
   "outputs": [],
   "source": [
    "primes = eratosthenes_sieve(100)"
   ]
  },
  {
   "cell_type": "markdown",
   "metadata": {},
   "source": [
    "### Erathoneses Sieve v2\n",
    "Note: The above sieve knows 2 is prime but still wastes time checking all its mutiples\n",
    "$$4, 6, 8, 10 \\ldots $$\n",
    "The easiest way to skip this? Calculate all the multiples of 2 less than N, and mark them as visited."
   ]
  },
  {
   "cell_type": "code",
   "execution_count": 4,
   "metadata": {},
   "outputs": [],
   "source": [
    "def eratosthenes_sieve_v2(N, include_one=False):\n",
    "    # main optimization of v2 use a np array for broadcasted indexing\n",
    "    l = np.ones(N, dtype=np.bool)\n",
    "    primes = set([1])\n",
    "    \n",
    "    # return all multiples of n, less than C\n",
    "    find_multiples = lambda n, C : [i*n-1 for i in range(1, C//n +1)]\n",
    "    for val in range(2, N+1):\n",
    "        if l[val-1]:\n",
    "            multiples = find_multiples(val, N)\n",
    "            l[multiples] = False\n",
    "            primes.add(val)\n",
    "            \n",
    "    if not include_one:\n",
    "        primes.remove(1)\n",
    "    return primes"
   ]
  },
  {
   "cell_type": "code",
   "execution_count": 5,
   "metadata": {},
   "outputs": [],
   "source": [
    "primes = eratosthenes_sieve_v2(100)"
   ]
  },
  {
   "cell_type": "markdown",
   "metadata": {},
   "source": [
    "### Erasthonese Sieve v3\n",
    "\n",
    "Suppose we have a sequence from 1 to 100 and we want to sieve away all composite numbers. We only need to eliminate all multiples of 1 through sqrt(100) (10). Every number remaining will be a prime.\n",
    "\n",
    "Why?\n",
    "\n",
    "Assume there is composite number remaining. To have remain it would have to be a product of 2 things which are both larger than 10. If either of its factors were less than or equal to 10 then it would have already been eliminated. Naturally this is a contradiction as the product of 2 terms larger than 10 would be larger than 100, thus being outside the range of terms we need to sieve"
   ]
  },
  {
   "cell_type": "code",
   "execution_count": 114,
   "metadata": {},
   "outputs": [],
   "source": [
    "def eratosthenes_sieve_v3(N, include_one=False, sorted_list=False):\n",
    "    l = np.ones(N, dtype=np.bool)\n",
    "    \n",
    "    find_multiples = lambda n, C : [i*n-1 for i in range(2, C//n +1)]\n",
    "    upper_bound = math.ceil(math.sqrt(N))\n",
    "    for val in range(2, upper_bound+1):\n",
    "        if l[val-1]:\n",
    "            multiples = find_multiples(val, N)\n",
    "            l[multiples] = False\n",
    "            \n",
    "    primes = set((np.nonzero(l)[0] + 1).tolist())\n",
    "    if not include_one:\n",
    "        primes.remove(1)\n",
    "    \n",
    "    if sorted_list:\n",
    "        return sorted(list(primes))\n",
    "    return primes"
   ]
  },
  {
   "cell_type": "code",
   "execution_count": 115,
   "metadata": {},
   "outputs": [
    {
     "data": {
      "text/plain": [
       "int"
      ]
     },
     "execution_count": 115,
     "metadata": {},
     "output_type": "execute_result"
    }
   ],
   "source": [
    "primes = eratosthenes_sieve_v3(10)"
   ]
  },
  {
   "cell_type": "markdown",
   "metadata": {},
   "source": [
    "## Prime Factors"
   ]
  },
  {
   "cell_type": "code",
   "execution_count": 8,
   "metadata": {},
   "outputs": [],
   "source": [
    "def prime_factors(n):\n",
    "    \"\"\" find all prime factors of a number n\"\"\"\n",
    "    known_primes = set()\n",
    "    prime_factors = set()\n",
    "    for i in range(2, n+1):\n",
    "        if n in known_primes or n == 1.: \n",
    "            break\n",
    "        if eratosthenes_primality(known_primes, i):\n",
    "            known_primes.add(i)\n",
    "            if n % i == 0:\n",
    "                n = n / i\n",
    "                prime_factors.add(i)\n",
    "                \n",
    "    return prime_factors"
   ]
  },
  {
   "cell_type": "code",
   "execution_count": 9,
   "metadata": {},
   "outputs": [],
   "source": [
    "def prime_factors_v2(n, prime_sieve):\n",
    "    known_primes = prime_sieve(n)\n",
    "    prime_factors = set()\n",
    "    for prime in known_primes:\n",
    "        if n % prime == 0:\n",
    "            n /= prime\n",
    "            prime_factors.add(prime)\n",
    "    return prime_factors"
   ]
  },
  {
   "cell_type": "code",
   "execution_count": 10,
   "metadata": {},
   "outputs": [
    {
     "data": {
      "text/plain": [
       "{2, 3, 7}"
      ]
     },
     "execution_count": 10,
     "metadata": {},
     "output_type": "execute_result"
    }
   ],
   "source": [
    "prime_factors(42)"
   ]
  },
  {
   "cell_type": "code",
   "execution_count": 11,
   "metadata": {},
   "outputs": [
    {
     "data": {
      "text/plain": [
       "{2, 3, 7}"
      ]
     },
     "execution_count": 11,
     "metadata": {},
     "output_type": "execute_result"
    }
   ],
   "source": [
    "prime_factors_v2(42, eratosthenes_sieve_v2)"
   ]
  },
  {
   "cell_type": "markdown",
   "metadata": {},
   "source": [
    "### Prime Factorization"
   ]
  },
  {
   "cell_type": "code",
   "execution_count": 12,
   "metadata": {},
   "outputs": [],
   "source": [
    "def prime_factorization(n):\n",
    "    if n == 1: return [1]\n",
    "    known_primes = set()\n",
    "    prime_factors = []\n",
    "    for i in range(2, n+1):\n",
    "        # if we have reduced our original number to 1\n",
    "        # we exit, factorization complete\n",
    "        if n == 1.: \n",
    "            break\n",
    "        \n",
    "        # if n is prime\n",
    "        if eratosthenes_primality(known_primes, i):\n",
    "            known_primes.add(i)\n",
    "            tmp = []\n",
    "            while n % i == 0:\n",
    "                n = n / i\n",
    "                tmp.append(i)\n",
    "            if tmp:\n",
    "                prime_factors.append(tmp)\n",
    "                \n",
    "    return prime_factors\n",
    "\n",
    "def eratosthenes_primality(known_primes, i):\n",
    "    return all(i % p != 0 for p in known_primes)"
   ]
  },
  {
   "cell_type": "code",
   "execution_count": 13,
   "metadata": {},
   "outputs": [],
   "source": [
    "def prime_factorization_v2(n, prime_sieve):\n",
    "    known_primes = prime_sieve(n)\n",
    "    prime_factors = []\n",
    "    for prime in known_primes:\n",
    "        tmp = []\n",
    "        if n == 1: break\n",
    "        while n % prime == 0:\n",
    "            n = n / prime\n",
    "            tmp.append(prime)\n",
    "        if tmp:\n",
    "            prime_factors.append(tmp)\n",
    "    return prime_factors"
   ]
  },
  {
   "cell_type": "code",
   "execution_count": 14,
   "metadata": {},
   "outputs": [],
   "source": [
    "def prime_factorization_v3(n, known_primes):\n",
    "    prime_factors = []\n",
    "    for prime in known_primes:\n",
    "        tmp = []\n",
    "        if n == 1: break\n",
    "        while n % prime == 0:\n",
    "            n = n / prime\n",
    "            tmp.append(prime)\n",
    "        if tmp:\n",
    "            prime_factors.append(tmp)\n",
    "    return prime_factors"
   ]
  },
  {
   "cell_type": "code",
   "execution_count": 22,
   "metadata": {},
   "outputs": [
    {
     "data": {
      "text/plain": [
       "[[2, 2, 2, 2], [3], [5, 5]]"
      ]
     },
     "execution_count": 22,
     "metadata": {},
     "output_type": "execute_result"
    }
   ],
   "source": [
    "prime_factorization_v2(1200, eratosthenes_sieve_v2)"
   ]
  },
  {
   "cell_type": "code",
   "execution_count": 21,
   "metadata": {},
   "outputs": [
    {
     "data": {
      "text/plain": [
       "[[2, 2, 2, 2], [3], [5, 5]]"
      ]
     },
     "execution_count": 21,
     "metadata": {},
     "output_type": "execute_result"
    }
   ],
   "source": [
    "prime_factorization(1200)"
   ]
  }
 ],
 "metadata": {
  "kernelspec": {
   "display_name": "Python 3",
   "language": "python",
   "name": "python3"
  },
  "language_info": {
   "codemirror_mode": {
    "name": "ipython",
    "version": 3
   },
   "file_extension": ".py",
   "mimetype": "text/x-python",
   "name": "python",
   "nbconvert_exporter": "python",
   "pygments_lexer": "ipython3",
   "version": "3.7.6"
  }
 },
 "nbformat": 4,
 "nbformat_minor": 2
}
