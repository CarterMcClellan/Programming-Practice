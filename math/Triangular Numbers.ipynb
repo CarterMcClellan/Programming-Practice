{
 "cells": [
  {
   "cell_type": "code",
   "execution_count": 1,
   "metadata": {},
   "outputs": [],
   "source": [
    "# This is the Naive Approach\n",
    "def triangle_sum(n):\n",
    "    return int(n*(n+1)/2)\n",
    "\n",
    "def triangular_numbers(N):\n",
    "    return (triangle_sum(i) for i in range(1, N+1))\n",
    "\n",
    "# use the fact that\n",
    "# triangle_num_{i + 1} - triangle_num_{i} = n + 1\n",
    "def triangular_numbers_v2(N):\n",
    "    curr = 1\n",
    "    for n in range(1, N + 1):\n",
    "        yield curr\n",
    "        curr += n + 1\n",
    "\n",
    "def is_square(apositiveint):\n",
    "    x = apositiveint // 2\n",
    "    seen = set([x])\n",
    "    while x * x != apositiveint:\n",
    "        x = (x + (apositiveint // x)) // 2\n",
    "        if x in seen: return False\n",
    "        seen.add(x)\n",
    "    return True\n",
    "\n",
    "# t = (n)*(n+1)/2\n",
    "# 2*t = n**2 + n\n",
    "def triangular_conditional(N):\n",
    "    return is_square(8*N + 1)\n"
   ]
  },
  {
   "cell_type": "code",
   "execution_count": 2,
   "metadata": {},
   "outputs": [
    {
     "data": {
      "text/plain": [
       "([1, 3, 6, 10, 15, 21, 28, 36, 45, 55, 66, 78, 91],\n",
       " [1, 3, 6, 10, 15, 21, 28, 36, 45, 55, 66, 78, 91])"
      ]
     },
     "execution_count": 2,
     "metadata": {},
     "output_type": "execute_result"
    }
   ],
   "source": [
    "[i for i in range(1, 100) if triangular_conditional(i)], [i for i in triangular_numbers_v2(13)]"
   ]
  }
 ],
 "metadata": {
  "kernelspec": {
   "display_name": "Python 3",
   "language": "python",
   "name": "python3"
  },
  "language_info": {
   "codemirror_mode": {
    "name": "ipython",
    "version": 3
   },
   "file_extension": ".py",
   "mimetype": "text/x-python",
   "name": "python",
   "nbconvert_exporter": "python",
   "pygments_lexer": "ipython3",
   "version": "3.7.6"
  }
 },
 "nbformat": 4,
 "nbformat_minor": 4
}
