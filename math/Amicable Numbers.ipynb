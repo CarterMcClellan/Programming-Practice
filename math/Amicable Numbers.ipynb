{
 "cells": [
  {
   "cell_type": "markdown",
   "metadata": {},
   "source": [
    "### Amicable Numbers\n",
    "`sum_of_factors(a) = b` and `sum_of_factors(b) = a`, then a and b are amicable "
   ]
  },
  {
   "cell_type": "code",
   "execution_count": 1,
   "metadata": {},
   "outputs": [],
   "source": [
    "def sum_of_factors_naive(n):\n",
    "    res = 0\n",
    "    # return the sum of factors\n",
    "    for i in range(1, n):\n",
    "        if n % i == 0:\n",
    "            res += i\n",
    "    return res "
   ]
  },
  {
   "cell_type": "code",
   "execution_count": 2,
   "metadata": {},
   "outputs": [
    {
     "data": {
      "text/plain": [
       "220"
      ]
     },
     "execution_count": 2,
     "metadata": {},
     "output_type": "execute_result"
    }
   ],
   "source": [
    "sum_of_factors_naive(284)"
   ]
  },
  {
   "cell_type": "markdown",
   "metadata": {},
   "source": [
    "### Reducing the upper bound\n",
    "Similar to sieve theory we only need to check for factors up to $\\sqrt{n}$. Why?\n",
    "\n",
    "If $n$ is divisible by $i$ add its conjugate, $n/i$. By this tactic we only need to check up to $\\sqrt{n}$ anything greater would have already been included."
   ]
  },
  {
   "cell_type": "code",
   "execution_count": 3,
   "metadata": {},
   "outputs": [],
   "source": [
    "import math"
   ]
  },
  {
   "cell_type": "code",
   "execution_count": 16,
   "metadata": {},
   "outputs": [],
   "source": [
    "def sum_of_factors_optimized(n):\n",
    "    res = 0\n",
    "    upper_bd = math.sqrt(n)\n",
    "    \n",
    "    # if its a perfect square make sure\n",
    "    # the same root is not counted twice\n",
    "    if upper_bd == int(upper_bd):\n",
    "        res += upper_bd\n",
    "        upper_bd = int(upper_bd)\n",
    "    \n",
    "    # else make sure the upper bound is high \n",
    "    # enough\n",
    "    else:\n",
    "        upper_bd = int(upper_bd) + 1\n",
    "    \n",
    "    for i in range(2, upper_bd):\n",
    "        if n % i == 0:\n",
    "            res += (i + n//i)\n",
    "    return int(res) + 1"
   ]
  },
  {
   "cell_type": "markdown",
   "metadata": {},
   "source": [
    "### Amicable Pairs "
   ]
  },
  {
   "cell_type": "code",
   "execution_count": 23,
   "metadata": {},
   "outputs": [
    {
     "data": {
      "text/plain": [
       "{(0, 0),\n",
       " (1, 2),\n",
       " (6, 6),\n",
       " (28, 28),\n",
       " (220, 284),\n",
       " (496, 496),\n",
       " (1184, 1210),\n",
       " (2620, 2924),\n",
       " (5020, 5564),\n",
       " (6232, 6368),\n",
       " (8128, 8128),\n",
       " (10744, 10856),\n",
       " (12285, 14595),\n",
       " (17296, 18416),\n",
       " (63020, 76084),\n",
       " (66928, 66992),\n",
       " (67095, 71145),\n",
       " (69615, 87633),\n",
       " (79750, 88730)}"
      ]
     },
     "execution_count": 23,
     "metadata": {},
     "output_type": "execute_result"
    }
   ],
   "source": [
    "# what is the simplest way to represent a cycle?\n",
    "# maybe a graph? each integer has exactly one outgoing edge\n",
    "# lets start with a list [1, ..., ], if index i = j, that implies\n",
    "# the amicable number associated with i is j\n",
    "def amicable_pair_search(N):\n",
    "    cycle_table = [0] * (4*N) # 4*N for redundancy\n",
    "    # if we wanted to be more scientific we could compute\n",
    "    # this bound by looking at the most composite numbers\n",
    "    # less than N\n",
    "    \n",
    "    amicable_pairs = set()\n",
    "    \n",
    "    # generate amicable table\n",
    "    for i in range(1, N+1):\n",
    "        cycle_table[i] = sum_of_factors_optimized(i)\n",
    "    \n",
    "    # check for cycles\n",
    "    for idx, val in enumerate(cycle_table):\n",
    "        if idx == cycle_table[val]:\n",
    "            pairing = tuple(sorted((idx, val)))\n",
    "            amicable_pairs.add(pairing)\n",
    "    \n",
    "    return amicable_pairs\n",
    "            \n",
    "amicable_pair_search(100000)"
   ]
  }
 ],
 "metadata": {
  "kernelspec": {
   "display_name": "Python 3",
   "language": "python",
   "name": "python3"
  },
  "language_info": {
   "codemirror_mode": {
    "name": "ipython",
    "version": 3
   },
   "file_extension": ".py",
   "mimetype": "text/x-python",
   "name": "python",
   "nbconvert_exporter": "python",
   "pygments_lexer": "ipython3",
   "version": "3.7.6"
  }
 },
 "nbformat": 4,
 "nbformat_minor": 2
}
