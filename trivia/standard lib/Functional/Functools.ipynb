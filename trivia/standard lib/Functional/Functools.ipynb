{
 "cells": [
  {
   "cell_type": "code",
   "execution_count": 8,
   "metadata": {},
   "outputs": [],
   "source": [
    "import statistics\n",
    "import functools\n",
    "import string\n",
    "import random"
   ]
  },
  {
   "cell_type": "markdown",
   "metadata": {},
   "source": [
    "#### Comparison Function to Key\n",
    "Map any function which compares elements \n",
    "```\n",
    "    Negative -> a < b\n",
    "    Zero -> a == b\n",
    "    Positive -> a > b\n",
    "```\n",
    "and converts it into a key which can be passed to sorted, various heap functions etc..."
   ]
  },
  {
   "cell_type": "code",
   "execution_count": 35,
   "metadata": {},
   "outputs": [],
   "source": [
    "random_str = lambda : \"\".join(random.choices(string.ascii_lowercase, k=random.randint(1, 5)))"
   ]
  },
  {
   "cell_type": "code",
   "execution_count": 41,
   "metadata": {},
   "outputs": [
    {
     "name": "stdout",
     "output_type": "stream",
     "text": [
      "['q', 'ts', 'ad', 'lhg', 'vrv', 'ocz', 'lvrn', 'psrs', 'ceohi', 'vqmiw']\n",
      "['q', 'ts', 'ad', 'lhg', 'vrv', 'ocz', 'lvrn', 'psrs', 'ceohi', 'vqmiw']\n"
     ]
    }
   ],
   "source": [
    "def cmp_function(a, b):\n",
    "    return len(a) - len(b)\n",
    "\n",
    "sorting_function = functools.cmp_to_key(cmp_function)\n",
    "l = [random_str() for _ in range(10)]\n",
    "print(sorted(l, key=sorting_function))\n",
    "print(sorted(l, key=len ))"
   ]
  },
  {
   "cell_type": "markdown",
   "metadata": {},
   "source": [
    "#### LRU Cache\n",
    "When we are computing the same thing over and over again, LRU Cache can be used to save and recycle an old result"
   ]
  },
  {
   "cell_type": "code",
   "execution_count": 69,
   "metadata": {},
   "outputs": [],
   "source": [
    "def fibo(n):\n",
    "    if n == 1 or n == 2:\n",
    "        return 1\n",
    "    return fibo(n-1) + fibo(n-2)\n",
    "\n",
    "@functools.lru_cache(maxsize=200)\n",
    "def lru_fibo(n):\n",
    "    if n == 1 or n == 2:\n",
    "        return 1\n",
    "    return fibo(n-1) + fibo(n-2)\n",
    "\n",
    "def dp_fibo(n):\n",
    "    if n==1 or n==2:\n",
    "        return 1\n",
    "    n_1, n_2 = 1, 1\n",
    "    for _ in range(2, n):\n",
    "        n = n_1 + n_2\n",
    "        n_2 = n_1\n",
    "        n_1 = n\n",
    "    return n"
   ]
  },
  {
   "cell_type": "code",
   "execution_count": 53,
   "metadata": {},
   "outputs": [
    {
     "name": "stdout",
     "output_type": "stream",
     "text": [
      "21.1 ms ± 1.74 ms per loop (mean ± std. dev. of 7 runs, 10 loops each)\n"
     ]
    }
   ],
   "source": [
    "%%timeit\n",
    "fibo(25)"
   ]
  },
  {
   "cell_type": "code",
   "execution_count": 54,
   "metadata": {},
   "outputs": [
    {
     "name": "stdout",
     "output_type": "stream",
     "text": [
      "97.6 ns ± 2.92 ns per loop (mean ± std. dev. of 7 runs, 10000000 loops each)\n"
     ]
    }
   ],
   "source": [
    "%%timeit\n",
    "lru_fibo(25)"
   ]
  },
  {
   "cell_type": "code",
   "execution_count": 71,
   "metadata": {},
   "outputs": [
    {
     "name": "stdout",
     "output_type": "stream",
     "text": [
      "1.49 µs ± 3.95 ns per loop (mean ± std. dev. of 7 runs, 1000000 loops each)\n"
     ]
    }
   ],
   "source": [
    "%%timeit\n",
    "dp_fibo(25)"
   ]
  },
  {
   "cell_type": "markdown",
   "metadata": {},
   "source": [
    "### Total Ordering\n",
    "If you pass eq, and one of (lt, gt, le, ge), the total ordering decorator will infer the rest"
   ]
  },
  {
   "cell_type": "code",
   "execution_count": 79,
   "metadata": {},
   "outputs": [],
   "source": [
    "@functools.total_ordering\n",
    "class Student:\n",
    "    def __init__(self, firstname, lastname, gpa):\n",
    "        self.firstname = firstname\n",
    "        self.lastname = lastname\n",
    "        self.gpa = gpa\n",
    "        \n",
    "    def __eq__(self, other):\n",
    "        return ((self.lastname.lower(), self.firstname.lower()) ==\n",
    "                (other.lastname.lower(), other.firstname.lower()))\n",
    "    \n",
    "    def __lt__(self, other):\n",
    "        return self.gpa < other.gpa"
   ]
  },
  {
   "cell_type": "code",
   "execution_count": 80,
   "metadata": {},
   "outputs": [],
   "source": [
    "Mike = Student(\"Mike\", \"Berns\", 3.2)\n",
    "David = Student(\"David\", \"Race\", 4.0)"
   ]
  },
  {
   "cell_type": "code",
   "execution_count": 83,
   "metadata": {},
   "outputs": [
    {
     "data": {
      "text/plain": [
       "(True, False, True, True, True, True)"
      ]
     },
     "execution_count": 83,
     "metadata": {},
     "output_type": "execute_result"
    }
   ],
   "source": [
    "Mike == Mike, Mike == David, Mike < David, Mike <= David, David > Mike, David >= Mike"
   ]
  },
  {
   "cell_type": "markdown",
   "metadata": {},
   "source": [
    "### Partial\n",
    "Modify an existing function, keep all the same args"
   ]
  },
  {
   "cell_type": "code",
   "execution_count": 124,
   "metadata": {},
   "outputs": [
    {
     "name": "stdout",
     "output_type": "stream",
     "text": [
      "[4, 5, 6, 7, 8, 9, 10, 11, 12, 13]\n",
      "[4, 5, 6, 7, 8, 9, 10, 11, 12, 13]\n"
     ]
    }
   ],
   "source": [
    "nums = list(range(10))\n",
    "add = lambda x, y : x + y\n",
    "add_4 = functools.partial(add, 4)\n",
    "# note this is eq to add_4 = lambda x: x + 4\n",
    "print(list(map(add, nums, [4]*10)))\n",
    "print(list(map(add_4, nums)))"
   ]
  },
  {
   "cell_type": "markdown",
   "metadata": {},
   "source": [
    "### Partial Method\n",
    "Dont fully appreciate the utility of this one"
   ]
  },
  {
   "cell_type": "code",
   "execution_count": 115,
   "metadata": {},
   "outputs": [
    {
     "name": "stdout",
     "output_type": "stream",
     "text": [
      "False\n",
      "True\n"
     ]
    }
   ],
   "source": [
    "class Live:\n",
    "    def __init__(self):\n",
    "        self._live = False\n",
    "    def set_live(self,state:'bool'):\n",
    "        self._live = state\n",
    "    def __get_live(self):\n",
    "        return self._live\n",
    "    def __call__(self):\n",
    "        # enable this to be called when the object is made callable.\n",
    "        return self.__get_live()\n",
    "\n",
    "    # partial methods. Freezes the method `set_live` and `set_dead`\n",
    "    # with the specific arguments\n",
    "    set_alive = functools.partialmethod(set_live, True)\n",
    "    set_dead = functools.partialmethod(set_live, False)\n",
    "\n",
    "live = Live() # create object\n",
    "print(live()) # make the object callable. It calls `__call__` under the hood\n",
    "live.set_alive() # Call the partial method\n",
    "print(live())"
   ]
  },
  {
   "cell_type": "markdown",
   "metadata": {},
   "source": [
    "### Reduce"
   ]
  },
  {
   "cell_type": "code",
   "execution_count": 132,
   "metadata": {},
   "outputs": [],
   "source": [
    "from operator import add, mul\n",
    "from math import factorial"
   ]
  },
  {
   "cell_type": "code",
   "execution_count": 130,
   "metadata": {},
   "outputs": [
    {
     "data": {
      "text/plain": [
       "(55, 55.0)"
      ]
     },
     "execution_count": 130,
     "metadata": {},
     "output_type": "execute_result"
    }
   ],
   "source": [
    "triangle_sum = lambda n : n*(n+1)/2\n",
    "functools.reduce(add, list(range(1,11))), triangle_sum(10)"
   ]
  },
  {
   "cell_type": "code",
   "execution_count": 133,
   "metadata": {},
   "outputs": [
    {
     "data": {
      "text/plain": [
       "(362880, 3628800)"
      ]
     },
     "execution_count": 133,
     "metadata": {},
     "output_type": "execute_result"
    }
   ],
   "source": [
    "pi = lambda l : functools.reduce(mul, l)\n",
    "pi(list(range(1, 10))), factorial(10)"
   ]
  },
  {
   "cell_type": "markdown",
   "metadata": {},
   "source": [
    "### Single Dispatch"
   ]
  },
  {
   "cell_type": "code",
   "execution_count": 155,
   "metadata": {},
   "outputs": [],
   "source": [
    "@functools.singledispatch\n",
    "def iterate(arg):\n",
    "    print(\"parent function called\")\n",
    "\n",
    "def l_t_s_iter(arg: (list, tuple, set), verbose=False):\n",
    "    print(type(arg))\n",
    "    for i, val in enumerate(arg):\n",
    "        print(val, end= \" \")\n",
    "    print()\n",
    "\n",
    "def d_iter(arg: dict, verbose=False):\n",
    "    print(type(arg))\n",
    "    for key in arg.keys():\n",
    "        print(arg[key], end= \" \")\n",
    "    print()"
   ]
  },
  {
   "cell_type": "code",
   "execution_count": 156,
   "metadata": {},
   "outputs": [
    {
     "name": "stdout",
     "output_type": "stream",
     "text": [
      "<class 'dict'>\n",
      "1 2 \n",
      "<class 'list'>\n",
      "1 2 \n",
      "<class 'set'>\n",
      "1 2 \n",
      "<class 'tuple'>\n",
      "1 2 \n"
     ]
    }
   ],
   "source": [
    "d = {\n",
    "    'foo' : 1,\n",
    "    'bar' : 2\n",
    "}\n",
    "\n",
    "l = [1, 2]; s = {1, 2}; t = (1, 2)\n",
    "iterate.register(list, l_t_s_iter)\n",
    "iterate.register(set, l_t_s_iter)\n",
    "iterate.register(tuple, l_t_s_iter)\n",
    "iterate.register(dict, d_iter)\n",
    "iterate(d); iterate(l); iterate(s); iterate(t)"
   ]
  }
 ],
 "metadata": {
  "kernelspec": {
   "display_name": "Python 3",
   "language": "python",
   "name": "python3"
  },
  "language_info": {
   "codemirror_mode": {
    "name": "ipython",
    "version": 3
   },
   "file_extension": ".py",
   "mimetype": "text/x-python",
   "name": "python",
   "nbconvert_exporter": "python",
   "pygments_lexer": "ipython3",
   "version": "3.6.8"
  }
 },
 "nbformat": 4,
 "nbformat_minor": 2
}
