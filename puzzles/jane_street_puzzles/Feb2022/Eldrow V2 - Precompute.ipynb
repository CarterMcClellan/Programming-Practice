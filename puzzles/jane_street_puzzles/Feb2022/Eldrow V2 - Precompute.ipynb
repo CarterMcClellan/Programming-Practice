{
 "cells": [
  {
   "cell_type": "code",
   "execution_count": 1,
   "metadata": {},
   "outputs": [],
   "source": [
    "import string\n",
    "import numpy as np\n",
    "import pandas as pd\n",
    "import itertools\n",
    "from tqdm import tqdm"
   ]
  },
  {
   "cell_type": "code",
   "execution_count": 7,
   "metadata": {},
   "outputs": [],
   "source": [
    "def print_mat(mat):\n",
    "    for row in mat:\n",
    "        print(row)\n",
    "        \n",
    "def possible_pairings(N):\n",
    "    # given N\n",
    "    # \n",
    "    # what are all possible unique pairings\n",
    "    # from 0...N\n",
    "    #\n",
    "    # where a \"pairing\" can be any tuple ranging from\n",
    "    # len() == 1 to len() == N\n",
    "    # \n",
    "    # how is this useful? consider the word \"CAT\"\n",
    "    # in the game of wordle, possible green tiles include\n",
    "    # [\"C\", \"A\", \"T\", \"CA\", \"AT\", \"T\"]\n",
    "    # corresponding to the indices\n",
    "    # [(0), (1), (2), (0,1), (1, 2), (0, 2)]\n",
    "    # exactly the response from this method\n",
    "    l = list(range(N))\n",
    "    res = []\n",
    "    for i in range(1, N):\n",
    "        res += list(itertools.combinations(l, i))\n",
    "\n",
    "    return res\n",
    "\n",
    "def possible_green_states(ascii_matrix):\n",
    "    _, N = ascii_matrix.shape\n",
    "    green_states = set()\n",
    "    \n",
    "    to_chars = lambda x : \"\".join(chr(i) for i in x)\n",
    "    \n",
    "    for possible_pairing in possible_pairings(N):\n",
    "        # possible pariring = some tuple, eg (0, 2)\n",
    "        for pairing in ascii_matrix[:, possible_pairing]:\n",
    "            # pairing, eg all (0, 2) columns\n",
    "            green_states.add(to_chars(pairing))\n",
    "            \n",
    "    return green_states\n",
    "\n",
    "def possible_yellow_states():\n",
    "    # Possible Yellow Singletons\n",
    "    #    col 1 = unique tiles for col (2, 3, 4, 5)\n",
    "    #    2 -> (1, 3, 4, 5)\n",
    "    #    ...\n",
    "    #    5 -> (1, 2, 3, 4)\n",
    "    # \n",
    "    # Possible Yellow Pairs\n",
    "    #   Col 1, 2 = Unique Co-Occurences Tiles from (2, 3, 4, 5) + Unique Tiles from (1, 3, 4, 5)\n",
    "    #              (2, (1, 3, 4, 5)) All words which have the letter in col 2, \n",
    "    "
   ]
  },
  {
   "cell_type": "code",
   "execution_count": 9,
   "metadata": {},
   "outputs": [
    {
     "name": "stdout",
     "output_type": "stream",
     "text": [
      "14388\n"
     ]
    }
   ],
   "source": [
    "words = pd.read_csv(\"wordle_words.csv\", header=None).values\n",
    "initial_wordset = words.flatten().tolist()\n",
    "# initial_wordset = ['CAT', 'BAT']\n",
    "\n",
    "ascii_matrix = list(map(lambda w: [ord(c) for c in w], initial_wordset))\n",
    "ascii_matrix  = np.asarray(ascii_matrix)\n",
    "green_states = possible_green_states(ascii_matrix)\n",
    "print(len(green_states))"
   ]
  }
 ],
 "metadata": {
  "kernelspec": {
   "display_name": "Python 3",
   "language": "python",
   "name": "python3"
  },
  "language_info": {
   "codemirror_mode": {
    "name": "ipython",
    "version": 3
   },
   "file_extension": ".py",
   "mimetype": "text/x-python",
   "name": "python",
   "nbconvert_exporter": "python",
   "pygments_lexer": "ipython3",
   "version": "3.7.6"
  }
 },
 "nbformat": 4,
 "nbformat_minor": 5
}
