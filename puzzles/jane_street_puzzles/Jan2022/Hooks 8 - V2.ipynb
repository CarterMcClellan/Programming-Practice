{
 "cells": [
  {
   "cell_type": "code",
   "execution_count": null,
   "id": "00988426",
   "metadata": {},
   "outputs": [],
   "source": [
    "# https://www.janestreet.com/puzzles/current-puzzle/"
   ]
  },
  {
   "cell_type": "code",
   "execution_count": 1,
   "id": "a8df7658",
   "metadata": {},
   "outputs": [],
   "source": [
    "import copy"
   ]
  },
  {
   "cell_type": "code",
   "execution_count": 2,
   "id": "03a4246a",
   "metadata": {},
   "outputs": [],
   "source": [
    "EMPTY_SQUARE = ' '"
   ]
  },
  {
   "cell_type": "code",
   "execution_count": 3,
   "id": "69a68098",
   "metadata": {},
   "outputs": [],
   "source": [
    "def generate_square_grid(dim):\n",
    "    return [[EMPTY_SQUARE for _ in range(dim)] for _ in range(dim)], dim, ((dim-1, 0), (0, dim-1))\n",
    "\n",
    "def print_grid(grid):\n",
    "    for row in grid:\n",
    "        print(row)"
   ]
  },
  {
   "cell_type": "code",
   "execution_count": 4,
   "id": "35c52a5c",
   "metadata": {},
   "outputs": [],
   "source": [
    "def mark_col_partial(grid, mark, C, i, j):\n",
    "    for row_idx in range(i, j+1):\n",
    "        grid[row_idx][C] = mark\n",
    "    return grid\n",
    "\n",
    "def mark_row_partial(grid, mark, R, i, j):\n",
    "    for col_idx in range(i, j+1):\n",
    "        grid[R][col_idx] = mark\n",
    "    return grid\n",
    "\n",
    "def mark_L(grid, mark, valid_L):\n",
    "    ((R, R_i, R_j), (C, C_i, C_j)) = valid_L\n",
    "    grid = mark_row_partial(grid, mark, R, R_i, R_j)\n",
    "    grid = mark_col_partial(grid, mark, C, C_i, C_j)\n",
    "    return grid\n",
    "\n",
    "def mark_result(result):\n",
    "    grid, _, _ = generate_square_grid(len(result))\n",
    "    for idx, res in enumerate(result):\n",
    "        grid = mark_L(grid, str(idx), res)\n",
    "    \n",
    "    return grid"
   ]
  },
  {
   "cell_type": "code",
   "execution_count": 5,
   "id": "800ad4e2",
   "metadata": {},
   "outputs": [],
   "source": [
    "# every step creates a new sub grid\n",
    "# which is being marked in the same 4 ways\n",
    "# \n",
    "# loop should be something like\n",
    "# sub_grid = mark_4_ways(grid)\n",
    "def populate(grid, L, empty_coords):\n",
    "    dim = len(grid)\n",
    "    ((bot_row, left_col), (top_row, right_col)) = empty_coords\n",
    "    # 4 possible ways to make an L\n",
    "    # out of a row\n",
    "    #\n",
    "    # 1)  ***\n",
    "    #       *\n",
    "    #       *\n",
    "    # \n",
    "    #\n",
    "    squares_marked = ((top_row, left_col, right_col), (right_col, top_row, bot_row))\n",
    "    new_empty_square = ((bot_row, left_col), (top_row+1, right_col-1))\n",
    "    top_right = (squares_marked, new_empty_square)\n",
    "\n",
    "    # 2)  ***\n",
    "    #     *\n",
    "    #     *\n",
    "    squares_marked = ((top_row, left_col, right_col), (left_col, top_row, bot_row))\n",
    "    new_empty_square = ((bot_row, left_col+1), (top_row+1, right_col))\n",
    "    top_left = (squares_marked, new_empty_square)\n",
    "\n",
    "    # 3)    *\n",
    "    #       *\n",
    "    #     ***\n",
    "    squares_marked = ((bot_row, left_col, right_col), (right_col, top_row, bot_row))\n",
    "    new_empty_square = ((bot_row-1, left_col), (top_row, right_col-1))\n",
    "    bot_right = (squares_marked, new_empty_square)\n",
    "\n",
    "    # 4) *\n",
    "    #    *\n",
    "    #    ***\n",
    "    squares_marked = ((bot_row, left_col, right_col), (left_col, top_row, bot_row))\n",
    "    new_empty_square = ((bot_row-1, left_col+1), (top_row, right_col))\n",
    "    bot_left = (squares_marked, new_empty_square)\n",
    "                    \n",
    "    return [top_right, top_left, bot_right, bot_left]"
   ]
  },
  {
   "cell_type": "code",
   "execution_count": 9,
   "id": "99416714",
   "metadata": {},
   "outputs": [
    {
     "name": "stdout",
     "output_type": "stream",
     "text": [
      "##########\n",
      "['1', '0']\n",
      "['0', '0']\n",
      "##########\n",
      "##########\n",
      "['0', '0']\n",
      "['1', '0']\n",
      "##########\n",
      "##########\n",
      "['0', '0']\n",
      "['0', '1']\n",
      "##########\n",
      "##########\n",
      "['0', '1']\n",
      "['0', '0']\n",
      "##########\n"
     ]
    }
   ],
   "source": [
    "def find_all_grids(empty_grid, L, empty_square):\n",
    "    res = set()\n",
    "    def dfs(grid, L, empty_square, marked):\n",
    "        if L < 1:\n",
    "            res.add(marked)\n",
    "            return \n",
    "        \n",
    "        completed_grid = []\n",
    "        for (squares_marked, new_empty_square) in populate(grid, L, empty_square):\n",
    "            dfs(grid, L - 1, new_empty_square, (*marked, squares_marked))\n",
    "    \n",
    "    dfs(empty_grid, L, empty_square, [])\n",
    "    return res\n",
    "\n",
    "empty_grid, L, empty_square = generate_square_grid(2)\n",
    "for res in find_all_grids(empty_grid, L, empty_square):\n",
    "    potential_grid = mark_result(res)\n",
    "    print(\"#\"*5*L)\n",
    "    print_grid(potential_grid)\n",
    "    print(\"#\"*5*L)"
   ]
  }
 ],
 "metadata": {
  "kernelspec": {
   "display_name": "Python 3",
   "language": "python",
   "name": "python3"
  },
  "language_info": {
   "codemirror_mode": {
    "name": "ipython",
    "version": 3
   },
   "file_extension": ".py",
   "mimetype": "text/x-python",
   "name": "python",
   "nbconvert_exporter": "python",
   "pygments_lexer": "ipython3",
   "version": "3.8.8"
  }
 },
 "nbformat": 4,
 "nbformat_minor": 5
}
