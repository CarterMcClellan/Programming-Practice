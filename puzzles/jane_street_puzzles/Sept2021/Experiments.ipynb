{
 "cells": [
  {
   "cell_type": "code",
   "execution_count": 2,
   "metadata": {},
   "outputs": [],
   "source": [
    "from tqdm import tqdm\n",
    "import math"
   ]
  },
  {
   "cell_type": "code",
   "execution_count": 4,
   "metadata": {},
   "outputs": [
    {
     "name": "stdout",
     "output_type": "stream",
     "text": [
      "33 is a possible solution 33.0 size chunks\n",
      "34 is a possible solution 35.0 size chunks\n",
      "50 is a possible solution 75.0 size chunks\n",
      "51 is a possible solution 78.0 size chunks\n",
      "67 is a possible solution 134.0 size chunks\n",
      "68 is a possible solution 138.0 size chunks\n",
      "84 is a possible solution 210.0 size chunks\n",
      "85 is a possible solution 215.0 size chunks\n"
     ]
    }
   ],
   "source": [
    "for i in range(33, 100):\n",
    "    total = (i + 1) * (i / 2)\n",
    "    if total % 17 == 0:\n",
    "        print(i, \"is a possible solution\", (total/17), \"size chunks\")"
   ]
  },
  {
   "cell_type": "code",
   "execution_count": 3,
   "metadata": {},
   "outputs": [
    {
     "data": {
      "text/plain": [
       "40.60481440548304"
      ]
     },
     "execution_count": 3,
     "metadata": {},
     "output_type": "execute_result"
    }
   ],
   "source": [
    "math.log10(pow(17, 33))"
   ]
  },
  {
   "cell_type": "code",
   "execution_count": null,
   "metadata": {},
   "outputs": [],
   "source": [
    "# brute force\n",
    "def slns(N, k):\n",
    "    \n",
    "    if ((N + 1)*N/2) % k != 0:\n",
    "        return \"This is not Possible\"\n",
    "    \n",
    "    res = set()\n",
    "    targ = ((N + 1)*N/2) / k\n",
    "    \n",
    "    def serialize(e):\n",
    "        \"\"\" sets can't dedupe [[1], [2]] and [[2], [1]] \"\"\"\n",
    "        e = sorted([sorted(v) for v in e])\n",
    "        return str(e)\n",
    "    \n",
    "    def recurse(i, bags, N, bar):\n",
    "        bar.update(1)\n",
    "        if i > N:\n",
    "            res.add(serialize(bags))\n",
    "            return\n",
    "            \n",
    "        for idx in range(k):\n",
    "            # we can prune the recursion tree by\n",
    "            # checking the size of individual \"bags\"\n",
    "            total = sum(bags[idx])\n",
    "            \n",
    "            # if gt, break (this entire collection of bags is invalid)\n",
    "            if total > targ:\n",
    "                return\n",
    "            \n",
    "            # if equal (this bag could be legit we just dont want to fill it)\n",
    "            elif total == targ:\n",
    "                continue\n",
    "            \n",
    "            # if adding causes the bag to overflow, skip\n",
    "            elif total + i > targ:\n",
    "                continue\n",
    "                \n",
    "            # add i to the bag at idx\n",
    "            recurse(i+1, bags[:idx] + [[*bags[idx], i]] + bags[idx+1:], N, bar)\n",
    "    \n",
    "    initial = [[] for _ in range(k)]\n",
    "    \n",
    "    # runtime complexity ~ k^N\n",
    "    bar = tqdm(total=pow(k, N))\n",
    "    recurse(1, initial, N, bar)\n",
    "    return res"
   ]
  }
 ],
 "metadata": {
  "kernelspec": {
   "display_name": "Python 3",
   "language": "python",
   "name": "python3"
  },
  "language_info": {
   "codemirror_mode": {
    "name": "ipython",
    "version": 3
   },
   "file_extension": ".py",
   "mimetype": "text/x-python",
   "name": "python",
   "nbconvert_exporter": "python",
   "pygments_lexer": "ipython3",
   "version": "3.7.6"
  }
 },
 "nbformat": 4,
 "nbformat_minor": 2
}
