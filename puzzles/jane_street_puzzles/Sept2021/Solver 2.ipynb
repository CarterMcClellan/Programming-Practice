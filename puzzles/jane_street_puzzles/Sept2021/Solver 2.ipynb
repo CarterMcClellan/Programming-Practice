{
 "cells": [
  {
   "cell_type": "code",
   "execution_count": 1,
   "metadata": {},
   "outputs": [],
   "source": [
    "BOARD_WIDTH, BOARD_HEIGHT = 10, 10"
   ]
  },
  {
   "cell_type": "code",
   "execution_count": null,
   "metadata": {},
   "outputs": [],
   "source": [
    "def charter(s1, s2, path_len, occupied_squares):\n",
    "    (s_x, s_y) = (s1)\n",
    "    dirs = [(-1,-2),(-2,-1),(-2,1),(-1,2),(1,-2),(2,-1),(2,1),(1,2)]\n",
    "    queue = [(0, s_x, s_y)]\n",
    "    \n",
    "    while queue:\n",
    "        (d, x, y) = queue.pop(0)\n",
    "        for (x_inc, y_inc) in dirs:\n",
    "            if 0 <= x+x_inc < BOARD_WIDTH and 0 <= y+y_inc < BOARD_HEIGHT:\n",
    "\n",
    "                # repeat squares are not allowed\n",
    "                if (x+x_inc, y+y_inc) not in moves:\n",
    "                    possible_moves.append((x+x_inc, y+y_inc))"
   ]
  }
 ],
 "metadata": {
  "kernelspec": {
   "display_name": "Python 3",
   "language": "python",
   "name": "python3"
  },
  "language_info": {
   "codemirror_mode": {
    "name": "ipython",
    "version": 3
   },
   "file_extension": ".py",
   "mimetype": "text/x-python",
   "name": "python",
   "nbconvert_exporter": "python",
   "pygments_lexer": "ipython3",
   "version": "3.7.6"
  }
 },
 "nbformat": 4,
 "nbformat_minor": 2
}
