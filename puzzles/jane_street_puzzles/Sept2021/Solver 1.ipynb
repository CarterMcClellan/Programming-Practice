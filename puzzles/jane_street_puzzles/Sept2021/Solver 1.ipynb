{
 "cells": [
  {
   "cell_type": "code",
   "execution_count": null,
   "metadata": {},
   "outputs": [],
   "source": [
    "def slns(N, k, avail, initial):\n",
    "    if ((N + 1)*N/2) % k != 0:\n",
    "        return \"This is not Possible\"\n",
    "    \n",
    "    res = set()\n",
    "    targ = ((N + 1)*N/2) / k\n",
    "    stop = len(avail)\n",
    "    \n",
    "    def serialize(e):\n",
    "        \"\"\" sets can't dedupe [[1], [2]] and [[2], [1]] \"\"\"\n",
    "        e = sorted([sorted(v) for v in e])\n",
    "        return str(e)\n",
    "    \n",
    "    def recurse(i, bags, N):\n",
    "        if i == stop:\n",
    "            res.add(serialize(bags))\n",
    "            return\n",
    "        \n",
    "        v = avail[i]\n",
    "        for idx in range(k):\n",
    "            # we can prune the recursion tree by\n",
    "            # checking the size of individual \"bags\"\n",
    "            total = sum(bags[idx])\n",
    "            \n",
    "            # if gt, break (this entire collection of bags is invalid)\n",
    "            if total > targ:\n",
    "                return\n",
    "            \n",
    "            # if equal (this bag could be legit we just dont want to fill it)\n",
    "            elif total == targ:\n",
    "                continue\n",
    "            \n",
    "            # if adding causes the bag to overflow, skip\n",
    "            elif total + v > targ:\n",
    "                continue\n",
    "                \n",
    "            # add i to the bag at idx\n",
    "            recurse(i+1, bags[:idx] + [[*bags[idx], v]] + bags[idx+1:], N)\n",
    "    \n",
    "    \n",
    "    \n",
    "    # runtime complexity ~ k^N\n",
    "    recurse(0, initial, N)\n",
    "    return res"
   ]
  },
  {
   "cell_type": "code",
   "execution_count": null,
   "metadata": {},
   "outputs": [],
   "source": [
    "# remove 2, 5, 8, 12, 14, 20, 23, 28, 33\n",
    "avail = [1, 3, 4, 6, 7, 9, 10, 11, 13, 15, 16, 17, 18, 19, 21, 22, \n",
    "         24, 25, 26, 27, 29, 30, 31, 32]\n",
    "\n",
    "initial = [[2, 5, 8, 12], [28], [14], [20], [23], [28], [33], \n",
    "        [], [], [], [], [], [], [], [], [], []]\n",
    "\n",
    "max_val = 33\n",
    "n_groups = 17\n",
    "\n",
    "# example case\n",
    "# avail = [2, 3, 5, 7, 8, 9]\n",
    "# initial = [[1, 4], [6], []]\n",
    "# max_val = 9\n",
    "# n_groups = 3"
   ]
  },
  {
   "cell_type": "code",
   "execution_count": null,
   "metadata": {},
   "outputs": [],
   "source": [
    "slns(max_val, n_groups, avail, initial)"
   ]
  },
  {
   "cell_type": "code",
   "execution_count": null,
   "metadata": {},
   "outputs": [],
   "source": [
    "%debug"
   ]
  }
 ],
 "metadata": {
  "kernelspec": {
   "display_name": "Python 3",
   "language": "python",
   "name": "python3"
  },
  "language_info": {
   "codemirror_mode": {
    "name": "ipython",
    "version": 3
   },
   "file_extension": ".py",
   "mimetype": "text/x-python",
   "name": "python",
   "nbconvert_exporter": "python",
   "pygments_lexer": "ipython3",
   "version": "3.7.6"
  }
 },
 "nbformat": 4,
 "nbformat_minor": 2
}
