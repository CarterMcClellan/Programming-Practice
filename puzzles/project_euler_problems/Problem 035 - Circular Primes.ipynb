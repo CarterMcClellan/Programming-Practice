{
 "cells": [
  {
   "cell_type": "code",
   "execution_count": 14,
   "metadata": {},
   "outputs": [],
   "source": [
    "import math\n",
    "import itertools\n",
    "\n",
    "import numpy as np"
   ]
  },
  {
   "cell_type": "code",
   "execution_count": 2,
   "metadata": {},
   "outputs": [],
   "source": [
    "def eratosthenes_sieve_v3(N, include_one=False):\n",
    "    l = np.ones(N, dtype=np.bool)\n",
    "    \n",
    "    find_multiples = lambda n, C : [i*n-1 for i in range(2, C//n +1)]\n",
    "    upper_bound = math.ceil(math.sqrt(N))\n",
    "    for val in range(2, upper_bound+1):\n",
    "        if l[val-1]:\n",
    "            multiples = find_multiples(val, N)\n",
    "            l[multiples] = False\n",
    "            \n",
    "    primes = set((np.nonzero(l)[0] + 1).tolist())\n",
    "    if not include_one:\n",
    "        primes.remove(1)\n",
    "    return primes"
   ]
  },
  {
   "cell_type": "code",
   "execution_count": 25,
   "metadata": {},
   "outputs": [],
   "source": [
    "def circulate_2(number):\n",
    "    \"\"\"\n",
    "    returns all cycles of a number n,\n",
    "    \n",
    "    \"\"\"\n",
    "    length = len(str(number))\n",
    "    \n",
    "    def step_n(iter_, n):\n",
    "        for _ in range(n):\n",
    "            next(iter_)\n",
    "        return iter_\n",
    "    \n",
    "    def pop_n(iter_, n):\n",
    "        res = \"\"\n",
    "        for idx, val in enumerate(iter_):\n",
    "            if idx >= n: break\n",
    "            res += str(val)\n",
    "        return int(res)\n",
    "    \n",
    "    cycle_iters = [step_n(itertools.cycle(str(number)), i) for i in range(length)]\n",
    "    return [pop_n(iter_, length) for iter_ in cycle_iters]"
   ]
  },
  {
   "cell_type": "code",
   "execution_count": 35,
   "metadata": {},
   "outputs": [],
   "source": [
    "primes = eratosthenes_sieve_v3(1000000)\n",
    "circular_primes = [2, 5]\n",
    "for p in primes:\n",
    "    if any(i in str(p) for i in [\"0\", \"2\", \"4\", \"5\", \"6\", \"8\"]):\n",
    "        continue\n",
    "    \n",
    "    flag = True\n",
    "    for circ_p in circulate_2(p):\n",
    "        if circ_p not in primes:\n",
    "            flag = False\n",
    "            break\n",
    "    \n",
    "    if flag:\n",
    "        circular_primes.append(p)"
   ]
  },
  {
   "cell_type": "code",
   "execution_count": 37,
   "metadata": {},
   "outputs": [
    {
     "data": {
      "text/plain": [
       "55"
      ]
     },
     "execution_count": 37,
     "metadata": {},
     "output_type": "execute_result"
    }
   ],
   "source": [
    "len(circular_primes)"
   ]
  }
 ],
 "metadata": {
  "kernelspec": {
   "display_name": "Python 3",
   "language": "python",
   "name": "python3"
  },
  "language_info": {
   "codemirror_mode": {
    "name": "ipython",
    "version": 3
   },
   "file_extension": ".py",
   "mimetype": "text/x-python",
   "name": "python",
   "nbconvert_exporter": "python",
   "pygments_lexer": "ipython3",
   "version": "3.7.6"
  }
 },
 "nbformat": 4,
 "nbformat_minor": 2
}
