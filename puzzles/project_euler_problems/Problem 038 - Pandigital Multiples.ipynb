{
 "cells": [
  {
   "cell_type": "code",
   "execution_count": 1,
   "metadata": {},
   "outputs": [],
   "source": [
    "import math"
   ]
  },
  {
   "cell_type": "code",
   "execution_count": 6,
   "metadata": {},
   "outputs": [],
   "source": [
    "# right so this one is kind of an interesting question\n",
    "# only certain numbers can be multiplied by (1, ... 9)\n",
    "# and concatenated together to yield a 9 digit number\n",
    "def cat_able(n):\n",
    "    s = \"\"\n",
    "    for i in range(1, 10):\n",
    "        s += str(n * i)\n",
    "        if len(s) > 9:\n",
    "            return False\n",
    "        elif len(s) == 9:\n",
    "            return s\n",
    "\n",
    "def is_pandigital_1(s):\n",
    "    d = {1: ['1'],\n",
    "         2: ['1', '2'],\n",
    "         3: ['1', '2', '3'],\n",
    "         4: ['1', '2', '3', '4'],\n",
    "         5: ['1', '2', '3', '4', '5'],\n",
    "         6: ['1', '2', '3', '4', '5', '6'],\n",
    "         7: ['1', '2', '3', '4', '5', '6', '7'],\n",
    "         8: ['1', '2', '3', '4', '5', '6', '7', '8'],\n",
    "         9: ['1', '2', '3', '4', '5', '6', '7', '8', '9']}\n",
    "    \n",
    "    l = len(s)\n",
    "    return sorted(s) == d[l]\n",
    "\n",
    "def pandigital_cat(n):\n",
    "    s = \"\"\n",
    "    for i in range(1, 10):\n",
    "        s = s + str(n*i)\n",
    "        if len(s) == 9 and is_pandigital_1(s):\n",
    "            return int(s)\n",
    "        if len(s) > 9:\n",
    "            return -1\n",
    "    return -1"
   ]
  },
  {
   "cell_type": "code",
   "execution_count": 7,
   "metadata": {},
   "outputs": [],
   "source": [
    "max_val = 0\n",
    "for i in range(1, 1000000):\n",
    "    if cat_able(i):\n",
    "        max_val = i"
   ]
  },
  {
   "cell_type": "code",
   "execution_count": 8,
   "metadata": {},
   "outputs": [
    {
     "name": "stdout",
     "output_type": "stream",
     "text": [
      "9 has largest pandigital 918273645\n",
      "9267 has largest pandigital 926718534\n",
      "9273 has largest pandigital 927318546\n",
      "9327 has largest pandigital 932718654\n"
     ]
    }
   ],
   "source": [
    "largest_pandigital = 0\n",
    "for i in range(2, 10000):\n",
    "    res = pandigital_cat(i)\n",
    "    if res > largest_pandigital:\n",
    "        largest_pandigital = res\n",
    "        print(i, \"has largest pandigital\", res)"
   ]
  }
 ],
 "metadata": {
  "kernelspec": {
   "display_name": "Python 3",
   "language": "python",
   "name": "python3"
  },
  "language_info": {
   "codemirror_mode": {
    "name": "ipython",
    "version": 3
   },
   "file_extension": ".py",
   "mimetype": "text/x-python",
   "name": "python",
   "nbconvert_exporter": "python",
   "pygments_lexer": "ipython3",
   "version": "3.7.6"
  }
 },
 "nbformat": 4,
 "nbformat_minor": 4
}
