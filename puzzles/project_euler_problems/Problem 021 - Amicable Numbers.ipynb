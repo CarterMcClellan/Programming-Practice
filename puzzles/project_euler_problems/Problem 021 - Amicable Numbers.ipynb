{
 "cells": [
  {
   "cell_type": "code",
   "execution_count": 1,
   "metadata": {},
   "outputs": [],
   "source": [
    "import math"
   ]
  },
  {
   "cell_type": "code",
   "execution_count": 2,
   "metadata": {},
   "outputs": [],
   "source": [
    "def sum_of_factors_optimized(n):\n",
    "    res = 0\n",
    "    upper_bd = math.sqrt(n)\n",
    "    \n",
    "    # if its a perfect square make sure\n",
    "    # the same root is not counted twice\n",
    "    if upper_bd == int(upper_bd):\n",
    "        res += upper_bd\n",
    "        upper_bd = int(upper_bd)\n",
    "    \n",
    "    # else make sure the upper bound is high \n",
    "    # enough\n",
    "    else:\n",
    "        upper_bd = int(upper_bd) + 1\n",
    "    \n",
    "    for i in range(2, upper_bd):\n",
    "        if n % i == 0:\n",
    "            res += (i + n//i)\n",
    "    return int(res) + 1"
   ]
  },
  {
   "cell_type": "code",
   "execution_count": 11,
   "metadata": {},
   "outputs": [
    {
     "data": {
      "text/plain": [
       "{(1, 2), (220, 284), (1184, 1210), (2620, 2924), (5020, 5564), (6232, 6368)}"
      ]
     },
     "execution_count": 11,
     "metadata": {},
     "output_type": "execute_result"
    }
   ],
   "source": [
    "# what is the simplest way to represent a cycle?\n",
    "# maybe a graph? each integer has exactly one outgoing edge\n",
    "# lets start with a list [1, ..., ], if index i = j, that implies\n",
    "# the amicable number associated with i is j\n",
    "def amicable_pair_search(N):\n",
    "    cycle_table = [0] * (4*N) # 4*N for redundancy\n",
    "    # if we wanted to be more scientific we could compute\n",
    "    # this bound by looking at the most composite numbers\n",
    "    # less than N\n",
    "    \n",
    "    amicable_pairs = set()\n",
    "    \n",
    "    # generate amicable table\n",
    "    for i in range(1, N+1):\n",
    "        cycle_table[i] = sum_of_factors_optimized(i)\n",
    "    \n",
    "    # check for cycles\n",
    "    for idx, val in enumerate(cycle_table):\n",
    "        if idx == cycle_table[val] and idx != val:\n",
    "            pairing = tuple(sorted((idx, val)))\n",
    "            amicable_pairs.add(pairing)\n",
    "    \n",
    "    return amicable_pairs\n",
    "            \n",
    "amicable_pair_search(10000)"
   ]
  },
  {
   "cell_type": "code",
   "execution_count": 12,
   "metadata": {},
   "outputs": [
    {
     "data": {
      "text/plain": [
       "31626"
      ]
     },
     "execution_count": 12,
     "metadata": {},
     "output_type": "execute_result"
    }
   ],
   "source": [
    "s = {(220, 284), (1184, 1210), (2620, 2924), (5020, 5564), (6232, 6368)}\n",
    "\n",
    "res = 0\n",
    "for a, b in s:\n",
    "    if a != b:\n",
    "        res += (a + b)\n",
    "    else:\n",
    "        res += a\n",
    "res"
   ]
  }
 ],
 "metadata": {
  "kernelspec": {
   "display_name": "Python 3",
   "language": "python",
   "name": "python3"
  },
  "language_info": {
   "codemirror_mode": {
    "name": "ipython",
    "version": 3
   },
   "file_extension": ".py",
   "mimetype": "text/x-python",
   "name": "python",
   "nbconvert_exporter": "python",
   "pygments_lexer": "ipython3",
   "version": "3.7.6"
  }
 },
 "nbformat": 4,
 "nbformat_minor": 2
}
