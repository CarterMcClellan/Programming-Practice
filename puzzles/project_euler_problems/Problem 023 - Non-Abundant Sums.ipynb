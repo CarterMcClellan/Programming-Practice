{
 "cells": [
  {
   "cell_type": "code",
   "execution_count": 1,
   "metadata": {},
   "outputs": [],
   "source": [
    "import math"
   ]
  },
  {
   "cell_type": "code",
   "execution_count": 2,
   "metadata": {},
   "outputs": [],
   "source": [
    "def sum_of_factors_optimized(n):\n",
    "    res = 0\n",
    "    upper_bd = math.sqrt(n)\n",
    "    \n",
    "    # if its a perfect square make sure\n",
    "    # the same root is not counted twice\n",
    "    if upper_bd == int(upper_bd):\n",
    "        res += upper_bd\n",
    "        upper_bd = int(upper_bd)\n",
    "    \n",
    "    # else make sure the upper bound is high \n",
    "    # enough\n",
    "    else:\n",
    "        upper_bd = int(upper_bd) + 1\n",
    "    \n",
    "    for i in range(2, upper_bd):\n",
    "        if n % i == 0:\n",
    "            res += (i + n//i)\n",
    "    return int(res) + 1"
   ]
  },
  {
   "cell_type": "code",
   "execution_count": 3,
   "metadata": {},
   "outputs": [],
   "source": [
    "N, abundant_terms = 50000, []\n",
    "for i in range(2, N + 1):\n",
    "    if sum_of_factors_optimized(i) > i:\n",
    "        abundant_terms.append(i)"
   ]
  },
  {
   "cell_type": "code",
   "execution_count": 4,
   "metadata": {},
   "outputs": [],
   "source": [
    "abundant_sums  = set()\n",
    "# this is a very slow way to sum all\n",
    "# possible pairs of numbers\n",
    "\n",
    "# TODO we need to find a better way to\n",
    "# find all possible sums\n",
    "for i in abundant_terms:\n",
    "    for j in abundant_terms:\n",
    "        abundant_sums.add(i + j)"
   ]
  },
  {
   "cell_type": "code",
   "execution_count": 5,
   "metadata": {},
   "outputs": [],
   "source": [
    "non_abundant_sums = set(range(1, N+1)) - abundant_sums"
   ]
  },
  {
   "cell_type": "code",
   "execution_count": 7,
   "metadata": {},
   "outputs": [
    {
     "data": {
      "text/plain": [
       "4179871"
      ]
     },
     "execution_count": 7,
     "metadata": {},
     "output_type": "execute_result"
    }
   ],
   "source": [
    "sum(non_abundant_sums)"
   ]
  }
 ],
 "metadata": {
  "kernelspec": {
   "display_name": "Python 3",
   "language": "python",
   "name": "python3"
  },
  "language_info": {
   "codemirror_mode": {
    "name": "ipython",
    "version": 3
   },
   "file_extension": ".py",
   "mimetype": "text/x-python",
   "name": "python",
   "nbconvert_exporter": "python",
   "pygments_lexer": "ipython3",
   "version": "3.7.6"
  }
 },
 "nbformat": 4,
 "nbformat_minor": 2
}
