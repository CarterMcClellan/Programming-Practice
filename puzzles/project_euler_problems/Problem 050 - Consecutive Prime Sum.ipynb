{
 "cells": [
  {
   "cell_type": "code",
   "execution_count": null,
   "metadata": {},
   "outputs": [],
   "source": [
    "import math\n",
    "import numpy as np\n",
    "\n",
    "from itertools import accumulate\n",
    "from operator import add\n",
    "from collections import defaultdict"
   ]
  },
  {
   "cell_type": "code",
   "execution_count": null,
   "metadata": {},
   "outputs": [],
   "source": [
    "def eratosthenes_sieve_v3(N, include_one=False, sorted_list=False):\n",
    "    l = np.ones(N, dtype=np.bool)\n",
    "    \n",
    "    find_multiples = lambda n, C : [i*n-1 for i in range(2, C//n +1)]\n",
    "    upper_bound = math.ceil(math.sqrt(N))\n",
    "    for val in range(2, upper_bound+1):\n",
    "        if l[val-1]:\n",
    "            multiples = find_multiples(val, N)\n",
    "            l[multiples] = False\n",
    "            \n",
    "    primes = set((np.nonzero(l)[0] + 1).tolist())\n",
    "    if not include_one:\n",
    "        primes.remove(1)\n",
    "    \n",
    "    if sorted_list:\n",
    "        return sorted(list(primes))\n",
    "    return primes"
   ]
  },
  {
   "cell_type": "code",
   "execution_count": null,
   "metadata": {},
   "outputs": [],
   "source": [
    "def largest_num_consecutive_primes(n_digits):\n",
    "    digits = eval('int(1e{})'.format(n_digits))\n",
    "    \n",
    "    primes = eratosthenes_sieve_v3(digits, include_one=True, sorted_list=True)\n",
    "    prime_set = eratosthenes_sieve_v3(digits, include_one=True)\n",
    "    accumulate_primes = list(accumulate(primes, add))\n",
    "\n",
    "    largest_len = 0\n",
    "    for j in range(len(accumulate_primes)-1, -1, -1):\n",
    "        for i in range(0, j, 1):\n",
    "            total = accumulate_primes[j] - accumulate_primes[i]\n",
    "            if total in prime_set and (j-i) > largest_len:\n",
    "                largest_len = (j - i)\n",
    "                print(\"from\", i, \"to\", j, \"equal to\", total, \"({} consecutive primes)\".format(j-i))\n",
    "\n",
    "largest_num_consecutive_primes(4)"
   ]
  },
  {
   "cell_type": "code",
   "execution_count": null,
   "metadata": {},
   "outputs": [],
   "source": [
    "def largest_consecutive_primes_2(n_digits):\n",
    "    digits = eval('int(1e{})'.format(n_digits))\n",
    "    \n",
    "    primes = eratosthenes_sieve_v3(digits, include_one=True, sorted_list=True)\n",
    "    prime_set = eratosthenes_sieve_v3(digits, include_one=True)\n",
    "    \n",
    "    longest_overall = 0\n",
    "    \n",
    "    for p in primes:\n",
    "        longest = subarraySum(primes, p)\n",
    "        if longest > longest_overall:\n",
    "            longest_overall = longest\n",
    "            print(longest, \"consecutive primes equal to\", p)\n",
    "            \n",
    "def subarraySum(A, K):\n",
    "    # return the longest subarry of A\n",
    "    # which is equal to the sum K\n",
    "    count = defaultdict(int)\n",
    "    count[0] = 0\n",
    "    \n",
    "    ans = su = 0\n",
    "    \n",
    "    for idx, x in enumerate(A):\n",
    "        su += x\n",
    "        count[su] = idx\n",
    "        \n",
    "        if su - K in count:\n",
    "            ans = max(ans, idx - count[su - K])\n",
    "        \n",
    "    return ans"
   ]
  },
  {
   "cell_type": "code",
   "execution_count": null,
   "metadata": {},
   "outputs": [],
   "source": [
    "# works just slow\n",
    "# largest_consecutive_primes_2(6)"
   ]
  },
  {
   "cell_type": "code",
   "execution_count": null,
   "metadata": {},
   "outputs": [],
   "source": [
    "def largest_consecutive_primes_3(n_digits):\n",
    "    digits = eval('int(1e{})'.format(n_digits))\n",
    "    \n",
    "    primes = eratosthenes_sieve_v3(digits, include_one=True, sorted_list=True)\n",
    "    prime_set = eratosthenes_sieve_v3(digits, include_one=True)\n",
    "    \n",
    "    longest_overall= prefix_sum = 0\n",
    "    prefix_idxs = defaultdict(int)\n",
    "    prefix_idxs[0] = 0\n",
    "    \n",
    "    for idx, val in enumerate(primes):\n",
    "        prefix_sum += val\n",
    "        prefix_idxs[prefix_sum] = idx\n",
    "    \n",
    "    for p in primes:\n",
    "        longest = subarraySum_2(prefix_idxs, p)\n",
    "        if longest > longest_overall:\n",
    "            longest_overall = longest\n",
    "            print(longest, \"consecutive primes equal to\", p)\n",
    "            \n",
    "def subarraySum_2(prefix_idxs, K):\n",
    "    # which is equal to the sum K\n",
    "    ans = 0\n",
    "    \n",
    "    for prefix_sum in prefix_idxs:\n",
    "        if prefix_sum - K in prefix_idxs:\n",
    "            ans = max(ans, prefix_idxs[prefix_sum] - prefix_idxs[prefix_sum - K])\n",
    "        \n",
    "    return ans"
   ]
  },
  {
   "cell_type": "code",
   "execution_count": null,
   "metadata": {},
   "outputs": [],
   "source": [
    "# works just slow\n",
    "# largest_consecutive_primes_3(6)"
   ]
  }
 ],
 "metadata": {
  "kernelspec": {
   "display_name": "Python 3",
   "language": "python",
   "name": "python3"
  },
  "language_info": {
   "codemirror_mode": {
    "name": "ipython",
    "version": 3
   },
   "file_extension": ".py",
   "mimetype": "text/x-python",
   "name": "python",
   "nbconvert_exporter": "python",
   "pygments_lexer": "ipython3",
   "version": "3.7.6"
  }
 },
 "nbformat": 4,
 "nbformat_minor": 2
}
