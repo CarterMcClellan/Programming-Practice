{
 "cells": [
  {
   "cell_type": "code",
   "execution_count": 1,
   "metadata": {},
   "outputs": [],
   "source": [
    "def euclidean_sieve(n):\n",
    "    \"\"\" find all primes less than n\"\"\"\n",
    "    known_primes = set()\n",
    "    for i in range(1, n+1):\n",
    "        if i == 1: yield 1\n",
    "        elif euclid_primality(known_primes, i):\n",
    "            known_primes.add(i)\n",
    "            yield i\n",
    "            \n",
    "def euclid_primality(known_primes, i):\n",
    "    return all(i % p != 0 for p in known_primes)"
   ]
  },
  {
   "cell_type": "code",
   "execution_count": 6,
   "metadata": {},
   "outputs": [
    {
     "name": "stdout",
     "output_type": "stream",
     "text": [
      "104743\n"
     ]
    }
   ],
   "source": [
    "for idx, val in enumerate(euclidean_sieve(int(1e6))):\n",
    "    if idx == 10001:\n",
    "        print(val)\n",
    "        break"
   ]
  }
 ],
 "metadata": {
  "kernelspec": {
   "display_name": "Python 3",
   "language": "python",
   "name": "python3"
  },
  "language_info": {
   "codemirror_mode": {
    "name": "ipython",
    "version": 3
   },
   "file_extension": ".py",
   "mimetype": "text/x-python",
   "name": "python",
   "nbconvert_exporter": "python",
   "pygments_lexer": "ipython3",
   "version": "3.8.5"
  }
 },
 "nbformat": 4,
 "nbformat_minor": 4
}
