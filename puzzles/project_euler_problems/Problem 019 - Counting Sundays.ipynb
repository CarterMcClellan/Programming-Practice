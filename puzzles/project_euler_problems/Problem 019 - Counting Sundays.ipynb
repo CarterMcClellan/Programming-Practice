{
 "cells": [
  {
   "cell_type": "code",
   "execution_count": 3,
   "metadata": {},
   "outputs": [],
   "source": [
    "import calendar"
   ]
  },
  {
   "cell_type": "code",
   "execution_count": 5,
   "metadata": {},
   "outputs": [
    {
     "data": {
      "text/plain": [
       "171"
      ]
     },
     "execution_count": 5,
     "metadata": {},
     "output_type": "execute_result"
    }
   ],
   "source": [
    "def num_sundays_on_first(yy):\n",
    "    res = 0\n",
    "    for mm in range(1,13):\n",
    "        res += sum([x[calendar.SUNDAY] == 1 for x in calendar.monthcalendar(yy,mm)])\n",
    "    return res\n",
    "\n",
    "total_sundays = 0\n",
    "for yy in range(1901, 2001):\n",
    "    total_sundays += num_sundays_on_first(yy)\n",
    "total_sundays"
   ]
  }
 ],
 "metadata": {
  "kernelspec": {
   "display_name": "Python 3",
   "language": "python",
   "name": "python3"
  },
  "language_info": {
   "codemirror_mode": {
    "name": "ipython",
    "version": 3
   },
   "file_extension": ".py",
   "mimetype": "text/x-python",
   "name": "python",
   "nbconvert_exporter": "python",
   "pygments_lexer": "ipython3",
   "version": "3.7.6"
  }
 },
 "nbformat": 4,
 "nbformat_minor": 2
}
