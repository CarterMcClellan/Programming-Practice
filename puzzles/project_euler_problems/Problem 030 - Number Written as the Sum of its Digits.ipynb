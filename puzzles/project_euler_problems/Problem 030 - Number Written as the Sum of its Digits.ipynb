{
 "cells": [
  {
   "cell_type": "code",
   "execution_count": 10,
   "metadata": {},
   "outputs": [],
   "source": [
    "digit_map = {str(i) : pow(i, 5) for i in range(10)}\n",
    "def digit_val(n):\n",
    "    return sum(map(lambda x: digit_map[x], str(n)))"
   ]
  },
  {
   "cell_type": "code",
   "execution_count": 15,
   "metadata": {},
   "outputs": [
    {
     "data": {
      "text/plain": [
       "354294"
      ]
     },
     "execution_count": 15,
     "metadata": {},
     "output_type": "execute_result"
    }
   ],
   "source": [
    "# first things first lets establish an upper bound\n",
    "# assumme there exists an integer N for which all integers i\n",
    "# greater than N, the sum of whose digits to the power of 5\n",
    "# are less than i\n",
    "\n",
    "# the trivial example is 999,999 which is the first sequence \n",
    "# of 9s whose value is greater than its sum of digits\n",
    "digit_val(999999)"
   ]
  },
  {
   "cell_type": "code",
   "execution_count": 19,
   "metadata": {},
   "outputs": [
    {
     "data": {
      "text/plain": [
       "443839"
      ]
     },
     "execution_count": 19,
     "metadata": {},
     "output_type": "execute_result"
    }
   ],
   "source": [
    "sum([i for i in range(2, 999999) if digit_val(i) == i])"
   ]
  }
 ],
 "metadata": {
  "kernelspec": {
   "display_name": "Python 3",
   "language": "python",
   "name": "python3"
  },
  "language_info": {
   "codemirror_mode": {
    "name": "ipython",
    "version": 3
   },
   "file_extension": ".py",
   "mimetype": "text/x-python",
   "name": "python",
   "nbconvert_exporter": "python",
   "pygments_lexer": "ipython3",
   "version": "3.7.6"
  }
 },
 "nbformat": 4,
 "nbformat_minor": 2
}
