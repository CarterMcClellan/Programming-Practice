{
 "cells": [
  {
   "cell_type": "code",
   "execution_count": 19,
   "metadata": {},
   "outputs": [],
   "source": [
    "def collatz(n):\n",
    "    while n != 1:\n",
    "        if n % 2 == 0:\n",
    "            yield int(n)\n",
    "            n /= 2\n",
    "        else:\n",
    "            yield int(n)\n",
    "            n = 3*n + 1\n",
    "    yield 1"
   ]
  },
  {
   "cell_type": "code",
   "execution_count": 43,
   "metadata": {},
   "outputs": [],
   "source": [
    "# problem is pretty simple\n",
    "# find the collatz sequence with the longest length under 1 million\n",
    "# first optimization we can make is we stop calculating the chain length if we have already seen this number\n",
    "# before\n",
    "\n",
    "verbose = True\n",
    "dp = {}\n",
    "dp[1] = 1\n",
    "for s in range(2, 1000001):\n",
    "    chain_length = 0\n",
    "    for c in collatz(s):\n",
    "        if c in dp:\n",
    "            dp[s] = chain_length + dp[c]\n",
    "            break\n",
    "        chain_length += 1"
   ]
  },
  {
   "cell_type": "code",
   "execution_count": 46,
   "metadata": {},
   "outputs": [
    {
     "data": {
      "text/plain": [
       "837799"
      ]
     },
     "execution_count": 46,
     "metadata": {},
     "output_type": "execute_result"
    }
   ],
   "source": [
    "max(dp, key=dp.get)"
   ]
  },
  {
   "cell_type": "code",
   "execution_count": 47,
   "metadata": {},
   "outputs": [
    {
     "data": {
      "text/plain": [
       "525"
      ]
     },
     "execution_count": 47,
     "metadata": {},
     "output_type": "execute_result"
    }
   ],
   "source": [
    "dp[837799]"
   ]
  }
 ],
 "metadata": {
  "kernelspec": {
   "display_name": "Python 3",
   "language": "python",
   "name": "python3"
  },
  "language_info": {
   "codemirror_mode": {
    "name": "ipython",
    "version": 3
   },
   "file_extension": ".py",
   "mimetype": "text/x-python",
   "name": "python",
   "nbconvert_exporter": "python",
   "pygments_lexer": "ipython3",
   "version": "3.7.6"
  }
 },
 "nbformat": 4,
 "nbformat_minor": 2
}
