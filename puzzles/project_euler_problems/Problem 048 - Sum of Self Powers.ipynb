{
 "cells": [
  {
   "cell_type": "code",
   "execution_count": 2,
   "metadata": {},
   "outputs": [],
   "source": [
    "# Note that this is called the Hyper Triangular Function\n",
    "# Find the last 10 digits of 1^1 + 2^2 + ... + 1000^1000\n"
   ]
  },
  {
   "cell_type": "code",
   "execution_count": 17,
   "metadata": {},
   "outputs": [
    {
     "name": "stdout",
     "output_type": "stream",
     "text": [
      "1000 9110846700\n"
     ]
    }
   ],
   "source": [
    "res = 0\n",
    "for i in range(1, 1001):\n",
    "    value = pow(i, i)\n",
    "    as_str = str(value)\n",
    "    if len(as_str) > 10:\n",
    "        value = int(as_str[-10:])\n",
    "    res += value\n",
    "print(i, str(res)[-10:])"
   ]
  }
 ],
 "metadata": {
  "kernelspec": {
   "display_name": "Python 3",
   "language": "python",
   "name": "python3"
  },
  "language_info": {
   "codemirror_mode": {
    "name": "ipython",
    "version": 3
   },
   "file_extension": ".py",
   "mimetype": "text/x-python",
   "name": "python",
   "nbconvert_exporter": "python",
   "pygments_lexer": "ipython3",
   "version": "3.7.6"
  }
 },
 "nbformat": 4,
 "nbformat_minor": 2
}
