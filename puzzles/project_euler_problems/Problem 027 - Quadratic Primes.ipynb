{
 "cells": [
  {
   "cell_type": "code",
   "execution_count": 1,
   "metadata": {},
   "outputs": [],
   "source": [
    "import math\n",
    "\n",
    "import numpy as np"
   ]
  },
  {
   "cell_type": "code",
   "execution_count": 2,
   "metadata": {},
   "outputs": [],
   "source": [
    "def eratosthenes_sieve_v3(N, include_one=False):\n",
    "    l = np.ones(N, dtype=np.bool)\n",
    "    \n",
    "    find_multiples = lambda n, C : [i*n-1 for i in range(2, C//n +1)]\n",
    "    upper_bound = math.ceil(math.sqrt(N))\n",
    "    for val in range(2, upper_bound+1):\n",
    "        if l[val-1]:\n",
    "            multiples = find_multiples(val, N)\n",
    "            l[multiples] = False\n",
    "            \n",
    "    primes = set((np.nonzero(l)[0] + 1).tolist())\n",
    "    if not include_one:\n",
    "        primes.remove(1)\n",
    "    return primes\n",
    "\n",
    "def eratosthenes_primality(known_primes, i):\n",
    "    return all(i % p != 0 for p in known_primes)"
   ]
  },
  {
   "cell_type": "code",
   "execution_count": 3,
   "metadata": {},
   "outputs": [],
   "source": [
    "first_1m_primes = eratosthenes_sieve_v3(1000000)"
   ]
  },
  {
   "cell_type": "code",
   "execution_count": 4,
   "metadata": {},
   "outputs": [],
   "source": [
    "def quadratic_primes(a, b):\n",
    "    for n in range(0, 1000):\n",
    "        result = pow(n, 2) + a * n + b\n",
    "        if not (result in first_1m_primes):\n",
    "            break\n",
    "    return n"
   ]
  },
  {
   "cell_type": "code",
   "execution_count": 6,
   "metadata": {},
   "outputs": [
    {
     "name": "stdout",
     "output_type": "stream",
     "text": [
      "New max 71 a: -61 b: 971\n"
     ]
    }
   ],
   "source": [
    "max_quad_primes, max_a, max_b = 40, 1, 41\n",
    "\n",
    "for a in range(-1000, 1000):\n",
    "    for b in range(-1000, 1000):\n",
    "        tmp = quadratic_primes(a, b)\n",
    "        if tmp > max_quad_primes:\n",
    "            print(\"New max\", tmp, \"a:\", a, \"b:\", b)\n",
    "            max_quad_primes = tmp\n",
    "            max_a = a\n",
    "            max_b = b"
   ]
  },
  {
   "cell_type": "code",
   "execution_count": 7,
   "metadata": {},
   "outputs": [
    {
     "data": {
      "text/plain": [
       "-59231"
      ]
     },
     "execution_count": 7,
     "metadata": {},
     "output_type": "execute_result"
    }
   ],
   "source": [
    "-61 * 971"
   ]
  }
 ],
 "metadata": {
  "kernelspec": {
   "display_name": "Python 3",
   "language": "python",
   "name": "python3"
  },
  "language_info": {
   "codemirror_mode": {
    "name": "ipython",
    "version": 3
   },
   "file_extension": ".py",
   "mimetype": "text/x-python",
   "name": "python",
   "nbconvert_exporter": "python",
   "pygments_lexer": "ipython3",
   "version": "3.7.6"
  }
 },
 "nbformat": 4,
 "nbformat_minor": 2
}
