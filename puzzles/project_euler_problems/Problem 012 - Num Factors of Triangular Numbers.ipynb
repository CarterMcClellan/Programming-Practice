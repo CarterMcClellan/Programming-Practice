{
 "cells": [
  {
   "cell_type": "code",
   "execution_count": 1,
   "metadata": {},
   "outputs": [],
   "source": [
    "import numpy as np"
   ]
  },
  {
   "cell_type": "code",
   "execution_count": 2,
   "metadata": {},
   "outputs": [],
   "source": [
    "def eratosthenes_sieve_v2(N):\n",
    "    # main optimization of v2 use a np array for broadcasted indexing\n",
    "    l = np.array([True] * N)\n",
    "    primes = set([1])\n",
    "    \n",
    "    # return all multiples of n, less than C\n",
    "    find_multiples = lambda n, C : [i*n-1 for i in range(1, C//n +1)]\n",
    "    for val in range(2, N+1):\n",
    "        if l[val-1]:\n",
    "            multiples = find_multiples(val, N)\n",
    "            l[multiples] = False\n",
    "            primes.add(val)\n",
    "            \n",
    "    return primes\n",
    "\n",
    "def prime_factorization_v3(N, known_primes):\n",
    "    prime_factors = []\n",
    "    for prime in known_primes:\n",
    "        tmp = []\n",
    "        if N == 1: break\n",
    "        while N % prime == 0:\n",
    "            N = N / prime\n",
    "            tmp.append(prime)\n",
    "        if tmp:\n",
    "            prime_factors.append(tmp)\n",
    "    return prime_factors\n",
    "\n",
    "def num_factors(N, known_primes):\n",
    "    prime_factors = prime_factorization_v3(N, known_primes)\n",
    "    s = 1\n",
    "    for p in prime_factors:\n",
    "        s *= (len(p) + 1)\n",
    "    return s"
   ]
  },
  {
   "cell_type": "code",
   "execution_count": 3,
   "metadata": {},
   "outputs": [],
   "source": [
    "# This is the Naive Approach\n",
    "def triangle_sum(n):\n",
    "    return int(n*(n+1)/2)\n",
    "\n",
    "def triangular_numbers(N):\n",
    "    return (triangle_sum(i) for i in range(1, N+1))\n",
    "\n",
    "# use the fact that\n",
    "# triangle_num_{i + 1} - triangle_num_{i} = n + 1\n",
    "def triangular_numbers_v2(N):\n",
    "    curr = 1\n",
    "    for n in range(1, N + 1):\n",
    "        yield curr\n",
    "        curr += n + 1\n",
    "        \n",
    "def triangular_conditional(N):\n",
    "    pass"
   ]
  },
  {
   "cell_type": "code",
   "execution_count": 4,
   "metadata": {},
   "outputs": [
    {
     "name": "stdout",
     "output_type": "stream",
     "text": [
      "1 num factors 1\n",
      "3 num factors 2\n",
      "6 num factors 4\n",
      "28 num factors 6\n",
      "36 num factors 9\n",
      "120 num factors 16\n",
      "300 num factors 18\n",
      "528 num factors 20\n",
      "630 num factors 24\n",
      "2016 num factors 36\n",
      "3240 num factors 40\n",
      "5460 num factors 48\n",
      "25200 num factors 90\n",
      "73920 num factors 112\n",
      "157080 num factors 128\n",
      "437580 num factors 144\n",
      "749700 num factors 162\n",
      "1385280 num factors 168\n",
      "1493856 num factors 192\n",
      "2031120 num factors 240\n",
      "2162160 num factors 320\n",
      "17907120 num factors 480\n",
      "76576500 num factors 576\n",
      "76576500\n"
     ]
    }
   ],
   "source": [
    "arbitrarily_large_int = int(1e6)\n",
    "known_primes = eratosthenes_sieve_v2(arbitrarily_large_int)\n",
    "known_primes.remove(1)\n",
    "largest_num_factors = 0\n",
    "for triangular_num in triangular_numbers_v2(arbitrarily_large_int):\n",
    "    num_factors_ = num_factors(triangular_num, known_primes)\n",
    "    if num_factors_ > largest_num_factors:\n",
    "        print(triangular_num, \"num factors\", num_factors_, flush=True)\n",
    "        largest_num_factors = num_factors_\n",
    "    if num_factors_ >= 500:\n",
    "        print(triangular_num)\n",
    "        break"
   ]
  }
 ],
 "metadata": {
  "kernelspec": {
   "display_name": "Python 3",
   "language": "python",
   "name": "python3"
  },
  "language_info": {
   "codemirror_mode": {
    "name": "ipython",
    "version": 3
   },
   "file_extension": ".py",
   "mimetype": "text/x-python",
   "name": "python",
   "nbconvert_exporter": "python",
   "pygments_lexer": "ipython3",
   "version": "3.7.6"
  }
 },
 "nbformat": 4,
 "nbformat_minor": 4
}
