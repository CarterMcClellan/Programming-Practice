{
 "cells": [
  {
   "cell_type": "code",
   "execution_count": 1,
   "metadata": {},
   "outputs": [],
   "source": [
    "# Goldbach's other conjecture \n",
    "# Any composite number can be \n",
    "# written as the sum of a prime and twice a square\n",
    "\n",
    "# eg\n",
    "# 9 = 7 + 2*(1^2)\n",
    "# 15 = 7 + 2*(2^2)\n",
    "# ...\n",
    "\n",
    "# find a counter example"
   ]
  },
  {
   "cell_type": "code",
   "execution_count": 2,
   "metadata": {},
   "outputs": [],
   "source": [
    "import numpy as np\n",
    "import math"
   ]
  },
  {
   "cell_type": "code",
   "execution_count": 3,
   "metadata": {},
   "outputs": [],
   "source": [
    "def eratosthenes_sieve_v3(N, include_one=False):\n",
    "    l = np.ones(N, dtype=np.bool)\n",
    "    \n",
    "    find_multiples = lambda n, C : [i*n-1 for i in range(2, C//n +1)]\n",
    "    upper_bound = math.ceil(math.sqrt(N))\n",
    "    for val in range(2, upper_bound+1):\n",
    "        if l[val-1]:\n",
    "            multiples = find_multiples(val, N)\n",
    "            l[multiples] = False\n",
    "            \n",
    "    primes = set((np.nonzero(l)[0] + 1).tolist())\n",
    "    if not include_one:\n",
    "        primes.remove(1)\n",
    "    return primes"
   ]
  },
  {
   "cell_type": "code",
   "execution_count": 4,
   "metadata": {},
   "outputs": [],
   "source": [
    "N = 1000000\n",
    "# linear_coef = 2*np.power(np.arange(1, N), 2)\n",
    "known_primes_set = eratosthenes_sieve_v3(N)\n",
    "known_primes = sorted(list(known_primes_set))"
   ]
  },
  {
   "cell_type": "code",
   "execution_count": 5,
   "metadata": {},
   "outputs": [],
   "source": [
    "def is_goldbach(a):\n",
    "    # just a modified version of 2 sum\n",
    "    for p in known_primes:\n",
    "        # print(p, a-p, (a-p)//2)\n",
    "        if p > a:\n",
    "            return False\n",
    "        \n",
    "        if (a - p) % 2 != 0:\n",
    "            continue\n",
    "        \n",
    "        if math.sqrt((a - p) // 2).is_integer():\n",
    "            return True\n",
    "    \n",
    "    return False"
   ]
  },
  {
   "cell_type": "code",
   "execution_count": 9,
   "metadata": {},
   "outputs": [
    {
     "name": "stdout",
     "output_type": "stream",
     "text": [
      "5777 does not meet this new goldbach condition\n"
     ]
    }
   ],
   "source": [
    "for i in range(2, N):\n",
    "    if i % 2 == 0: \n",
    "        continue\n",
    "        \n",
    "    if i in known_primes_set:\n",
    "        continue\n",
    "    \n",
    "    if not is_goldbach(i):\n",
    "        print(i, \"does not meet this new goldbach condition\")\n",
    "        break"
   ]
  }
 ],
 "metadata": {
  "kernelspec": {
   "display_name": "Python 3",
   "language": "python",
   "name": "python3"
  },
  "language_info": {
   "codemirror_mode": {
    "name": "ipython",
    "version": 3
   },
   "file_extension": ".py",
   "mimetype": "text/x-python",
   "name": "python",
   "nbconvert_exporter": "python",
   "pygments_lexer": "ipython3",
   "version": "3.7.6"
  }
 },
 "nbformat": 4,
 "nbformat_minor": 2
}
