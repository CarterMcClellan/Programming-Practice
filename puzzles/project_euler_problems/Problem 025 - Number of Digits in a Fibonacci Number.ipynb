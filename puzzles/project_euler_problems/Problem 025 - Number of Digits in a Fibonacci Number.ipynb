{
 "cells": [
  {
   "cell_type": "code",
   "execution_count": 15,
   "metadata": {},
   "outputs": [],
   "source": [
    "import math"
   ]
  },
  {
   "cell_type": "code",
   "execution_count": 16,
   "metadata": {},
   "outputs": [],
   "source": [
    "def num_digits_fibo(n):\n",
    "    sqrt_5 = math.sqrt(5)\n",
    "    golden_ratio = (1 + sqrt_5) / 2\n",
    "    return math.ceil(n*math.log10(golden_ratio) - 1/2*math.log10(sqrt_5))"
   ]
  },
  {
   "cell_type": "code",
   "execution_count": 17,
   "metadata": {},
   "outputs": [
    {
     "name": "stdout",
     "output_type": "stream",
     "text": [
      "Number of digits in 4782 fibonacci number is greater than 1000\n"
     ]
    }
   ],
   "source": [
    "arb_large_int = 100000\n",
    "for i in range(2, arb_large_int):\n",
    "    if num_digits_fibo(i) >= 1000:\n",
    "        print(\"Number of digits in\", i, \"fibonacci number is greater than 1000\")\n",
    "        break"
   ]
  }
 ],
 "metadata": {
  "kernelspec": {
   "display_name": "Python 3",
   "language": "python",
   "name": "python3"
  },
  "language_info": {
   "codemirror_mode": {
    "name": "ipython",
    "version": 3
   },
   "file_extension": ".py",
   "mimetype": "text/x-python",
   "name": "python",
   "nbconvert_exporter": "python",
   "pygments_lexer": "ipython3",
   "version": "3.7.6"
  }
 },
 "nbformat": 4,
 "nbformat_minor": 2
}
