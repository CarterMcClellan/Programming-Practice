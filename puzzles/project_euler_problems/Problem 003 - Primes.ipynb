{
 "cells": [
  {
   "cell_type": "code",
   "execution_count": 17,
   "metadata": {},
   "outputs": [],
   "source": [
    "def prime_factors(n):\n",
    "    known_primes = set()\n",
    "    prime_factors = set()\n",
    "    for i in range(2, n+1):\n",
    "        if n in known_primes or n == 1.: \n",
    "            break\n",
    "        if euclid_primality(known_primes, i):\n",
    "            known_primes.add(i)\n",
    "            if n % i == 0:\n",
    "                n = n / i\n",
    "                prime_factors.add(i)\n",
    "                \n",
    "    return prime_factors"
   ]
  },
  {
   "cell_type": "code",
   "execution_count": 18,
   "metadata": {},
   "outputs": [
    {
     "data": {
      "text/plain": [
       "{71, 839, 1471, 6857}"
      ]
     },
     "execution_count": 18,
     "metadata": {},
     "output_type": "execute_result"
    }
   ],
   "source": [
    "prime_factors(600851475143)"
   ]
  }
 ],
 "metadata": {
  "kernelspec": {
   "display_name": "Python 3",
   "language": "python",
   "name": "python3"
  },
  "language_info": {
   "codemirror_mode": {
    "name": "ipython",
    "version": 3
   },
   "file_extension": ".py",
   "mimetype": "text/x-python",
   "name": "python",
   "nbconvert_exporter": "python",
   "pygments_lexer": "ipython3",
   "version": "3.8.5"
  }
 },
 "nbformat": 4,
 "nbformat_minor": 2
}
