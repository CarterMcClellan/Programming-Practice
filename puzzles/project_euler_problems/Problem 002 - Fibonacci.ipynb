{
 "cells": [
  {
   "cell_type": "code",
   "execution_count": 3,
   "metadata": {},
   "outputs": [],
   "source": [
    "def fibo(C):\n",
    "    vals = [1, 1]\n",
    "    curr, prev = 1, 1\n",
    "    while curr + prev < C:\n",
    "        next_ = curr + prev\n",
    "        prev = curr\n",
    "        curr = next_\n",
    "        vals.append(next_)\n",
    "    return vals"
   ]
  },
  {
   "cell_type": "code",
   "execution_count": 6,
   "metadata": {},
   "outputs": [],
   "source": [
    "def even_fibo(C):\n",
    "    vals = []\n",
    "    curr, prev = 1, 1\n",
    "    while curr + prev < C:\n",
    "        next_ = curr + prev\n",
    "        prev = curr\n",
    "        curr = next_\n",
    "        if next_ % 2 == 0:\n",
    "            vals.append(next_)\n",
    "    return vals"
   ]
  },
  {
   "cell_type": "code",
   "execution_count": 11,
   "metadata": {},
   "outputs": [
    {
     "data": {
      "text/plain": [
       "1089154"
      ]
     },
     "execution_count": 11,
     "metadata": {},
     "output_type": "execute_result"
    }
   ],
   "source": [
    "sum(even_fibo(1e6))"
   ]
  }
 ],
 "metadata": {
  "kernelspec": {
   "display_name": "Python 3",
   "language": "python",
   "name": "python3"
  },
  "language_info": {
   "codemirror_mode": {
    "name": "ipython",
    "version": 3
   },
   "file_extension": ".py",
   "mimetype": "text/x-python",
   "name": "python",
   "nbconvert_exporter": "python",
   "pygments_lexer": "ipython3",
   "version": "3.7.6"
  }
 },
 "nbformat": 4,
 "nbformat_minor": 2
}
