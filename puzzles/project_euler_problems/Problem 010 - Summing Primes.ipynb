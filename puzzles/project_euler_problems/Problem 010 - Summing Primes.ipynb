{
 "cells": [
  {
   "cell_type": "code",
   "execution_count": 6,
   "metadata": {},
   "outputs": [],
   "source": [
    "import numpy as np"
   ]
  },
  {
   "cell_type": "code",
   "execution_count": 7,
   "metadata": {},
   "outputs": [],
   "source": [
    "def find_multiples(n, C):\n",
    "    \"\"\" find all multuples of a number n which are less than or equal to C \"\"\"\n",
    "    return [i*n-1 for i in range(1, C//n +1)]"
   ]
  },
  {
   "cell_type": "code",
   "execution_count": 8,
   "metadata": {},
   "outputs": [],
   "source": [
    "def erathoneses_sieve_v2(N):\n",
    "    l = np.array([True] * N)\n",
    "    primes = set([1])\n",
    "    for val in range(2, N+1):\n",
    "        if l[val-1]:\n",
    "            multiples = find_multiples(val, N)\n",
    "            l[multiples] = False\n",
    "            primes.add(val)\n",
    "            \n",
    "    return primes"
   ]
  },
  {
   "cell_type": "code",
   "execution_count": 12,
   "metadata": {},
   "outputs": [
    {
     "data": {
      "text/plain": [
       "{1, 2, 3, 5, 7, 11, 13, 17, 19, 23, 29, 31, 37, 41}"
      ]
     },
     "execution_count": 12,
     "metadata": {},
     "output_type": "execute_result"
    }
   ],
   "source": [
    "erathoneses_sieve_v2(42)"
   ]
  }
 ],
 "metadata": {
  "kernelspec": {
   "display_name": "Python 3",
   "language": "python",
   "name": "python3"
  },
  "language_info": {
   "codemirror_mode": {
    "name": "ipython",
    "version": 3
   },
   "file_extension": ".py",
   "mimetype": "text/x-python",
   "name": "python",
   "nbconvert_exporter": "python",
   "pygments_lexer": "ipython3",
   "version": "3.8.5"
  }
 },
 "nbformat": 4,
 "nbformat_minor": 4
}
