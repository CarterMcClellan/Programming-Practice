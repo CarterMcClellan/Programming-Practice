{
 "cells": [
  {
   "cell_type": "code",
   "execution_count": 1,
   "metadata": {},
   "outputs": [],
   "source": [
    "import multiprocessing as mp\n",
    "\n",
    "from operator import mul\n",
    "from functools import reduce\n",
    "from itertools import starmap"
   ]
  },
  {
   "cell_type": "code",
   "execution_count": 2,
   "metadata": {},
   "outputs": [],
   "source": [
    "def mp_binary_factorial(n, NUM_CORES=16):\n",
    "    # same methodology as binary factorial\n",
    "    with mp.Pool(processes=NUM_CORES) as pool:\n",
    "        values = pool.starmap(mul, zip(range(1, n+1, 2), range(2, n+1, 2)))\n",
    "    \n",
    "    if n % 2 != 0:\n",
    "        values += [n]\n",
    "    \n",
    "    return reduce(mul, values)"
   ]
  },
  {
   "cell_type": "code",
   "execution_count": 5,
   "metadata": {},
   "outputs": [
    {
     "data": {
      "text/plain": [
       "648"
      ]
     },
     "execution_count": 5,
     "metadata": {},
     "output_type": "execute_result"
    }
   ],
   "source": [
    "sum([int(s) for s in str(mp_binary_factorial(100))])"
   ]
  }
 ],
 "metadata": {
  "kernelspec": {
   "display_name": "Python 3",
   "language": "python",
   "name": "python3"
  },
  "language_info": {
   "codemirror_mode": {
    "name": "ipython",
    "version": 3
   },
   "file_extension": ".py",
   "mimetype": "text/x-python",
   "name": "python",
   "nbconvert_exporter": "python",
   "pygments_lexer": "ipython3",
   "version": "3.7.6"
  }
 },
 "nbformat": 4,
 "nbformat_minor": 2
}
