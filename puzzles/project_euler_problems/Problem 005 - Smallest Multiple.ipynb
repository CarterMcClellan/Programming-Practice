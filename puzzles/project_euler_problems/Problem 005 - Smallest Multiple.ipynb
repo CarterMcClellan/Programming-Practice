{
 "cells": [
  {
   "cell_type": "code",
   "execution_count": 71,
   "metadata": {},
   "outputs": [],
   "source": [
    "def prime_factorization(n):\n",
    "    if n == 1: return [1]\n",
    "    known_primes = set()\n",
    "    prime_factors = []\n",
    "    for i in range(2, n+1):\n",
    "        # if we have reduced our original number to 1\n",
    "        # we exit, factorization complete\n",
    "        if n == 1.: \n",
    "            break\n",
    "        \n",
    "        # if n is prime\n",
    "        if euclid_primality(known_primes, i):\n",
    "            known_primes.add(i)\n",
    "            while n % i == 0:\n",
    "                n = n / i\n",
    "                prime_factors.append(i)\n",
    "                \n",
    "    return prime_factors\n",
    "\n",
    "def euclid_primality(known_primes, i):\n",
    "    return all(i % p != 0 for p in known_primes)"
   ]
  },
  {
   "cell_type": "code",
   "execution_count": 75,
   "metadata": {},
   "outputs": [
    {
     "data": {
      "text/plain": [
       "[[1], [2], [3], [2, 2], [5], [2, 3], [7], [2, 2, 2], [3, 3], [2, 5]]"
      ]
     },
     "execution_count": 75,
     "metadata": {},
     "output_type": "execute_result"
    }
   ],
   "source": [
    "[prime_factorization(i) for i in range(1, 11)]"
   ]
  },
  {
   "cell_type": "code",
   "execution_count": 74,
   "metadata": {},
   "outputs": [
    {
     "data": {
      "text/plain": [
       "2520"
      ]
     },
     "execution_count": 74,
     "metadata": {},
     "output_type": "execute_result"
    }
   ],
   "source": [
    "(2**3)*(3**2)*(5)*(7)"
   ]
  },
  {
   "cell_type": "code",
   "execution_count": 76,
   "metadata": {},
   "outputs": [
    {
     "data": {
      "text/plain": [
       "[[1],\n",
       " [2],\n",
       " [3],\n",
       " [2, 2],\n",
       " [5],\n",
       " [2, 3],\n",
       " [7],\n",
       " [2, 2, 2],\n",
       " [3, 3],\n",
       " [2, 5],\n",
       " [11],\n",
       " [2, 2, 3],\n",
       " [13],\n",
       " [2, 7],\n",
       " [3, 5],\n",
       " [2, 2, 2, 2],\n",
       " [17],\n",
       " [2, 3, 3],\n",
       " [19],\n",
       " [2, 2, 5]]"
      ]
     },
     "execution_count": 76,
     "metadata": {},
     "output_type": "execute_result"
    }
   ],
   "source": [
    "[prime_factorization(i) for i in range(1, 21)]"
   ]
  },
  {
   "cell_type": "code",
   "execution_count": 77,
   "metadata": {},
   "outputs": [
    {
     "data": {
      "text/plain": [
       "232792560"
      ]
     },
     "execution_count": 77,
     "metadata": {},
     "output_type": "execute_result"
    }
   ],
   "source": [
    "(2**4)*(3**2)*5*7*11*13*17*19"
   ]
  },
  {
   "cell_type": "code",
   "execution_count": 78,
   "metadata": {},
   "outputs": [
    {
     "name": "stdout",
     "output_type": "stream",
     "text": [
      "1 0\n",
      "2 0\n",
      "3 0\n",
      "4 0\n",
      "5 0\n",
      "6 0\n",
      "7 0\n",
      "8 0\n",
      "9 0\n",
      "10 0\n",
      "11 0\n",
      "12 0\n",
      "13 0\n",
      "14 0\n",
      "15 0\n",
      "16 0\n",
      "17 0\n",
      "18 0\n",
      "19 0\n",
      "20 0\n"
     ]
    }
   ],
   "source": [
    "N = 232792560\n",
    "for i in range(1, 21):\n",
    "    print(i, N % i)"
   ]
  }
 ],
 "metadata": {
  "kernelspec": {
   "display_name": "Python 3",
   "language": "python",
   "name": "python3"
  },
  "language_info": {
   "codemirror_mode": {
    "name": "ipython",
    "version": 3
   },
   "file_extension": ".py",
   "mimetype": "text/x-python",
   "name": "python",
   "nbconvert_exporter": "python",
   "pygments_lexer": "ipython3",
   "version": "3.8.5"
  }
 },
 "nbformat": 4,
 "nbformat_minor": 4
}
