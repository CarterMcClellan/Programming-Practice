{
 "cells": [
  {
   "cell_type": "code",
   "execution_count": 4,
   "metadata": {},
   "outputs": [],
   "source": [
    "def generate_triples(N):\n",
    "    triples = set()\n",
    "    for m in range(2, N):\n",
    "        for n in range(1, m):\n",
    "            triples.add((m**2 - n**2, 2*m*n, n**2 + m**2))\n",
    "            \n",
    "    return triples\n",
    "\n",
    "def prod(l):\n",
    "    i = 1\n",
    "    for v in l:\n",
    "        i *= v\n",
    "    return i"
   ]
  },
  {
   "cell_type": "code",
   "execution_count": 5,
   "metadata": {},
   "outputs": [
    {
     "name": "stdout",
     "output_type": "stream",
     "text": [
      "(375, 200, 425) 31875000\n"
     ]
    }
   ],
   "source": [
    "for t in generate_triples(100):\n",
    "    if sum(t) == 1000:\n",
    "        print(t, prod(t))"
   ]
  },
  {
   "cell_type": "code",
   "execution_count": null,
   "metadata": {},
   "outputs": [],
   "source": []
  }
 ],
 "metadata": {
  "kernelspec": {
   "display_name": "Python 3",
   "language": "python",
   "name": "python3"
  },
  "language_info": {
   "codemirror_mode": {
    "name": "ipython",
    "version": 3
   },
   "file_extension": ".py",
   "mimetype": "text/x-python",
   "name": "python",
   "nbconvert_exporter": "python",
   "pygments_lexer": "ipython3",
   "version": "3.8.5"
  }
 },
 "nbformat": 4,
 "nbformat_minor": 4
}
