{
 "cells": [
  {
   "cell_type": "code",
   "execution_count": 1,
   "metadata": {},
   "outputs": [],
   "source": [
    "# Standard Lib\n",
    "import math\n",
    "from time import time\n",
    "from collections import Counter\n",
    "\n",
    "# Advanced Array Manipulation\n",
    "import numpy as np"
   ]
  },
  {
   "cell_type": "code",
   "execution_count": 2,
   "metadata": {},
   "outputs": [],
   "source": [
    "def eratosthenes_sieve_v3(N, include_one=False):\n",
    "    l = np.ones(N, dtype=np.bool)\n",
    "    \n",
    "    find_multiples = lambda n, C : [i*n-1 for i in range(2, C//n +1)]\n",
    "    upper_bound = math.ceil(math.sqrt(N))\n",
    "    for val in range(2, upper_bound+1):\n",
    "        if l[val-1]:\n",
    "            multiples = find_multiples(val, N)\n",
    "            l[multiples] = False\n",
    "            \n",
    "    primes = set((np.nonzero(l)[0] + 1).tolist())\n",
    "    if not include_one:\n",
    "        primes.remove(1)\n",
    "    return primes"
   ]
  },
  {
   "cell_type": "code",
   "execution_count": 3,
   "metadata": {},
   "outputs": [],
   "source": [
    "four_digit_primes = eratosthenes_sieve_v3(10000)"
   ]
  },
  {
   "cell_type": "code",
   "execution_count": 7,
   "metadata": {},
   "outputs": [
    {
     "name": "stdout",
     "output_type": "stream",
     "text": [
      "8\n"
     ]
    }
   ],
   "source": [
    "# idea: use this DP code for counting arthimetic sequences\n",
    "# to find all arithmetic sequences\n",
    "\n",
    "MAX = 1000001\n",
    " \n",
    "def numofAP(a, n):\n",
    " \n",
    "    # initializing the minimum value and\n",
    "    # maximum value of the array.\n",
    "    minarr = +2147483647\n",
    "    maxarr = -2147483648\n",
    " \n",
    "    # Finding the minimum and\n",
    "    # maximum value of the array.\n",
    "    for i in range(n):\n",
    "        minarr = min(minarr, a[i])\n",
    "        maxarr = max(maxarr, a[i])\n",
    "     \n",
    " \n",
    "    # dp[i] is going to store count of APs ending\n",
    "    # with arr[i].\n",
    "    # sum[j] is going to store sun of all dp[]'s\n",
    "    # with j as an AP element.\n",
    "    dp = [0 for i in range(n + 1)]\n",
    "     \n",
    " \n",
    "    # Initialize answer with n + 1 as single\n",
    "    # elements and empty array are also DP.\n",
    "    ans = n + 1\n",
    " \n",
    "    # Traversing with all common difference.\n",
    "    for d in range((minarr - maxarr), (maxarr - minarr) + 1):\n",
    "        sum = [0 for i in range(MAX + 1)]\n",
    "         \n",
    "        # Traversing all the element of the array.\n",
    "        for i in range(n):\n",
    "         \n",
    "            # Initialize dp[i] = 1.\n",
    "            dp[i] = 1\n",
    " \n",
    "            # Adding counts of APs with given differences\n",
    "            # and a[i] is last element.\n",
    "            # We consider all APs where an array element\n",
    "            # is previous element of AP with a particular\n",
    "            # difference\n",
    "            if (a[i] - d >= 1 and a[i] - d <= 1000000):\n",
    "                dp[i] += sum[a[i] - d]\n",
    " \n",
    "            ans += dp[i] - 1\n",
    "            sum[a[i]] += dp[i]\n",
    " \n",
    "    return ans\n",
    " \n",
    "# Driver code\n",
    "arr = [ 1, 2, 3 ]\n",
    "n = len(arr)\n",
    " \n",
    "print(numofAP(arr, n))"
   ]
  }
 ],
 "metadata": {
  "kernelspec": {
   "display_name": "Python 3",
   "language": "python",
   "name": "python3"
  },
  "language_info": {
   "codemirror_mode": {
    "name": "ipython",
    "version": 3
   },
   "file_extension": ".py",
   "mimetype": "text/x-python",
   "name": "python",
   "nbconvert_exporter": "python",
   "pygments_lexer": "ipython3",
   "version": "3.7.6"
  }
 },
 "nbformat": 4,
 "nbformat_minor": 2
}
