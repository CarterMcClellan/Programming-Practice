{
 "cells": [
  {
   "cell_type": "code",
   "execution_count": 3,
   "metadata": {},
   "outputs": [
    {
     "data": {
      "text/plain": [
       "'bab'"
      ]
     },
     "execution_count": 3,
     "metadata": {},
     "output_type": "execute_result"
    }
   ],
   "source": [
    "def palindrome_substring(s):\n",
    "    def middle_out(s, l, r):\n",
    "        while l >= 0 and r < len(s) and s[l] == s[r]:\n",
    "            l -=1; r+= 1\n",
    "        return s[l+1: r]\n",
    "    \n",
    "    res = \"\"\n",
    "    for i in range(len(s)):\n",
    "        tmp = middle_out(s, i, i)\n",
    "        if len(tmp) > len(res):\n",
    "            res = tmp\n",
    "        tmp = middle_out(s, i, i+1)\n",
    "        if len(tmp) > len(res):\n",
    "            res = tmp\n",
    "    return res\n",
    "\n",
    "palindrome_substring(\"babad\")"
   ]
  }
 ],
 "metadata": {
  "kernelspec": {
   "display_name": "Python 3",
   "language": "python",
   "name": "python3"
  },
  "language_info": {
   "codemirror_mode": {
    "name": "ipython",
    "version": 3
   },
   "file_extension": ".py",
   "mimetype": "text/x-python",
   "name": "python",
   "nbconvert_exporter": "python",
   "pygments_lexer": "ipython3",
   "version": "3.6.8"
  }
 },
 "nbformat": 4,
 "nbformat_minor": 2
}
