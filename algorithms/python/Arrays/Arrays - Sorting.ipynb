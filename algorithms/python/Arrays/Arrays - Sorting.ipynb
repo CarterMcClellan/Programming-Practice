{
 "cells": [
  {
   "cell_type": "code",
   "execution_count": 1,
   "metadata": {},
   "outputs": [],
   "source": [
    "from random import choices"
   ]
  },
  {
   "cell_type": "code",
   "execution_count": 2,
   "metadata": {},
   "outputs": [
    {
     "name": "stdout",
     "output_type": "stream",
     "text": [
      "[2, 5, 9, 0, 7, 3, 4, 5, 1, 5] -> [0, 1, 2, 3, 4, 5, 5, 5, 7, 9]\n"
     ]
    }
   ],
   "source": [
    "# implement a sorting algorithm with constant memory (without using the built in sort)\n",
    "def ss(vals):\n",
    "    for i in range(len(vals)):\n",
    "        min_val = min(vals[i:]) # get min val\n",
    "        min_idx = vals[i:].index(min_val) + i # get index of ith val\n",
    "        vals[i], vals[min_idx] = vals[min_idx], vals[i] # swap min and ith index\n",
    "    return vals\n",
    "\n",
    "tmp = choices(range(10), k=10)\n",
    "print(tmp,\"->\", ss(tmp[:]))"
   ]
  }
 ],
 "metadata": {
  "kernelspec": {
   "display_name": "Python 3",
   "language": "python",
   "name": "python3"
  },
  "language_info": {
   "codemirror_mode": {
    "name": "ipython",
    "version": 3
   },
   "file_extension": ".py",
   "mimetype": "text/x-python",
   "name": "python",
   "nbconvert_exporter": "python",
   "pygments_lexer": "ipython3",
   "version": "3.6.4"
  }
 },
 "nbformat": 4,
 "nbformat_minor": 2
}
