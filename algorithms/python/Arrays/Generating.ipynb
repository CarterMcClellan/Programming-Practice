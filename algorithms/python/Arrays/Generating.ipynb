{
 "cells": [
  {
   "cell_type": "code",
   "execution_count": 1,
   "metadata": {},
   "outputs": [],
   "source": [
    "from itertools import permutations, combinations"
   ]
  },
  {
   "cell_type": "markdown",
   "metadata": {},
   "source": [
    "### Permutations\n",
    "- All possible ways to arrange the list eg\n",
    "```\n",
    "Permuatations(1, 2)\n",
    "-> (1, 2), (2, 1)\n",
    "```"
   ]
  },
  {
   "cell_type": "code",
   "execution_count": 10,
   "metadata": {},
   "outputs": [],
   "source": [
    "def _permutations(l):\n",
    "    res = []\n",
    "    def dfs(l, path):\n",
    "        if not l:\n",
    "            res.append(path)\n",
    "            return\n",
    "        for i in range(len(l)):\n",
    "            dfs(l[:i] + l[i+1:], path+[l[i]])\n",
    "    dfs(l, [])\n",
    "    return res"
   ]
  },
  {
   "cell_type": "code",
   "execution_count": 30,
   "metadata": {},
   "outputs": [],
   "source": [
    "def _permutations_2(l, path):\n",
    "    if len(l) == 1:\n",
    "        yield tuple(path + l)\n",
    "    for i in range(len(l)):\n",
    "        for val in _permutations_2(l[:i] + l[i+1:], path + [l[i]]):\n",
    "            yield val"
   ]
  },
  {
   "cell_type": "code",
   "execution_count": 31,
   "metadata": {},
   "outputs": [
    {
     "name": "stdout",
     "output_type": "stream",
     "text": [
      "[[1, 2, 3], [1, 3, 2], [2, 1, 3], [2, 3, 1], [3, 1, 2], [3, 2, 1]]\n",
      "[(1, 2, 3), (1, 3, 2), (2, 1, 3), (2, 3, 1), (3, 1, 2), (3, 2, 1)]\n",
      "[(1, 2, 3), (1, 3, 2), (2, 1, 3), (2, 3, 1), (3, 1, 2), (3, 2, 1)]\n"
     ]
    }
   ],
   "source": [
    "l = [1, 2, 3]\n",
    "print(_permutations(l))\n",
    "print(list(permutations(l)))\n",
    "print([val for val in _permutations_2(l, [])])"
   ]
  },
  {
   "cell_type": "markdown",
   "metadata": {},
   "source": [
    "### Combinations"
   ]
  },
  {
   "cell_type": "code",
   "execution_count": 63,
   "metadata": {},
   "outputs": [],
   "source": [
    "def _combinations(l, r, path):\n",
    "    if len(path) == r:\n",
    "        yield tuple(path)\n",
    "    elif len(l) == 0:\n",
    "        pass\n",
    "    else:\n",
    "        head = l.pop(0)\n",
    "        path += [head]\n",
    "        for c in _combinations(l[:], r, path[:]):\n",
    "            yield c\n",
    "        path.pop(-1)\n",
    "        for c in _combinations(l[:], r, path[:]):\n",
    "            yield c"
   ]
  },
  {
   "cell_type": "code",
   "execution_count": 102,
   "metadata": {},
   "outputs": [],
   "source": [
    "def _combinations_2(n, available, used):\n",
    "    if len(used) == n:\n",
    "        yield tuple(used)\n",
    "    elif len(available) <= 0:\n",
    "        pass\n",
    "    else:\n",
    "        for c in combs2(n, available[1:], used[:]+[available[0]]):\n",
    "            yield c\n",
    "            \n",
    "        # w.o this combinations([1,2,3]) returns [1, 2], [1, 3], not [2, 3]!\n",
    "        for c in combs2(n, available[1:], used[:]):\n",
    "            yield c"
   ]
  },
  {
   "cell_type": "code",
   "execution_count": 103,
   "metadata": {},
   "outputs": [],
   "source": [
    "def combs(a):\n",
    "    if len(a) == 0:\n",
    "        return [[]]\n",
    "    cs = []\n",
    "    for c in combs(a[1:]):\n",
    "        cs += [c, c+[a[0]]]\n",
    "    return cs"
   ]
  },
  {
   "cell_type": "code",
   "execution_count": 104,
   "metadata": {},
   "outputs": [
    {
     "name": "stdout",
     "output_type": "stream",
     "text": [
      "[(1, 2), (1, 3), (2, 3)]\n",
      "[(1, 2), (1, 3), (2, 3)]\n",
      "[(1, 2), (1, 3), (2, 3)]\n"
     ]
    }
   ],
   "source": [
    "l = [1, 2, 3]\n",
    "r = 2\n",
    "print([c for c in _combinations_2(r, l, [])])\n",
    "print(list(combinations(l, r)))\n",
    "print([c for c in _combinations(l, r, [])])"
   ]
  }
 ],
 "metadata": {
  "kernelspec": {
   "display_name": "Python 3",
   "language": "python",
   "name": "python3"
  },
  "language_info": {
   "codemirror_mode": {
    "name": "ipython",
    "version": 3
   },
   "file_extension": ".py",
   "mimetype": "text/x-python",
   "name": "python",
   "nbconvert_exporter": "python",
   "pygments_lexer": "ipython3",
   "version": "3.6.4"
  }
 },
 "nbformat": 4,
 "nbformat_minor": 2
}
