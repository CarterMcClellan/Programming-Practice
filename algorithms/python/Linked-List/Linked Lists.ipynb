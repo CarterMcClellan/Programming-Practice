{
 "cells": [
  {
   "cell_type": "markdown",
   "metadata": {},
   "source": [
    "## Linked Lists"
   ]
  },
  {
   "cell_type": "markdown",
   "metadata": {},
   "source": [
    "### Class Definition"
   ]
  },
  {
   "cell_type": "code",
   "execution_count": 4,
   "metadata": {},
   "outputs": [],
   "source": [
    "class Node:\n",
    "    def __init__(self, x):\n",
    "        self.val = x\n",
    "        self.next = None"
   ]
  },
  {
   "cell_type": "markdown",
   "metadata": {},
   "source": [
    "### Building a Linked List"
   ]
  },
  {
   "cell_type": "code",
   "execution_count": 5,
   "metadata": {},
   "outputs": [],
   "source": [
    "def build_ll(ll_len=10):\n",
    "    head = Node(1)\n",
    "    curr = head\n",
    "    for i in range(2, ll_len):\n",
    "        tmp = Node(i)\n",
    "        curr.next = tmp\n",
    "        curr = tmp\n",
    "    return head"
   ]
  },
  {
   "cell_type": "markdown",
   "metadata": {},
   "source": [
    "### Cycles"
   ]
  },
  {
   "cell_type": "code",
   "execution_count": 27,
   "metadata": {},
   "outputs": [],
   "source": [
    "def cycle_ll(ll_len=10):\n",
    "    # so first off we want to build a linked list with a cycle in it\n",
    "    head = build_ll(ll_len)\n",
    "\n",
    "    # get the tail pointer\n",
    "    curr = head\n",
    "    while curr.next:\n",
    "        curr = curr.next\n",
    "    tail = curr\n",
    "    tail.next = head\n",
    "    return head"
   ]
  },
  {
   "cell_type": "code",
   "execution_count": 31,
   "metadata": {},
   "outputs": [
    {
     "name": "stdout",
     "output_type": "stream",
     "text": [
      "Cycle Detected for Cycle LL True \n",
      "Cycle Detected for Non-Cycle LL False\n"
     ]
    }
   ],
   "source": [
    "def cycle_detection_1(head):\n",
    "    # solving this question with memory is rather easy\n",
    "    # especially in python because objects are easily hashable\n",
    "    # so all we need to do is a add a simple dict check\n",
    "    # inside of the traversal loop\n",
    "    \n",
    "    # to solve in O(1) we will use an additional pointer\n",
    "    # basic idea is that if the graph has a cycle\n",
    "    # then if we use 2 pointers fast, slow\n",
    "    # they will eventually converge\n",
    "    \n",
    "    # but if they do not ever converge (they both just reach the end of the list)\n",
    "    # then there is no cycle\n",
    "    fast = slow = head\n",
    "    while True:\n",
    "        if fast.next == None:\n",
    "            return False\n",
    "        fast = fast.next\n",
    "        if fast.next == None:\n",
    "            return False\n",
    "        fast = fast.next\n",
    "        slow = slow.next\n",
    "        if fast.val == slow.val:\n",
    "            return True\n",
    "cycle_head = cycle_ll()\n",
    "non_cycle_head = build_ll()\n",
    "print(\"Cycle Detected for Cycle LL\", cycle_detection_1(cycle_head), \"\\nCycle Detected for Non-Cycle LL\", cycle_detection_1(non_cycle_head))"
   ]
  },
  {
   "cell_type": "markdown",
   "metadata": {},
   "source": [
    "### Find Intersection Point"
   ]
  },
  {
   "cell_type": "code",
   "execution_count": 6,
   "metadata": {},
   "outputs": [],
   "source": [
    "def intersect_ll():\n",
    "    # goal is to return the head of 2 linked lists\n",
    "    # which both intersect at some point\n",
    "    curr1 = l1_root = build_ll()\n",
    "    curr2 = l2_root = Node(5)\n",
    "    for i in range(3):\n",
    "        tmp = Node(i)\n",
    "        curr2.next = tmp\n",
    "        curr2 = curr2.next\n",
    "        curr1 = curr1.next\n",
    "    curr2.next = curr1\n",
    "    return l1_root, l2_root"
   ]
  },
  {
   "cell_type": "code",
   "execution_count": 19,
   "metadata": {},
   "outputs": [
    {
     "name": "stdout",
     "output_type": "stream",
     "text": [
      "1 5\n",
      "2 0\n",
      "3 1\n",
      "4 2\n",
      "5 4\n",
      "6 5\n",
      "7 6\n",
      "8 7\n",
      "9 8\n"
     ]
    }
   ],
   "source": [
    "l1_root, l2_root = intersect_ll()\n",
    "for i in range(9):\n",
    "    print(l1_root.val, l2_root.val)\n",
    "    l1_root = l1_root.next\n",
    "    l2_root = l2_root.next\n",
    "\n",
    "# note that the intersection point is the node valued 4"
   ]
  },
  {
   "cell_type": "code",
   "execution_count": 24,
   "metadata": {},
   "outputs": [
    {
     "name": "stdout",
     "output_type": "stream",
     "text": [
      "4\n"
     ]
    }
   ],
   "source": [
    "def intersection_point(headA, headB):\n",
    "    curA,curB = headA,headB\n",
    "    lenA,lenB = 0,0\n",
    "    # GET LENGTHS\n",
    "    while curA is not None:\n",
    "        lenA += 1\n",
    "        curA = curA.next\n",
    "    while curB is not None:\n",
    "        lenB += 1\n",
    "        curB = curB.next\n",
    "    # RESET AND INCREMENT DELTA\n",
    "    curA,curB = headA,headB\n",
    "    if lenA > lenB:\n",
    "        for i in range(lenA-lenB):\n",
    "            curA = curA.next\n",
    "    elif lenB > lenA:\n",
    "        for i in range(lenB-lenA):\n",
    "            curB = curB.next\n",
    "    \n",
    "    # GO UNTIL THEY INTERSECT OR REACH THE END\n",
    "    while curB != curA:\n",
    "        curB = curB.next\n",
    "        curA = curA.next\n",
    "    return curA\n",
    "l1_root, l2_root = intersect_ll()\n",
    "res = intersection_point(l1_root, l2_root)\n",
    "print(res.val)"
   ]
  },
  {
   "cell_type": "markdown",
   "metadata": {},
   "source": [
    "### Reverse a Linked List"
   ]
  },
  {
   "cell_type": "code",
   "execution_count": 39,
   "metadata": {},
   "outputs": [
    {
     "name": "stdout",
     "output_type": "stream",
     "text": [
      "BEFORE REVERSE\n",
      "\n",
      "1 2 3 4 5 6 7 8 9 \n",
      "\n",
      "AFTER REVERSE\n",
      "\n",
      "9 8 7 6 5 4 3 2 1 "
     ]
    }
   ],
   "source": [
    "def rev_ll(head):\n",
    "    stack = [head]\n",
    "    curr = head\n",
    "    while curr.next:\n",
    "        stack = [curr.next] + stack\n",
    "        curr = curr.next\n",
    "    new_head = stack.pop(0)\n",
    "    new_curr = new_head\n",
    "    while stack:\n",
    "        new_curr.next = stack.pop(0)\n",
    "        new_curr = new_curr.next\n",
    "    new_curr.next = None\n",
    "    return new_head\n",
    "\n",
    "print(\"BEFORE REVERSE\\n\")\n",
    "curr = head = build_ll()\n",
    "for _ in range(9):\n",
    "    print(curr.val, end=\" \")\n",
    "    curr = curr.next\n",
    "print(\"\\n\\nAFTER REVERSE\\n\")\n",
    "curr = rev_head = rev_ll(head)\n",
    "for _ in range(9):\n",
    "    print(curr.val, end=\" \")\n",
    "    curr = curr.next"
   ]
  }
 ],
 "metadata": {
  "kernelspec": {
   "display_name": "Python 3",
   "language": "python",
   "name": "python3"
  },
  "language_info": {
   "codemirror_mode": {
    "name": "ipython",
    "version": 3
   },
   "file_extension": ".py",
   "mimetype": "text/x-python",
   "name": "python",
   "nbconvert_exporter": "python",
   "pygments_lexer": "ipython3",
   "version": "3.6.8"
  }
 },
 "nbformat": 4,
 "nbformat_minor": 2
}
