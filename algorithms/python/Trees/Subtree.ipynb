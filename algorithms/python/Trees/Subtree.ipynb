{
 "cells": [
  {
   "cell_type": "markdown",
   "metadata": {},
   "source": [
    "### Subtree"
   ]
  },
  {
   "cell_type": "code",
   "execution_count": 5,
   "metadata": {},
   "outputs": [],
   "source": [
    "from binarytree import tree, bst, Node"
   ]
  },
  {
   "cell_type": "code",
   "execution_count": 6,
   "metadata": {},
   "outputs": [
    {
     "name": "stdout",
     "output_type": "stream",
     "text": [
      "\n",
      "        ______7_______\n",
      "       /              \\\n",
      "    __3__           ___11___\n",
      "   /     \\         /        \\\n",
      "  1       5       9         _13\n",
      " / \\     / \\     / \\       /   \\\n",
      "0   2   4   6   8   10    12    14\n",
      "\n"
     ]
    }
   ],
   "source": [
    "my_bst = bst(height=3, is_perfect=True)\n",
    "print(my_bst)"
   ]
  },
  {
   "cell_type": "code",
   "execution_count": 7,
   "metadata": {},
   "outputs": [
    {
     "name": "stdout",
     "output_type": "stream",
     "text": [
      "\n",
      "  9\n",
      " / \\\n",
      "8   10\n",
      "\n"
     ]
    }
   ],
   "source": [
    "subtree = Node(9)\n",
    "subtree.left = Node(8)\n",
    "subtree.right = Node(10)\n",
    "print(subtree)"
   ]
  },
  {
   "cell_type": "code",
   "execution_count": 23,
   "metadata": {},
   "outputs": [
    {
     "data": {
      "text/plain": [
       "True"
      ]
     },
     "execution_count": 23,
     "metadata": {},
     "output_type": "execute_result"
    }
   ],
   "source": [
    "def isMatch(my_bst, subtree):\n",
    "    if not my_bst or not subtree: return my_bst is subtree\n",
    "    return my_bst.value == subtree.value and isMatch(my_bst.left, subtree.left) and isMatch(my_bst.right, subtree.right)\n",
    "\n",
    "def isSubtree(my_bst, subtree):\n",
    "    if isMatch(my_bst, subtree): return True\n",
    "    if not my_bst: return False\n",
    "    return isSubtree(my_bst.left, subtree) or isSubtree(my_bst.right, subtree)\n",
    "isSubtree(my_bst, subtree)"
   ]
  }
 ],
 "metadata": {
  "kernelspec": {
   "display_name": "Python 3",
   "language": "python",
   "name": "python3"
  },
  "language_info": {
   "codemirror_mode": {
    "name": "ipython",
    "version": 3
   },
   "file_extension": ".py",
   "mimetype": "text/x-python",
   "name": "python",
   "nbconvert_exporter": "python",
   "pygments_lexer": "ipython3",
   "version": "3.6.8"
  }
 },
 "nbformat": 4,
 "nbformat_minor": 2
}
