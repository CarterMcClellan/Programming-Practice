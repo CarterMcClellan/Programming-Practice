{
 "cells": [
  {
   "cell_type": "code",
   "execution_count": 1,
   "metadata": {},
   "outputs": [],
   "source": [
    "import random"
   ]
  },
  {
   "cell_type": "markdown",
   "metadata": {},
   "source": [
    "### Prefix Sum"
   ]
  },
  {
   "cell_type": "code",
   "execution_count": 8,
   "metadata": {},
   "outputs": [
    {
     "data": {
      "text/plain": [
       "[2, 6, 15, 25, 25, 35, 41, 51, 54, 58]"
      ]
     },
     "execution_count": 8,
     "metadata": {},
     "output_type": "execute_result"
    }
   ],
   "source": [
    "vals = [random.randint(0, 10) for i in range(10)]\n",
    "def prefix_sum(nums):\n",
    "    for i in range(1, len(nums)):\n",
    "        nums[i] += nums[i-1]\n",
    "    return nums\n",
    "prefix_sum(vals)"
   ]
  },
  {
   "cell_type": "code",
   "execution_count": 17,
   "metadata": {},
   "outputs": [
    {
     "data": {
      "text/plain": [
       "3"
      ]
     },
     "execution_count": 17,
     "metadata": {},
     "output_type": "execute_result"
    }
   ],
   "source": [
    "# find the index of the array st\n",
    "# the sum of the left hand values\n",
    "# are equal to the sum of the right\n",
    "# hand values\n",
    "\n",
    "# eg\n",
    "# {-7, 1, 5, 2, -4, 3, 0}\n",
    "# idx = 3\n",
    "# sum(-7, 1, 5) == sum(-4, 3, 0)\n",
    "def equilibrium_sum(vals):\n",
    "    # idea:\n",
    "    # use prefix sums\n",
    "    ps = prefix_sum(vals)\n",
    "    n = len(ps)\n",
    "    # use the fact that\n",
    "    # prefix sum[j] - prefix sum[i] = sum(arr[i:j])\n",
    "    # print(ps[6] - ps[3], ps[2]) # now we can see our combination\n",
    "    for i in range(0, n-1):\n",
    "        left = ps[i]\n",
    "        right = ps[n-1] - ps[i+1]\n",
    "        if left == right:\n",
    "            return i+1\n",
    "    return -1\n",
    "vals = [-7, 1, 5, 2, -4, 3, 0]\n",
    "equilibrium_sum(vals)"
   ]
  },
  {
   "cell_type": "code",
   "execution_count": 25,
   "metadata": {},
   "outputs": [
    {
     "name": "stdout",
     "output_type": "stream",
     "text": [
      "True False True\n"
     ]
    }
   ],
   "source": [
    "# determine if there is a subarray\n",
    "# which sums to 0\n",
    "\n",
    "# if we take all the prefix sums\n",
    "# we note that\n",
    "# ps[n] - ps[i] = sum(arr[i:j])\n",
    "# therefore if ps[n] == ps[i] for any n > i\n",
    "# then there is a duplicate subarray\n",
    "def zero_sum(vals):\n",
    "    ps = prefix_sum(vals)\n",
    "    cnt = {}\n",
    "    for p in ps: \n",
    "        if p in cnt: cnt[p] += 1\n",
    "        else: cnt[p] = 1\n",
    "    for key, val in cnt.items():\n",
    "        if key == 0: return True\n",
    "        if val >= 2: return True\n",
    "    return False\n",
    "print(zero_sum([-3, 2, 3, -5, 6]), zero_sum([-3, 2, 3, -4, 6]), zero_sum([-3, 2, 3, -6, 6]))"
   ]
  },
  {
   "cell_type": "code",
   "execution_count": 30,
   "metadata": {},
   "outputs": [
    {
     "data": {
      "text/plain": [
       "7"
      ]
     },
     "execution_count": 30,
     "metadata": {},
     "output_type": "execute_result"
    }
   ],
   "source": [
    "# determine if there is a subarray whose sum is divisible by k\n",
    "\n",
    "# instead of a running prefix sum\n",
    "# we keep a running modulus sum (ms)\n",
    "\n",
    "# if ms[i] == ms[j] => \n",
    "#     sum(arr[i:j]) % k == 0\n",
    "# (sum(arr[:i]) % k == (sum(arr[:j])) % k\n",
    "# sum(arr[i:j]) % k = (sum(arr[:i]) - sum(arr[:j])) % k = (sum(arr[:i]) % k - (sum(arr[:j])) % k\n",
    "\n",
    "def div_by_k(vals, k):\n",
    "    ps = prefix_sum(vals)\n",
    "    cnt = {}\n",
    "    num_div = 0\n",
    "    for idx in range(len(ps)): \n",
    "        key = ps[idx] % k\n",
    "        if key in cnt: cnt[key] += 1\n",
    "        else: cnt[key] = 1\n",
    "    for key, val in cnt.items():\n",
    "        if key == 0: num_div += val\n",
    "        if val >= 2: num_div += sum(i for i in range(val)) # this is the other tricky part we want to count all pairings\n",
    "    return num_div\n",
    "div_by_k([4,5,0,-2,-3,1],  5)"
   ]
  }
 ],
 "metadata": {
  "kernelspec": {
   "display_name": "Python 3",
   "language": "python",
   "name": "python3"
  },
  "language_info": {
   "codemirror_mode": {
    "name": "ipython",
    "version": 3
   },
   "file_extension": ".py",
   "mimetype": "text/x-python",
   "name": "python",
   "nbconvert_exporter": "python",
   "pygments_lexer": "ipython3",
   "version": "3.6.8"
  }
 },
 "nbformat": 4,
 "nbformat_minor": 2
}
