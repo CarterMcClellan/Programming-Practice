{
 "cells": [
  {
   "cell_type": "code",
   "execution_count": 2,
   "metadata": {},
   "outputs": [],
   "source": [
    "from random import choices"
   ]
  },
  {
   "cell_type": "markdown",
   "metadata": {},
   "source": [
    "### Peak Finding Algorithm\n",
    "Given an array of integers. Find a peak element in it. An array element is a peak if it is NOT smaller than its neighbours. For corner elements, we need to consider only one neighbour."
   ]
  },
  {
   "cell_type": "code",
   "execution_count": 7,
   "metadata": {},
   "outputs": [
    {
     "name": "stdout",
     "output_type": "stream",
     "text": [
      "[7, 1, 7, 4, 9, 3, 9, 5, 7, 5]\n",
      "peak 7\n"
     ]
    }
   ],
   "source": [
    "def findPeak(nums):\n",
    "    print(nums)\n",
    "    l, r = 0, len(nums)-1\n",
    "    while l < r:\n",
    "        mid = l + (r-l)//2\n",
    "        if nums[mid] > nums[mid+1]:\n",
    "            r = mid\n",
    "        else:\n",
    "            l = mid + 1\n",
    "    return l \n",
    "vals = choices(range(10), k=10)\n",
    "idx = findPeak(vals)\n",
    "print(\"peak\", vals[idx]) "
   ]
  },
  {
   "cell_type": "code",
   "execution_count": 9,
   "metadata": {},
   "outputs": [
    {
     "name": "stdout",
     "output_type": "stream",
     "text": [
      "[-2, -2, -2, 1, 5, 5, 5, 7, 7, 10]\n"
     ]
    },
    {
     "data": {
      "text/plain": [
       "3"
      ]
     },
     "execution_count": 9,
     "metadata": {},
     "output_type": "execute_result"
    }
   ],
   "source": [
    "def bin_search(nums, target):\n",
    "    print(nums)\n",
    "    l, r = 0, len(nums) - 1\n",
    "    while l <= r:\n",
    "        mid = (l + r) // 2\n",
    "        if nums[mid] < target:\n",
    "            l = mid + 1\n",
    "        elif nums[mid] > target:\n",
    "            r = mid - 1\n",
    "        else:\n",
    "            return mid\n",
    "    return -1\n",
    "vals = sorted([random.randint(-10, 10) for i in range(10)])\n",
    "bin_search(vals, 1)"
   ]
  }
 ],
 "metadata": {
  "kernelspec": {
   "display_name": "Python 3",
   "language": "python",
   "name": "python3"
  },
  "language_info": {
   "codemirror_mode": {
    "name": "ipython",
    "version": 3
   },
   "file_extension": ".py",
   "mimetype": "text/x-python",
   "name": "python",
   "nbconvert_exporter": "python",
   "pygments_lexer": "ipython3",
   "version": "3.6.4"
  }
 },
 "nbformat": 4,
 "nbformat_minor": 2
}
