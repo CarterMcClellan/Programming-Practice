{
 "cells": [
  {
   "cell_type": "code",
   "execution_count": 1,
   "metadata": {},
   "outputs": [],
   "source": [
    "from random import choices"
   ]
  },
  {
   "cell_type": "markdown",
   "metadata": {},
   "source": [
    "### Peak Finding Algorithm\n",
    "Given an array of integers. Find a peak element in it. An array element is a peak if it is NOT smaller than its neighbours. For corner elements, we need to consider only one neighbour."
   ]
  },
  {
   "cell_type": "code",
   "execution_count": 2,
   "metadata": {},
   "outputs": [
    {
     "name": "stdout",
     "output_type": "stream",
     "text": [
      "[7, 3, 8, 3, 7, 8, 1, 9, 8, 7]\n",
      "peak 9\n"
     ]
    }
   ],
   "source": [
    "def findPeak(nums):\n",
    "    print(nums)\n",
    "    l, r = 0, len(nums)-1\n",
    "    while l < r:\n",
    "        mid = l + (r-l)//2\n",
    "        if nums[mid] > nums[mid+1]:\n",
    "            r = mid\n",
    "        else:\n",
    "            l = mid + 1\n",
    "    return l \n",
    "vals = choices(range(10), k=10)\n",
    "idx = findPeak(vals)\n",
    "print(\"peak\", vals[idx]) "
   ]
  },
  {
   "cell_type": "code",
   "execution_count": 14,
   "metadata": {},
   "outputs": [
    {
     "data": {
      "text/plain": [
       "1"
      ]
     },
     "execution_count": 14,
     "metadata": {},
     "output_type": "execute_result"
    }
   ],
   "source": [
    "def bin_search(nums, target):\n",
    "    l, r = 0, len(nums) - 1\n",
    "    while l <= r:\n",
    "        mid = (l + r) // 2\n",
    "        if nums[mid] < target:\n",
    "            l = mid + 1\n",
    "        elif nums[mid] > target:\n",
    "            r = mid - 1\n",
    "        else:\n",
    "            return mid\n",
    "    return -1\n",
    "vals = sorted(choices(range(10), k=10))\n",
    "bin_search(vals, 1)"
   ]
  },
  {
   "cell_type": "markdown",
   "metadata": {},
   "source": [
    "### Bisect Module"
   ]
  },
  {
   "cell_type": "code",
   "execution_count": 5,
   "metadata": {},
   "outputs": [],
   "source": [
    "import bisect"
   ]
  },
  {
   "cell_type": "code",
   "execution_count": 31,
   "metadata": {},
   "outputs": [
    {
     "name": "stdout",
     "output_type": "stream",
     "text": [
      "[0, 1, 2, 5, 5, 6, 6, 8, 8, 9]\n",
      "2 1\n"
     ]
    }
   ],
   "source": [
    "vals = sorted(choices(range(10), k=10))\n",
    "print(vals)\n",
    "print(bisect.bisect(vals, 1), bin_search(vals, 1))"
   ]
  }
 ],
 "metadata": {
  "kernelspec": {
   "display_name": "Python 3",
   "language": "python",
   "name": "python3"
  },
  "language_info": {
   "codemirror_mode": {
    "name": "ipython",
    "version": 3
   },
   "file_extension": ".py",
   "mimetype": "text/x-python",
   "name": "python",
   "nbconvert_exporter": "python",
   "pygments_lexer": "ipython3",
   "version": "3.6.4"
  }
 },
 "nbformat": 4,
 "nbformat_minor": 2
}
