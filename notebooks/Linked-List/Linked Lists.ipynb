{
 "cells": [
  {
   "cell_type": "markdown",
   "metadata": {},
   "source": [
    "## Linked Lists"
   ]
  },
  {
   "cell_type": "markdown",
   "metadata": {},
   "source": [
    "### Class Definition"
   ]
  },
  {
   "cell_type": "code",
   "execution_count": 10,
   "metadata": {},
   "outputs": [],
   "source": [
    "class Node:\n",
    "    def __init__(self, x):\n",
    "        self.val = x\n",
    "        self.next = None"
   ]
  },
  {
   "cell_type": "markdown",
   "metadata": {},
   "source": [
    "### Building a Linked List"
   ]
  },
  {
   "cell_type": "code",
   "execution_count": 26,
   "metadata": {},
   "outputs": [],
   "source": [
    "def build_ll(ll_len=10):\n",
    "    head = Node(1)\n",
    "    curr = head\n",
    "    for i in range(2, ll_len):\n",
    "        tmp = Node(i)\n",
    "        curr.next = tmp\n",
    "        curr = tmp\n",
    "    return head"
   ]
  },
  {
   "cell_type": "markdown",
   "metadata": {},
   "source": [
    "### Cycles"
   ]
  },
  {
   "cell_type": "code",
   "execution_count": 27,
   "metadata": {},
   "outputs": [],
   "source": [
    "def cycle_ll(ll_len=10):\n",
    "    # so first off we want to build a linked list with a cycle in it\n",
    "    head = build_ll(ll_len)\n",
    "\n",
    "    # get the tail pointer\n",
    "    curr = head\n",
    "    while curr.next:\n",
    "        curr = curr.next\n",
    "    tail = curr\n",
    "    tail.next = head\n",
    "    return head"
   ]
  },
  {
   "cell_type": "code",
   "execution_count": 31,
   "metadata": {},
   "outputs": [
    {
     "name": "stdout",
     "output_type": "stream",
     "text": [
      "Cycle Detected for Cycle LL True \n",
      "Cycle Detected for Non-Cycle LL False\n"
     ]
    }
   ],
   "source": [
    "def cycle_detection_1(head):\n",
    "    # solving this question with memory is rather easy\n",
    "    # especially in python because objects are easily hashable\n",
    "    # so all we need to do is a add a simple dict check\n",
    "    # inside of the traversal loop\n",
    "    \n",
    "    # to solve in O(1) we will use an additional pointer\n",
    "    # basic idea is that if the graph has a cycle\n",
    "    # then if we use 2 pointers fast, slow\n",
    "    # they will eventually converge\n",
    "    \n",
    "    # but if they do not ever converge (they both just reach the end of the list)\n",
    "    # then there is no cycle\n",
    "    fast = slow = head\n",
    "    while True:\n",
    "        if fast.next == None:\n",
    "            return False\n",
    "        fast = fast.next\n",
    "        if fast.next == None:\n",
    "            return False\n",
    "        fast = fast.next\n",
    "        slow = slow.next\n",
    "        if fast.val == slow.val:\n",
    "            return True\n",
    "cycle_head = cycle_ll()\n",
    "non_cycle_head = build_ll()\n",
    "print(\"Cycle Detected for Cycle LL\", cycle_detection_1(cycle_head), \"\\nCycle Detected for Non-Cycle LL\", cycle_detection_1(non_cycle_head))"
   ]
  }
 ],
 "metadata": {
  "kernelspec": {
   "display_name": "Python 3",
   "language": "python",
   "name": "python3"
  },
  "language_info": {
   "codemirror_mode": {
    "name": "ipython",
    "version": 3
   },
   "file_extension": ".py",
   "mimetype": "text/x-python",
   "name": "python",
   "nbconvert_exporter": "python",
   "pygments_lexer": "ipython3",
   "version": "3.6.8"
  }
 },
 "nbformat": 4,
 "nbformat_minor": 2
}
