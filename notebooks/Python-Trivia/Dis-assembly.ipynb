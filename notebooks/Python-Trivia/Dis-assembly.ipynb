{
 "cells": [
  {
   "cell_type": "code",
   "execution_count": 16,
   "metadata": {},
   "outputs": [],
   "source": [
    "from dis import dis\n",
    "\n",
    "import numpy as np"
   ]
  },
  {
   "cell_type": "code",
   "execution_count": 50,
   "metadata": {},
   "outputs": [
    {
     "name": "stdout",
     "output_type": "stream",
     "text": [
      "  2           0 LOAD_CONST               7 ((1, 2, 3, 4, 5, 6))\n",
      "              2 UNPACK_SEQUENCE          6\n",
      "              4 STORE_FAST               0 (a)\n",
      "              6 STORE_FAST               1 (b)\n",
      "              8 STORE_FAST               2 (c)\n",
      "             10 STORE_FAST               3 (d)\n",
      "             12 STORE_FAST               4 (e)\n",
      "             14 STORE_FAST               5 (f)\n",
      "             16 LOAD_CONST               0 (None)\n",
      "             18 RETURN_VALUE\n"
     ]
    }
   ],
   "source": [
    "def my_func_1():\n",
    "    a, b, c, d, e, f = (1, 2, 3, 4, 5, 6)\n",
    "dis(my_func_1)"
   ]
  },
  {
   "cell_type": "code",
   "execution_count": 51,
   "metadata": {},
   "outputs": [
    {
     "name": "stdout",
     "output_type": "stream",
     "text": [
      "  2           0 LOAD_CONST               1 (1)\n",
      "              2 STORE_FAST               0 (a)\n",
      "\n",
      "  3           4 LOAD_CONST               2 (2)\n",
      "              6 STORE_FAST               1 (b)\n",
      "\n",
      "  4           8 LOAD_CONST               3 (3)\n",
      "             10 STORE_FAST               2 (c)\n",
      "\n",
      "  5          12 LOAD_CONST               4 (4)\n",
      "             14 STORE_FAST               3 (d)\n",
      "\n",
      "  6          16 LOAD_CONST               5 (5)\n",
      "             18 STORE_FAST               4 (e)\n",
      "\n",
      "  7          20 LOAD_CONST               6 (6)\n",
      "             22 STORE_FAST               5 (f)\n",
      "             24 LOAD_CONST               0 (None)\n",
      "             26 RETURN_VALUE\n"
     ]
    }
   ],
   "source": [
    "def my_func_2():\n",
    "    a = 1\n",
    "    b = 2\n",
    "    c = 3\n",
    "    d = 4\n",
    "    e = 5\n",
    "    f = 6\n",
    "dis(my_func_2)"
   ]
  },
  {
   "cell_type": "code",
   "execution_count": 52,
   "metadata": {},
   "outputs": [
    {
     "name": "stdout",
     "output_type": "stream",
     "text": [
      "  2           0 LOAD_GLOBAL              0 (np)\n",
      "              2 LOAD_ATTR                1 (array)\n",
      "              4 LOAD_CONST               1 (<code object <listcomp> at 0x10371f150, file \"<ipython-input-52-2205e1f6966b>\", line 2>)\n",
      "              6 LOAD_CONST               2 ('my_func_3.<locals>.<listcomp>')\n",
      "              8 MAKE_FUNCTION            0\n",
      "             10 LOAD_GLOBAL              2 (range)\n",
      "             12 LOAD_CONST               3 (10)\n",
      "             14 CALL_FUNCTION            1\n",
      "             16 GET_ITER\n",
      "             18 CALL_FUNCTION            1\n",
      "             20 CALL_FUNCTION            1\n",
      "             22 POP_TOP\n",
      "             24 LOAD_CONST               0 (None)\n",
      "             26 RETURN_VALUE\n"
     ]
    }
   ],
   "source": [
    "def my_func_3():\n",
    "    np.array([1 for i in range(10)])\n",
    "dis(my_func_3)"
   ]
  },
  {
   "cell_type": "code",
   "execution_count": 32,
   "metadata": {},
   "outputs": [
    {
     "data": {
      "text/plain": [
       "['_STRUCT_TM_ITEMS',\n",
       " '__doc__',\n",
       " '__loader__',\n",
       " '__name__',\n",
       " '__package__',\n",
       " '__spec__',\n",
       " 'altzone',\n",
       " 'asctime',\n",
       " 'clock',\n",
       " 'ctime',\n",
       " 'daylight',\n",
       " 'get_clock_info',\n",
       " 'gmtime',\n",
       " 'localtime',\n",
       " 'mktime',\n",
       " 'monotonic',\n",
       " 'perf_counter',\n",
       " 'process_time',\n",
       " 'sleep',\n",
       " 'strftime',\n",
       " 'strptime',\n",
       " 'struct_time',\n",
       " 'time',\n",
       " 'timezone',\n",
       " 'tzname',\n",
       " 'tzset']"
      ]
     },
     "execution_count": 32,
     "metadata": {},
     "output_type": "execute_result"
    }
   ],
   "source": [
    "import time as t\n",
    "\n",
    "dir(t)"
   ]
  },
  {
   "cell_type": "code",
   "execution_count": 33,
   "metadata": {},
   "outputs": [
    {
     "data": {
      "text/plain": [
       "1564894733.847122"
      ]
     },
     "execution_count": 33,
     "metadata": {},
     "output_type": "execute_result"
    }
   ],
   "source": [
    "t.time()"
   ]
  },
  {
   "cell_type": "code",
   "execution_count": 55,
   "metadata": {},
   "outputs": [
    {
     "name": "stdout",
     "output_type": "stream",
     "text": [
      "N: 10000000\n",
      "my_func_1()....1.3453760147094727 seconds\n",
      "my_func_2()....1.2988660335540771 seconds\n",
      "my_func_2() is faster by 1.0358081433757496x\n"
     ]
    }
   ],
   "source": [
    "N = 10000000\n",
    "print('N:', N)\n",
    "start_time = t.time()\n",
    "print(\"my_func_1()....\", end=\"\")\n",
    "for i in range(N):\n",
    "    my_func_1()\n",
    "et1 = t.time() - start_time\n",
    "print(et1, \"seconds\")\n",
    "\n",
    "start_time = t.time()\n",
    "print(\"my_func_2()....\", end=\"\")\n",
    "for i in range(N):\n",
    "    my_func_2()\n",
    "et2 = t.time() - start_time\n",
    "print(et2, \"seconds\")\n",
    "\n",
    "if et1 < et2:\n",
    "    print('my_func_1() is faster by {}x'.format(et2/et1))\n",
    "else:\n",
    "    print('my_func_2() is faster by {}x'.format(et1/et2))"
   ]
  }
 ],
 "metadata": {
  "kernelspec": {
   "display_name": "Python 3",
   "language": "python",
   "name": "python3"
  },
  "language_info": {
   "codemirror_mode": {
    "name": "ipython",
    "version": 3
   },
   "file_extension": ".py",
   "mimetype": "text/x-python",
   "name": "python",
   "nbconvert_exporter": "python",
   "pygments_lexer": "ipython3",
   "version": "3.6.8"
  }
 },
 "nbformat": 4,
 "nbformat_minor": 2
}
