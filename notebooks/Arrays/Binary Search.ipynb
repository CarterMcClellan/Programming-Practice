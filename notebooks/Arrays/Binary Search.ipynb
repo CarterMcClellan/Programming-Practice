{
 "cells": [
  {
   "cell_type": "code",
   "execution_count": 1,
   "metadata": {},
   "outputs": [],
   "source": [
    "import random"
   ]
  },
  {
   "cell_type": "code",
   "execution_count": 7,
   "metadata": {},
   "outputs": [
    {
     "name": "stdout",
     "output_type": "stream",
     "text": [
      "[10, 3, 1, 4, 7, 9, 0, 3, -9, 5]\n",
      "peak @ 7 val 3\n"
     ]
    }
   ],
   "source": [
    "def findPeak(nums):\n",
    "    print(nums)\n",
    "    l, r = 0, len(nums)-1\n",
    "    while l < r:\n",
    "        mid = l + (r-l)//2\n",
    "        if nums[mid] > nums[mid+1]:\n",
    "            r = mid\n",
    "        else:\n",
    "            l = mid + 1\n",
    "    return l \n",
    "vals = [random.randint(-10, 10) for i in range(10)]\n",
    "idx = findPeak(vals)\n",
    "print(\"peak @\", idx, \"val\", vals[idx]) "
   ]
  },
  {
   "cell_type": "code",
   "execution_count": 9,
   "metadata": {},
   "outputs": [
    {
     "name": "stdout",
     "output_type": "stream",
     "text": [
      "[-2, -2, -2, 1, 5, 5, 5, 7, 7, 10]\n"
     ]
    },
    {
     "data": {
      "text/plain": [
       "3"
      ]
     },
     "execution_count": 9,
     "metadata": {},
     "output_type": "execute_result"
    }
   ],
   "source": [
    "def bin_search(nums, target):\n",
    "    print(nums)\n",
    "    l, r = 0, len(nums) - 1\n",
    "    while l <= r:\n",
    "        mid = (l + r) // 2\n",
    "        if nums[mid] < target:\n",
    "            l = mid + 1\n",
    "        elif nums[mid] > target:\n",
    "            r = mid - 1\n",
    "        else:\n",
    "            return mid\n",
    "    return -1\n",
    "vals = sorted([random.randint(-10, 10) for i in range(10)])\n",
    "bin_search(vals, 1)"
   ]
  }
 ],
 "metadata": {
  "kernelspec": {
   "display_name": "Python 3",
   "language": "python",
   "name": "python3"
  },
  "language_info": {
   "codemirror_mode": {
    "name": "ipython",
    "version": 3
   },
   "file_extension": ".py",
   "mimetype": "text/x-python",
   "name": "python",
   "nbconvert_exporter": "python",
   "pygments_lexer": "ipython3",
   "version": "3.6.8"
  }
 },
 "nbformat": 4,
 "nbformat_minor": 2
}
