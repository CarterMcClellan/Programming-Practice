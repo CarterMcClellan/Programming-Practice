{
 "cells": [
  {
   "cell_type": "code",
   "execution_count": 3,
   "metadata": {},
   "outputs": [],
   "source": [
    "import random"
   ]
  },
  {
   "cell_type": "code",
   "execution_count": 1,
   "metadata": {},
   "outputs": [
    {
     "data": {
      "text/plain": [
       "34"
      ]
     },
     "execution_count": 1,
     "metadata": {},
     "output_type": "execute_result"
    }
   ],
   "source": [
    "def fibo(k):\n",
    "    memo = [0] * (k + 1)\n",
    "    memo[0] = 0\n",
    "    memo[1] = 1\n",
    "    for i in range(2, k+1):\n",
    "        memo[i] = memo[i-1] + memo[i-2]\n",
    "    return memo[k]\n",
    "fibo(9) # note that we can make this with constant memory,\n",
    "# expected value: 34"
   ]
  },
  {
   "cell_type": "code",
   "execution_count": 4,
   "metadata": {},
   "outputs": [
    {
     "name": "stdout",
     "output_type": "stream",
     "text": [
      "[8, -5, 1, -1, 3, 10, 9, 3, -5, -6]\n"
     ]
    },
    {
     "data": {
      "text/plain": [
       "28"
      ]
     },
     "execution_count": 4,
     "metadata": {},
     "output_type": "execute_result"
    }
   ],
   "source": [
    "def kadane(nums):\n",
    "    print(nums)\n",
    "    for i in range(1, len(nums)):\n",
    "            if nums[i-1] > 0: # only consider the sums which are positive\n",
    "                nums[i] += nums[i-1]\n",
    "    return max(nums)\n",
    "\n",
    "vals = [random.randint(-10, 10) for i in range(10)]\n",
    "kadane(vals)"
   ]
  },
  {
   "cell_type": "code",
   "execution_count": 5,
   "metadata": {},
   "outputs": [
    {
     "name": "stdout",
     "output_type": "stream",
     "text": [
      "[-5, -5, 10, 8, 10, 1, 10, 2, -2, 5]\n"
     ]
    },
    {
     "data": {
      "text/plain": [
       "800000"
      ]
     },
     "execution_count": 5,
     "metadata": {},
     "output_type": "execute_result"
    }
   ],
   "source": [
    "def max_prod(nums):\n",
    "    print(nums)\n",
    "    A = nums\n",
    "    B = A[::-1] # reverse the list\n",
    "    for i in range(1, len(A)):\n",
    "        A[i] *= A[i - 1] or 1 # same as if A[i-1] != 0: A[i] *= A[i-1]\n",
    "        B[i] *= B[i - 1] or 1\n",
    "    return max(A + B)\n",
    "vals = [random.randint(-10, 10) for i in range(10)]\n",
    "max_prod(vals)"
   ]
  },
  {
   "cell_type": "markdown",
   "metadata": {},
   "source": [
    "### Knapsack\n",
    "- You have some \"sack\" with a limited capacity\n",
    "- You have some set of objects with a given weight, and a given value\n",
    "- Your goal is to maximize the value, while having weight less than or equal to the given capacity"
   ]
  },
  {
   "cell_type": "code",
   "execution_count": 1,
   "metadata": {},
   "outputs": [
    {
     "data": {
      "text/plain": [
       "220"
      ]
     },
     "execution_count": 1,
     "metadata": {},
     "output_type": "execute_result"
    }
   ],
   "source": [
    "vals = [60, 100, 120]\n",
    "wts = [10, 20, 30]\n",
    "capacity = 50\n",
    "\n",
    "def knapSack(W , wt , val , n): \n",
    "    # Base Case \n",
    "    if n == 0 or W == 0 : \n",
    "        return 0\n",
    "\n",
    "    # If weight of the nth item is more than Knapsack of capacity \n",
    "    # W, then this item cannot be included in the optimal solution \n",
    "    if (wt[n-1] > W): \n",
    "        return knapSack(W , wt , val , n-1) \n",
    "\n",
    "    # return the maximum of two cases: \n",
    "    # (1) nth item included \n",
    "    # (2) not included \n",
    "    else: \n",
    "        return max(val[n-1] + knapSack(W-wt[n-1] , wt , val , n-1), \n",
    "                   knapSack(W , wt , val , n-1)) \n",
    "knapSack(capacity, wts, vals, len(vals))"
   ]
  }
 ],
 "metadata": {
  "kernelspec": {
   "display_name": "Python 3",
   "language": "python",
   "name": "python3"
  },
  "language_info": {
   "codemirror_mode": {
    "name": "ipython",
    "version": 3
   },
   "file_extension": ".py",
   "mimetype": "text/x-python",
   "name": "python",
   "nbconvert_exporter": "python",
   "pygments_lexer": "ipython3",
   "version": "3.6.8"
  }
 },
 "nbformat": 4,
 "nbformat_minor": 2
}
