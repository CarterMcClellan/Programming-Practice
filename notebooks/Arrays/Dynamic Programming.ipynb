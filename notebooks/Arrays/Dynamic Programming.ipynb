{
 "cells": [
  {
   "cell_type": "code",
   "execution_count": 3,
   "metadata": {},
   "outputs": [],
   "source": [
    "import random"
   ]
  },
  {
   "cell_type": "code",
   "execution_count": 1,
   "metadata": {},
   "outputs": [
    {
     "data": {
      "text/plain": [
       "34"
      ]
     },
     "execution_count": 1,
     "metadata": {},
     "output_type": "execute_result"
    }
   ],
   "source": [
    "def fibo(k):\n",
    "    memo = [0] * (k + 1)\n",
    "    memo[0] = 0\n",
    "    memo[1] = 1\n",
    "    for i in range(2, k+1):\n",
    "        memo[i] = memo[i-1] + memo[i-2]\n",
    "    return memo[k]\n",
    "fibo(9) # note that we can make this with constant memory,\n",
    "# expected value: 34"
   ]
  },
  {
   "cell_type": "code",
   "execution_count": 4,
   "metadata": {},
   "outputs": [
    {
     "name": "stdout",
     "output_type": "stream",
     "text": [
      "[8, -5, 1, -1, 3, 10, 9, 3, -5, -6]\n"
     ]
    },
    {
     "data": {
      "text/plain": [
       "28"
      ]
     },
     "execution_count": 4,
     "metadata": {},
     "output_type": "execute_result"
    }
   ],
   "source": [
    "def kadane(nums):\n",
    "    print(nums)\n",
    "    for i in range(1, len(nums)):\n",
    "            if nums[i-1] > 0: # only consider the sums which are positive\n",
    "                nums[i] += nums[i-1]\n",
    "    return max(nums)\n",
    "\n",
    "vals = [random.randint(-10, 10) for i in range(10)]\n",
    "kadane(vals)"
   ]
  },
  {
   "cell_type": "code",
   "execution_count": 5,
   "metadata": {},
   "outputs": [
    {
     "name": "stdout",
     "output_type": "stream",
     "text": [
      "[-5, -5, 10, 8, 10, 1, 10, 2, -2, 5]\n"
     ]
    },
    {
     "data": {
      "text/plain": [
       "800000"
      ]
     },
     "execution_count": 5,
     "metadata": {},
     "output_type": "execute_result"
    }
   ],
   "source": [
    "def max_prod(nums):\n",
    "    print(nums)\n",
    "    A = nums\n",
    "    B = A[::-1] # reverse the list\n",
    "    for i in range(1, len(A)):\n",
    "        A[i] *= A[i - 1] or 1 # same as if A[i-1] != 0: A[i] *= A[i-1]\n",
    "        B[i] *= B[i - 1] or 1\n",
    "    return max(A + B)\n",
    "vals = [random.randint(-10, 10) for i in range(10)]\n",
    "max_prod(vals)"
   ]
  }
 ],
 "metadata": {
  "kernelspec": {
   "display_name": "Python 3",
   "language": "python",
   "name": "python3"
  },
  "language_info": {
   "codemirror_mode": {
    "name": "ipython",
    "version": 3
   },
   "file_extension": ".py",
   "mimetype": "text/x-python",
   "name": "python",
   "nbconvert_exporter": "python",
   "pygments_lexer": "ipython3",
   "version": "3.6.8"
  }
 },
 "nbformat": 4,
 "nbformat_minor": 2
}
