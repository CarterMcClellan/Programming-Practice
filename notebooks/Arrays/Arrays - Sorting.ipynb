{
 "cells": [
  {
   "cell_type": "code",
   "execution_count": 1,
   "metadata": {},
   "outputs": [],
   "source": [
    "from random import randint"
   ]
  },
  {
   "cell_type": "code",
   "execution_count": 5,
   "metadata": {},
   "outputs": [
    {
     "name": "stdout",
     "output_type": "stream",
     "text": [
      "[3, 8, 9, 2, 3, 3, 10, 6, 5, 3] -> [2, 3, 3, 3, 3, 5, 6, 8, 9, 10]\n"
     ]
    }
   ],
   "source": [
    "# implement a sorting algorithm with constant memory (without using the built in sort)\n",
    "def ss(vals):\n",
    "    for i in range(len(vals)):\n",
    "        min_val = min(vals[i:])\n",
    "        min_idx = vals[i:].index(min_val) + i\n",
    "        vals[i], vals[min_idx] = vals[min_idx], vals[i]\n",
    "    return vals\n",
    "\n",
    "tmp = [randint(1, 10) for _ in range(10)]\n",
    "print(tmp,\"->\", ss(tmp[:]))"
   ]
  }
 ],
 "metadata": {
  "kernelspec": {
   "display_name": "Python 3",
   "language": "python",
   "name": "python3"
  },
  "language_info": {
   "codemirror_mode": {
    "name": "ipython",
    "version": 3
   },
   "file_extension": ".py",
   "mimetype": "text/x-python",
   "name": "python",
   "nbconvert_exporter": "python",
   "pygments_lexer": "ipython3",
   "version": "3.6.8"
  }
 },
 "nbformat": 4,
 "nbformat_minor": 2
}
