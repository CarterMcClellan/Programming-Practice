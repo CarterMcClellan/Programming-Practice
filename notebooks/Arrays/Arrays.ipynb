{
 "cells": [
  {
   "cell_type": "code",
   "execution_count": 6,
   "metadata": {},
   "outputs": [],
   "source": [
    "import random"
   ]
  },
  {
   "cell_type": "markdown",
   "metadata": {},
   "source": [
    "## Arrays"
   ]
  },
  {
   "cell_type": "markdown",
   "metadata": {},
   "source": [
    "#### Slicing"
   ]
  },
  {
   "cell_type": "code",
   "execution_count": 37,
   "metadata": {},
   "outputs": [
    {
     "data": {
      "text/plain": [
       "[4]"
      ]
     },
     "execution_count": 37,
     "metadata": {},
     "output_type": "execute_result"
    }
   ],
   "source": [
    "a = [random.randint(1, 10) for i in range(10)]\n",
    "a[0:1] # slicing not inclusive"
   ]
  },
  {
   "cell_type": "markdown",
   "metadata": {},
   "source": [
    "#### Traversal"
   ]
  },
  {
   "cell_type": "code",
   "execution_count": 48,
   "metadata": {},
   "outputs": [
    {
     "name": "stdout",
     "output_type": "stream",
     "text": [
      "Element Wise Traversal [Forward]\n",
      "0123456789\n",
      " \n",
      "Element Wise Traversal [Backward]\n",
      "9876543210\n",
      "\n",
      "Index Wise Traversal [Forward]\n",
      "idx 0 val 0idx 1 val 1idx 2 val 2idx 3 val 3idx 4 val 4idx 5 val 5idx 6 val 6idx 7 val 7idx 8 val 8idx 9 val 9\n",
      "\n",
      "Element and Index Traversal [Forward]\n",
      "0 01 12 23 34 45 56 67 78 89 9\n",
      "\n",
      "Enumerate Type Traversal\n",
      "9 98 87 76 65 54 43 32 21 1"
     ]
    }
   ],
   "source": [
    "a = [i for i in range(10)]\n",
    "\n",
    "print(\"Element Wise Traversal [Forward]\")\n",
    "for val in a:\n",
    "    print(val, end=\"\")\n",
    "    \n",
    "print(\"\\n \\nElement Wise Traversal [Backward]\")\n",
    "for val in reversed(a):\n",
    "    print(val, end=\"\")\n",
    "\n",
    "print(\"\\n\\nIndex Wise Traversal [Forward]\")\n",
    "for idx in range(len(a)):\n",
    "    print(\"idx\", idx, \"val\", a[idx], end=\"\")\n",
    "\n",
    "print(\"\\n\\nElement and Index Traversal [Forward]\")\n",
    "for idx, val in enumerate(a):\n",
    "    print(idx, val, end=\"\")\n",
    "\n",
    "print(\"\\n\\nEnumerate Type Traversal\")\n",
    "for idx in range(len(a)-1, 0, -1):\n",
    "    print(idx, a[idx], end=\"\")"
   ]
  },
  {
   "cell_type": "markdown",
   "metadata": {},
   "source": [
    "#### Order Manipulation"
   ]
  },
  {
   "cell_type": "code",
   "execution_count": 4,
   "metadata": {},
   "outputs": [
    {
     "name": "stdout",
     "output_type": "stream",
     "text": [
      "Before sort [10, 9, 8, 7, 6, 5, 4, 3, 2, 1] \n",
      "After sort [1, 2, 3, 4, 5, 6, 7, 8, 9, 10]\n"
     ]
    }
   ],
   "source": [
    "a = [10-i for i in range(10)]\n",
    "print(\"Before sort\", a, \"\\nAfter sort\", sorted(a))"
   ]
  },
  {
   "cell_type": "code",
   "execution_count": 9,
   "metadata": {},
   "outputs": [
    {
     "name": "stdout",
     "output_type": "stream",
     "text": [
      "Before reverse [8, 1, 5, 8, 5, 2, 3, 10, 9, 9] \n",
      "After reverse [9, 9, 10, 3, 2, 5, 8, 5, 1, 8]\n"
     ]
    }
   ],
   "source": [
    "a = [random.randint(1, 10) for i in range(10)]\n",
    "print(\"Before reverse\", a, \"\\nAfter reverse\", a[::-1])"
   ]
  },
  {
   "cell_type": "code",
   "execution_count": 36,
   "metadata": {},
   "outputs": [
    {
     "name": "stdout",
     "output_type": "stream",
     "text": [
      "Before [0, 1, 2, 3, 4, 5, 6, 7, 8, 9]\n",
      "Verbose Swap [2, 1, 0, 3, 4, 5, 6, 7, 8, 9]\n",
      "Simple Swap [2, 1, 0, 3, 4, 5, 6, 7, 8, 9]\n"
     ]
    }
   ],
   "source": [
    "def verbose_swap(i, j, arr):\n",
    "    tmp = arr[i]\n",
    "    arr[i] = arr[j]\n",
    "    arr[j] = tmp\n",
    "    return arr\n",
    "\n",
    "def simple_swap(i, j, arr):\n",
    "    arr[i], arr[j] = arr[j], arr[i]\n",
    "    return arr\n",
    "\n",
    "a = [i for i in range(10)]\n",
    "print(\"Before\", a)\n",
    "print(\"Verbose Swap\", verbose_swap(0, 2, a))\n",
    "a = [i for i in range(10)]\n",
    "print(\"Simple Swap\", simple_swap(0, 2, a))"
   ]
  },
  {
   "cell_type": "markdown",
   "metadata": {},
   "source": [
    "#### Generating and Cating Lists"
   ]
  },
  {
   "cell_type": "code",
   "execution_count": 11,
   "metadata": {},
   "outputs": [
    {
     "name": "stdout",
     "output_type": "stream",
     "text": [
      "[1, 1, 1, 1, 1, 1, 1, 1, 1, 1]\n"
     ]
    }
   ],
   "source": [
    "a = [1] * 10\n",
    "print(a)"
   ]
  },
  {
   "cell_type": "code",
   "execution_count": 14,
   "metadata": {},
   "outputs": [
    {
     "name": "stdout",
     "output_type": "stream",
     "text": [
      "[1, 1, 1, 1, 1, 1, 1, 1, 1, 1, 2, 2, 2, 2, 2]\n"
     ]
    }
   ],
   "source": [
    "a = [1] * 10\n",
    "b = [2] * 5\n",
    "print(a + b)"
   ]
  },
  {
   "cell_type": "markdown",
   "metadata": {},
   "source": [
    "#### List -> String"
   ]
  },
  {
   "cell_type": "code",
   "execution_count": 19,
   "metadata": {},
   "outputs": [
    {
     "data": {
      "text/plain": [
       "'hello world hello world hello world hello world hello world '"
      ]
     },
     "execution_count": 19,
     "metadata": {},
     "output_type": "execute_result"
    }
   ],
   "source": [
    "a = [\"hello world \"] * 5\n",
    "\"\".join(a)"
   ]
  }
 ],
 "metadata": {
  "kernelspec": {
   "display_name": "Python 3",
   "language": "python",
   "name": "python3"
  },
  "language_info": {
   "codemirror_mode": {
    "name": "ipython",
    "version": 3
   },
   "file_extension": ".py",
   "mimetype": "text/x-python",
   "name": "python",
   "nbconvert_exporter": "python",
   "pygments_lexer": "ipython3",
   "version": "3.6.8"
  }
 },
 "nbformat": 4,
 "nbformat_minor": 2
}
