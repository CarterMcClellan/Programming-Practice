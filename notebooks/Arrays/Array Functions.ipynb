{
 "cells": [
  {
   "cell_type": "code",
   "execution_count": 10,
   "metadata": {},
   "outputs": [],
   "source": [
    "import random"
   ]
  },
  {
   "cell_type": "markdown",
   "metadata": {},
   "source": [
    "## Arrays"
   ]
  },
  {
   "cell_type": "markdown",
   "metadata": {},
   "source": [
    "#### Slicing"
   ]
  },
  {
   "cell_type": "code",
   "execution_count": 37,
   "metadata": {},
   "outputs": [
    {
     "data": {
      "text/plain": [
       "[4]"
      ]
     },
     "execution_count": 37,
     "metadata": {},
     "output_type": "execute_result"
    }
   ],
   "source": [
    "a = [random.randint(1, 10) for i in range(10)]\n",
    "a[0:1] # slicing not inclusive"
   ]
  },
  {
   "cell_type": "markdown",
   "metadata": {},
   "source": [
    "#### Traversal"
   ]
  },
  {
   "cell_type": "code",
   "execution_count": 8,
   "metadata": {},
   "outputs": [
    {
     "name": "stdout",
     "output_type": "stream",
     "text": [
      "Element Wise Traversal [Forward]\n",
      "0 ,1 ,4 ,9 ,16 ,25 ,36 ,49 ,64 ,81 ,\n",
      " \n",
      "Element Wise Traversal [Backward]\n",
      "81 ,64 ,49 ,36 ,25 ,16 ,9 ,4 ,1 ,0 ,\n",
      "\n",
      "Index Wise Traversal [Forward]\n",
      "0 ,1 ,2 ,3 ,4 ,5 ,6 ,7 ,8 ,9 ,\n",
      "\n",
      "Index Wise Traversal [Backward]\n",
      "9 ,8 ,7 ,6 ,5 ,4 ,3 ,2 ,1 ,"
     ]
    }
   ],
   "source": [
    "a = [i**2 for i in range(10)]\n",
    "\n",
    "print(\"Element Wise Traversal [Forward]\")\n",
    "for val in a:\n",
    "    print(val, \",\", end=\"\")\n",
    "    \n",
    "print(\"\\n \\nElement Wise Traversal [Backward]\")\n",
    "for val in reversed(a):\n",
    "    print(val, \",\", end=\"\")\n",
    "\n",
    "print(\"\\n\\nIndex Wise Traversal [Forward]\")\n",
    "for idx in range(len(a)):\n",
    "    print(idx, \",\", end=\"\")\n",
    "\n",
    "print(\"\\n\\nIndex Wise Traversal [Backward]\")\n",
    "for idx in range(len(a)-1, 0, -1):\n",
    "    print(idx, \",\", end=\"\")"
   ]
  },
  {
   "cell_type": "markdown",
   "metadata": {},
   "source": [
    "#### Sorting\n",
    "- default: ascending\n",
    "- reverse parameter\n",
    "- key parameter"
   ]
  },
  {
   "cell_type": "code",
   "execution_count": 15,
   "metadata": {},
   "outputs": [
    {
     "name": "stdout",
     "output_type": "stream",
     "text": [
      "Before sort [1, 1, 3, 5, 10, 3, 1, 1, 1, 3] \n",
      "After sort [1, 1, 1, 1, 1, 3, 3, 3, 5, 10]\n"
     ]
    }
   ],
   "source": [
    "a = [random.randint(1, 10) for i in range(10)]\n",
    "print(\"Before sort\", a, \"\\nAfter sort\", sorted(a))"
   ]
  },
  {
   "cell_type": "code",
   "execution_count": 17,
   "metadata": {},
   "outputs": [
    {
     "name": "stdout",
     "output_type": "stream",
     "text": [
      "Before sort [1, 1, 3, 5, 10, 3, 1, 1, 1, 3] \n",
      "After sort [10, 5, 3, 3, 3, 1, 1, 1, 1, 1]\n"
     ]
    }
   ],
   "source": [
    "print(\"Before sort\", a, \"\\nAfter sort\", sorted(a, reverse=True))"
   ]
  },
  {
   "cell_type": "code",
   "execution_count": 18,
   "metadata": {},
   "outputs": [
    {
     "name": "stdout",
     "output_type": "stream",
     "text": [
      "Before sort [('john', 'A', 15), ('jane', 'B', 12), ('dave', 'B', 10)] \n",
      "After Sort [('dave', 'B', 10), ('jane', 'B', 12), ('john', 'A', 15)]\n"
     ]
    }
   ],
   "source": [
    "student_tuples = [\n",
    "    ('john', 'A', 15),\n",
    "    ('jane', 'B', 12),\n",
    "    ('dave', 'B', 10),\n",
    "]\n",
    "print(\"Before sort\", student_tuples, \"\\nAfter Sort\", sorted(student_tuples, key=lambda student: student[2]))"
   ]
  },
  {
   "cell_type": "markdown",
   "metadata": {},
   "source": [
    "#### Reverse a list"
   ]
  },
  {
   "cell_type": "code",
   "execution_count": 11,
   "metadata": {},
   "outputs": [
    {
     "name": "stdout",
     "output_type": "stream",
     "text": [
      "Before reverse [3, 7, 2, 4, 10, 3, 5, 10, 9, 5] \n",
      "After reverse [5, 9, 10, 5, 3, 10, 4, 2, 7, 3]\n"
     ]
    }
   ],
   "source": [
    "a = [random.randint(1, 10) for i in range(10)]\n",
    "print(\"Before reverse\", a, \"\\nAfter reverse\", a[::-1])"
   ]
  },
  {
   "cell_type": "code",
   "execution_count": 36,
   "metadata": {},
   "outputs": [
    {
     "name": "stdout",
     "output_type": "stream",
     "text": [
      "Before [0, 1, 2, 3, 4, 5, 6, 7, 8, 9]\n",
      "Verbose Swap [2, 1, 0, 3, 4, 5, 6, 7, 8, 9]\n",
      "Simple Swap [2, 1, 0, 3, 4, 5, 6, 7, 8, 9]\n"
     ]
    }
   ],
   "source": [
    "def verbose_swap(i, j, arr):\n",
    "    tmp = arr[i]\n",
    "    arr[i] = arr[j]\n",
    "    arr[j] = tmp\n",
    "    return arr\n",
    "\n",
    "def simple_swap(i, j, arr):\n",
    "    arr[i], arr[j] = arr[j], arr[i]\n",
    "    return arr\n",
    "\n",
    "a = [i for i in range(10)]\n",
    "print(\"Before\", a)\n",
    "print(\"Verbose Swap\", verbose_swap(0, 2, a))\n",
    "a = [i for i in range(10)]\n",
    "print(\"Simple Swap\", simple_swap(0, 2, a))"
   ]
  },
  {
   "cell_type": "markdown",
   "metadata": {},
   "source": [
    "#### Generating and Cating Lists"
   ]
  },
  {
   "cell_type": "code",
   "execution_count": 11,
   "metadata": {},
   "outputs": [
    {
     "name": "stdout",
     "output_type": "stream",
     "text": [
      "[1, 1, 1, 1, 1, 1, 1, 1, 1, 1]\n"
     ]
    }
   ],
   "source": [
    "a = [1] * 10\n",
    "print(a)"
   ]
  },
  {
   "cell_type": "code",
   "execution_count": 14,
   "metadata": {},
   "outputs": [
    {
     "name": "stdout",
     "output_type": "stream",
     "text": [
      "[1, 1, 1, 1, 1, 1, 1, 1, 1, 1, 2, 2, 2, 2, 2]\n"
     ]
    }
   ],
   "source": [
    "a = [1] * 10\n",
    "b = [2] * 5\n",
    "print(a + b)"
   ]
  },
  {
   "cell_type": "markdown",
   "metadata": {},
   "source": [
    "#### List -> String"
   ]
  },
  {
   "cell_type": "code",
   "execution_count": 19,
   "metadata": {},
   "outputs": [
    {
     "data": {
      "text/plain": [
       "'hello world hello world hello world hello world hello world '"
      ]
     },
     "execution_count": 19,
     "metadata": {},
     "output_type": "execute_result"
    }
   ],
   "source": [
    "a = [\"hello world \"] * 5\n",
    "\"\".join(a)"
   ]
  }
 ],
 "metadata": {
  "kernelspec": {
   "display_name": "Python 3",
   "language": "python",
   "name": "python3"
  },
  "language_info": {
   "codemirror_mode": {
    "name": "ipython",
    "version": 3
   },
   "file_extension": ".py",
   "mimetype": "text/x-python",
   "name": "python",
   "nbconvert_exporter": "python",
   "pygments_lexer": "ipython3",
   "version": "3.6.8"
  }
 },
 "nbformat": 4,
 "nbformat_minor": 2
}
