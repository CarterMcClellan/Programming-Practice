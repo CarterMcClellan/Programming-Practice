{
 "cells": [
  {
   "cell_type": "markdown",
   "metadata": {},
   "source": [
    "### Trees"
   ]
  },
  {
   "cell_type": "markdown",
   "metadata": {},
   "source": [
    "#### Convert a sorted array to a height balanced bst"
   ]
  },
  {
   "cell_type": "code",
   "execution_count": 4,
   "metadata": {},
   "outputs": [],
   "source": [
    "class TreeNode(object):\n",
    "    def __init__(self, x):\n",
    "        self.val = x\n",
    "        self.left = None\n",
    "        self.right = None\n",
    "\n",
    "\n",
    "def array_to_bst(nums):\n",
    "    if not nums:\n",
    "        return None\n",
    "    mid = len(nums)//2\n",
    "    node = TreeNode(nums[mid])\n",
    "    node.left = array_to_bst(nums[:mid])\n",
    "    node.right = array_to_bst(nums[mid+1:])\n",
    "    return node\n",
    "\n",
    "temp = [i for i in range(10)]\n",
    "root = array_to_bst(temp)"
   ]
  },
  {
   "cell_type": "markdown",
   "metadata": {},
   "source": [
    "#### Preform an in-order, pre-order, and back-order search on the Tree"
   ]
  },
  {
   "cell_type": "code",
   "execution_count": 9,
   "metadata": {},
   "outputs": [],
   "source": [
    "def preorder(root):\n",
    "    if root:\n",
    "        print(root.val, end=\" \")\n",
    "        preorder(root.left)\n",
    "        preorder(root.right)\n",
    "        \n",
    "def inorder(root):\n",
    "    if root:\n",
    "        inorder(root.left)\n",
    "        print(root.val, end=\" \")\n",
    "        inorder(root.right)\n",
    "        \n",
    "def backorder(root):\n",
    "    if root:\n",
    "        backorder(root.right)\n",
    "        print(root.val, end=\" \")\n",
    "        backorder(root.left)"
   ]
  },
  {
   "cell_type": "code",
   "execution_count": 14,
   "metadata": {},
   "outputs": [
    {
     "name": "stdout",
     "output_type": "stream",
     "text": [
      "Pre-Order\n",
      "5 2 1 0 4 3 8 7 6 9 \n",
      "\n",
      "In-Order\n",
      "0 1 2 3 4 5 6 7 8 9 \n",
      "\n",
      "Back-Order\n",
      "9 8 7 6 5 4 3 2 1 0 "
     ]
    }
   ],
   "source": [
    "print(\"Pre-Order\")\n",
    "preorder(root)\n",
    "\n",
    "print(\"\\n\\nIn-Order\")\n",
    "inorder(root)\n",
    "\n",
    "print(\"\\n\\nBack-Order\")\n",
    "backorder(root)"
   ]
  }
 ],
 "metadata": {
  "kernelspec": {
   "display_name": "Python 3",
   "language": "python",
   "name": "python3"
  },
  "language_info": {
   "codemirror_mode": {
    "name": "ipython",
    "version": 3
   },
   "file_extension": ".py",
   "mimetype": "text/x-python",
   "name": "python",
   "nbconvert_exporter": "python",
   "pygments_lexer": "ipython3",
   "version": "3.6.8"
  }
 },
 "nbformat": 4,
 "nbformat_minor": 2
}
