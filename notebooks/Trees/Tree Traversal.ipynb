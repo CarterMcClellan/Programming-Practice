{
 "cells": [
  {
   "cell_type": "code",
   "execution_count": 9,
   "metadata": {},
   "outputs": [],
   "source": [
    "import random\n",
    "from collections import deque\n",
    "from tree_create import create_bin_tree"
   ]
  },
  {
   "cell_type": "code",
   "execution_count": 2,
   "metadata": {},
   "outputs": [
    {
     "name": "stdout",
     "output_type": "stream",
     "text": [
      "[0, 1, 2, 3, 4, 5, 6, 7, 8, 9]\n"
     ]
    }
   ],
   "source": [
    "input_nodes = [i for i in range(10)]\n",
    "print(input_nodes)\n",
    "root = create_bin_tree(input_nodes)"
   ]
  },
  {
   "cell_type": "markdown",
   "metadata": {},
   "source": [
    "### Depth First Search\n",
    "- Pre Order\n",
    "- In Order\n",
    "- Back Order"
   ]
  },
  {
   "cell_type": "code",
   "execution_count": 3,
   "metadata": {},
   "outputs": [],
   "source": [
    "def preorder(root):\n",
    "    if root:\n",
    "        print(root.val, end=\" \")\n",
    "        preorder(root.left)\n",
    "        preorder(root.right)\n",
    "        \n",
    "def inorder(root):\n",
    "    if root:\n",
    "        inorder(root.left)\n",
    "        print(root.val, end=\" \")\n",
    "        inorder(root.right)\n",
    "        \n",
    "def backorder(root):\n",
    "    if root:\n",
    "        backorder(root.right)\n",
    "        print(root.val, end=\" \")\n",
    "        backorder(root.left)"
   ]
  },
  {
   "cell_type": "code",
   "execution_count": 4,
   "metadata": {},
   "outputs": [
    {
     "name": "stdout",
     "output_type": "stream",
     "text": [
      "Pre Order\n",
      "5 2 1 0 4 3 8 7 6 9 None \n",
      "\n",
      "In Order\n",
      "0 1 2 3 4 5 6 7 8 9 None \n",
      "\n",
      "Back Order\n",
      "9 8 7 6 5 4 3 2 1 0 None\n"
     ]
    }
   ],
   "source": [
    "print(\"Pre Order\")\n",
    "print(preorder(root), \"\\n\")\n",
    "\n",
    "print(\"In Order\")\n",
    "print(inorder(root), \"\\n\")\n",
    "\n",
    "print(\"Back Order\")\n",
    "print(backorder(root))"
   ]
  },
  {
   "cell_type": "markdown",
   "metadata": {},
   "source": [
    "### Breadth First Search\n",
    "- List implementation\n",
    "- Collections Deque Implementation"
   ]
  },
  {
   "cell_type": "code",
   "execution_count": 14,
   "metadata": {},
   "outputs": [],
   "source": [
    "def bfs_list(root):\n",
    "    stack = [root]\n",
    "    visit_order = []\n",
    "    while stack: \n",
    "        curr = stack.pop(0) # O(N)\n",
    "        visit_order.append(curr.val) \n",
    "        if curr.left: stack += [curr.left] # O(N)\n",
    "        if curr.right: stack += [curr.right]\n",
    "    return visit_order\n",
    "\n",
    "def bfs_stack(root):\n",
    "    stack = deque(); stack.append(root)\n",
    "    visit_order = []\n",
    "    while stack:\n",
    "        curr = stack.popleft() # O(1)\n",
    "        visit_order.append(curr.val)\n",
    "        if curr.left: stack.append(curr.left)\n",
    "        if curr.right: stack.append(curr.right)\n",
    "    return visit_order"
   ]
  },
  {
   "cell_type": "code",
   "execution_count": 15,
   "metadata": {},
   "outputs": [
    {
     "name": "stdout",
     "output_type": "stream",
     "text": [
      "Bfs List\n",
      "[5, 2, 8, 1, 4, 7, 9, 0, 3, 6]\n",
      "Bfs Stack\n",
      "[5, 2, 8, 1, 4, 7, 9, 0, 3, 6]\n"
     ]
    }
   ],
   "source": [
    "print(\"Bfs List\")\n",
    "print(bfs_list(root))\n",
    "\n",
    "print(\"Bfs Stack\")\n",
    "print(bfs_stack(root))"
   ]
  }
 ],
 "metadata": {
  "kernelspec": {
   "display_name": "Python 3",
   "language": "python",
   "name": "python3"
  },
  "language_info": {
   "codemirror_mode": {
    "name": "ipython",
    "version": 3
   },
   "file_extension": ".py",
   "mimetype": "text/x-python",
   "name": "python",
   "nbconvert_exporter": "python",
   "pygments_lexer": "ipython3",
   "version": "3.6.8"
  }
 },
 "nbformat": 4,
 "nbformat_minor": 2
}
