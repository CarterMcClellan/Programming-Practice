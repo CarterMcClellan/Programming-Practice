{
 "cells": [
  {
   "cell_type": "code",
   "execution_count": 6,
   "metadata": {},
   "outputs": [
    {
     "name": "stdout",
     "output_type": "stream",
     "text": [
      "2\n"
     ]
    }
   ],
   "source": [
    "def num_islands(matrix):\n",
    "    def dfs(matrix, x, y):\n",
    "        if x >= len(matrix) or x < 0 or y >= len(matrix[0]) or y < 0 or matrix[x][y] == \"#\":\n",
    "            return\n",
    "        elif matrix[x][y] == 1:\n",
    "            matrix[x][y] = \"#\"\n",
    "            dfs(matrix, x+1, y)\n",
    "            dfs(matrix, x-1, y)\n",
    "            dfs(matrix, x, y+1)\n",
    "            dfs(matrix, x, y-1)\n",
    "\n",
    "    island_count = 0\n",
    "    for i in range(len(matrix)):\n",
    "        for j in range(len(matrix[0])):\n",
    "            if matrix[i][j] == 1:\n",
    "                dfs(matrix, i, j) # mark the island\n",
    "                island_count += 1\n",
    "    return island_count\n",
    "\n",
    "matrix = [\n",
    "    [1, 1, 1, 1, 1, 0, 0],\n",
    "    [1, 1, 1, 1, 0, 0, 0],\n",
    "    [1, 0, 0, 0, 0, 0, 0],\n",
    "    [0, 0, 0, 0, 0, 0, 0],\n",
    "    [0, 0, 0, 0, 0, 1, 1],\n",
    "    [0, 0, 0, 0, 0, 1, 1]\n",
    "]\n",
    "print(num_islands(matrix))"
   ]
  },
  {
   "cell_type": "code",
   "execution_count": 8,
   "metadata": {},
   "outputs": [
    {
     "data": {
      "text/plain": [
       "True"
      ]
     },
     "execution_count": 8,
     "metadata": {},
     "output_type": "execute_result"
    }
   ],
   "source": [
    "def exist(board, word):\n",
    "    # check whether can find word, start at (i,j) position    \n",
    "    def dfs(board, i, j, word):\n",
    "        if len(word) == 0: # all the characters are checked\n",
    "            return True\n",
    "        if i<0 or i>=len(board) or j<0 or j>=len(board[0]) or word[0]!=board[i][j]:\n",
    "            return False\n",
    "        tmp = board[i][j]  # first character is found, check the remaining part\n",
    "        board[i][j] = \"#\"  # avoid visit agian \n",
    "        \n",
    "        res = dfs(board, i+1, j, word[1:]) or dfs(board, i-1, j, word[1:]) \\\n",
    "                or dfs(board, i, j+1, word[1:]) or dfs(board, i, j-1, word[1:])\n",
    "        \n",
    "        board[i][j] = tmp # after completing the check restore the character\n",
    "        return res\n",
    "    \n",
    "    for i in range(len(board)):\n",
    "        for j in range(len(board[0])): \n",
    "            if dfs(board, i, j, word):\n",
    "                return True\n",
    "    return False\n",
    "\n",
    "board = [\n",
    "    [\"A\",\"B\",\"C\",\"E\"],\n",
    "    [\"S\",\"F\",\"C\",\"S\"],\n",
    "    [\"A\",\"D\",\"E\",\"E\"]\n",
    "]\n",
    "word = \"ABCCED\"\n",
    "exist(board, word)"
   ]
  }
 ],
 "metadata": {
  "kernelspec": {
   "display_name": "Python 3",
   "language": "python",
   "name": "python3"
  },
  "language_info": {
   "codemirror_mode": {
    "name": "ipython",
    "version": 3
   },
   "file_extension": ".py",
   "mimetype": "text/x-python",
   "name": "python",
   "nbconvert_exporter": "python",
   "pygments_lexer": "ipython3",
   "version": "3.6.8"
  }
 },
 "nbformat": 4,
 "nbformat_minor": 2
}
